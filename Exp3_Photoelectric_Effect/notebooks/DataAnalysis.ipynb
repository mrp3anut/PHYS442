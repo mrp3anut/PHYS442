{
 "cells": [
  {
   "cell_type": "code",
   "execution_count": 932,
   "metadata": {},
   "outputs": [],
   "source": [
    "import pandas as pd\n",
    "from glob import glob\n",
    "import ROOT as r\n",
    "import matplotlib.pyplot as plt"
   ]
  },
  {
   "cell_type": "markdown",
   "metadata": {},
   "source": [
    "# Data Cleaning and Preparation"
   ]
  },
  {
   "cell_type": "code",
   "execution_count": 933,
   "metadata": {},
   "outputs": [],
   "source": [
    "dxs = glob(\"../data/Data/*\")"
   ]
  },
  {
   "cell_type": "code",
   "execution_count": 934,
   "metadata": {},
   "outputs": [
    {
     "data": {
      "text/plain": [
       "['../data/Data/Yellow.tsv',\n",
       " '../data/Data/Blue.tsv',\n",
       " '../data/Data/Green.tsv',\n",
       " '../data/Data/Violet.tsv',\n",
       " '../data/Data/Cyan.tsv']"
      ]
     },
     "execution_count": 934,
     "metadata": {},
     "output_type": "execute_result"
    }
   ],
   "source": [
    "dxs"
   ]
  },
  {
   "cell_type": "code",
   "execution_count": 935,
   "metadata": {},
   "outputs": [],
   "source": [
    "#read a tsv file using pandas\n",
    "\n",
    "df = pd.DataFrame()\n",
    "\n",
    "for dx in dxs:\n",
    "    tmp = pd.read_csv(dx, sep='\\t')\n",
    "    tmp[\"color\"] = dx[13:-4]\n",
    "    df = pd.concat((df,tmp))"
   ]
  },
  {
   "cell_type": "code",
   "execution_count": 936,
   "metadata": {},
   "outputs": [
    {
     "data": {
      "text/html": [
       "<div>\n",
       "<style scoped>\n",
       "    .dataframe tbody tr th:only-of-type {\n",
       "        vertical-align: middle;\n",
       "    }\n",
       "\n",
       "    .dataframe tbody tr th {\n",
       "        vertical-align: top;\n",
       "    }\n",
       "\n",
       "    .dataframe thead th {\n",
       "        text-align: right;\n",
       "    }\n",
       "</style>\n",
       "<table border=\"1\" class=\"dataframe\">\n",
       "  <thead>\n",
       "    <tr style=\"text-align: right;\">\n",
       "      <th></th>\n",
       "      <th>Voltage (mV)</th>\n",
       "      <th>Current (mA)</th>\n",
       "      <th>color</th>\n",
       "    </tr>\n",
       "  </thead>\n",
       "  <tbody>\n",
       "    <tr>\n",
       "      <th>0</th>\n",
       "      <td>0,00</td>\n",
       "      <td>2,40</td>\n",
       "      <td>Yellow</td>\n",
       "    </tr>\n",
       "    <tr>\n",
       "      <th>1</th>\n",
       "      <td>54,00</td>\n",
       "      <td>1,70</td>\n",
       "      <td>Yellow</td>\n",
       "    </tr>\n",
       "    <tr>\n",
       "      <th>2</th>\n",
       "      <td>82,90</td>\n",
       "      <td>1,48</td>\n",
       "      <td>Yellow</td>\n",
       "    </tr>\n",
       "    <tr>\n",
       "      <th>3</th>\n",
       "      <td>118,40</td>\n",
       "      <td>1,21</td>\n",
       "      <td>Yellow</td>\n",
       "    </tr>\n",
       "    <tr>\n",
       "      <th>4</th>\n",
       "      <td>181,40</td>\n",
       "      <td>0,74</td>\n",
       "      <td>Yellow</td>\n",
       "    </tr>\n",
       "    <tr>\n",
       "      <th>...</th>\n",
       "      <td>...</td>\n",
       "      <td>...</td>\n",
       "      <td>...</td>\n",
       "    </tr>\n",
       "    <tr>\n",
       "      <th>14</th>\n",
       "      <td>1,136V</td>\n",
       "      <td>-0,13</td>\n",
       "      <td>Cyan</td>\n",
       "    </tr>\n",
       "    <tr>\n",
       "      <th>15</th>\n",
       "      <td>1,263V</td>\n",
       "      <td>-0,13</td>\n",
       "      <td>Cyan</td>\n",
       "    </tr>\n",
       "    <tr>\n",
       "      <th>16</th>\n",
       "      <td>1,461V</td>\n",
       "      <td>-0,15</td>\n",
       "      <td>Cyan</td>\n",
       "    </tr>\n",
       "    <tr>\n",
       "      <th>17</th>\n",
       "      <td>1,621V</td>\n",
       "      <td>-0,14</td>\n",
       "      <td>Cyan</td>\n",
       "    </tr>\n",
       "    <tr>\n",
       "      <th>18</th>\n",
       "      <td>1,846V</td>\n",
       "      <td>-0,16</td>\n",
       "      <td>Cyan</td>\n",
       "    </tr>\n",
       "  </tbody>\n",
       "</table>\n",
       "<p>97 rows × 3 columns</p>\n",
       "</div>"
      ],
      "text/plain": [
       "   Voltage (mV) Current (mA)   color\n",
       "0          0,00         2,40  Yellow\n",
       "1         54,00         1,70  Yellow\n",
       "2         82,90         1,48  Yellow\n",
       "3        118,40         1,21  Yellow\n",
       "4        181,40         0,74  Yellow\n",
       "..          ...          ...     ...\n",
       "14       1,136V        -0,13    Cyan\n",
       "15       1,263V        -0,13    Cyan\n",
       "16       1,461V        -0,15    Cyan\n",
       "17       1,621V        -0,14    Cyan\n",
       "18       1,846V        -0,16    Cyan\n",
       "\n",
       "[97 rows x 3 columns]"
      ]
     },
     "execution_count": 936,
     "metadata": {},
     "output_type": "execute_result"
    }
   ],
   "source": [
    "df"
   ]
  },
  {
   "cell_type": "code",
   "execution_count": 937,
   "metadata": {},
   "outputs": [],
   "source": [
    "def replace_commasep(x):\n",
    "    return x.replace(\",\",\".\")"
   ]
  },
  {
   "cell_type": "code",
   "execution_count": 938,
   "metadata": {},
   "outputs": [],
   "source": [
    "df[\"Voltage (mV)\"] = df[\"Voltage (mV)\"].apply(replace_commasep)\n",
    "df[\"Current (mA)\"] = df[\"Current (mA)\"].apply(replace_commasep)"
   ]
  },
  {
   "cell_type": "code",
   "execution_count": 939,
   "metadata": {},
   "outputs": [
    {
     "data": {
      "text/html": [
       "<div>\n",
       "<style scoped>\n",
       "    .dataframe tbody tr th:only-of-type {\n",
       "        vertical-align: middle;\n",
       "    }\n",
       "\n",
       "    .dataframe tbody tr th {\n",
       "        vertical-align: top;\n",
       "    }\n",
       "\n",
       "    .dataframe thead th {\n",
       "        text-align: right;\n",
       "    }\n",
       "</style>\n",
       "<table border=\"1\" class=\"dataframe\">\n",
       "  <thead>\n",
       "    <tr style=\"text-align: right;\">\n",
       "      <th></th>\n",
       "      <th>Voltage (mV)</th>\n",
       "      <th>Current (mA)</th>\n",
       "      <th>color</th>\n",
       "    </tr>\n",
       "  </thead>\n",
       "  <tbody>\n",
       "    <tr>\n",
       "      <th>0</th>\n",
       "      <td>0.00</td>\n",
       "      <td>2.40</td>\n",
       "      <td>Yellow</td>\n",
       "    </tr>\n",
       "    <tr>\n",
       "      <th>1</th>\n",
       "      <td>54.00</td>\n",
       "      <td>1.70</td>\n",
       "      <td>Yellow</td>\n",
       "    </tr>\n",
       "    <tr>\n",
       "      <th>2</th>\n",
       "      <td>82.90</td>\n",
       "      <td>1.48</td>\n",
       "      <td>Yellow</td>\n",
       "    </tr>\n",
       "    <tr>\n",
       "      <th>3</th>\n",
       "      <td>118.40</td>\n",
       "      <td>1.21</td>\n",
       "      <td>Yellow</td>\n",
       "    </tr>\n",
       "    <tr>\n",
       "      <th>4</th>\n",
       "      <td>181.40</td>\n",
       "      <td>0.74</td>\n",
       "      <td>Yellow</td>\n",
       "    </tr>\n",
       "    <tr>\n",
       "      <th>...</th>\n",
       "      <td>...</td>\n",
       "      <td>...</td>\n",
       "      <td>...</td>\n",
       "    </tr>\n",
       "    <tr>\n",
       "      <th>14</th>\n",
       "      <td>1.136V</td>\n",
       "      <td>-0.13</td>\n",
       "      <td>Cyan</td>\n",
       "    </tr>\n",
       "    <tr>\n",
       "      <th>15</th>\n",
       "      <td>1.263V</td>\n",
       "      <td>-0.13</td>\n",
       "      <td>Cyan</td>\n",
       "    </tr>\n",
       "    <tr>\n",
       "      <th>16</th>\n",
       "      <td>1.461V</td>\n",
       "      <td>-0.15</td>\n",
       "      <td>Cyan</td>\n",
       "    </tr>\n",
       "    <tr>\n",
       "      <th>17</th>\n",
       "      <td>1.621V</td>\n",
       "      <td>-0.14</td>\n",
       "      <td>Cyan</td>\n",
       "    </tr>\n",
       "    <tr>\n",
       "      <th>18</th>\n",
       "      <td>1.846V</td>\n",
       "      <td>-0.16</td>\n",
       "      <td>Cyan</td>\n",
       "    </tr>\n",
       "  </tbody>\n",
       "</table>\n",
       "<p>97 rows × 3 columns</p>\n",
       "</div>"
      ],
      "text/plain": [
       "   Voltage (mV) Current (mA)   color\n",
       "0          0.00         2.40  Yellow\n",
       "1         54.00         1.70  Yellow\n",
       "2         82.90         1.48  Yellow\n",
       "3        118.40         1.21  Yellow\n",
       "4        181.40         0.74  Yellow\n",
       "..          ...          ...     ...\n",
       "14       1.136V        -0.13    Cyan\n",
       "15       1.263V        -0.13    Cyan\n",
       "16       1.461V        -0.15    Cyan\n",
       "17       1.621V        -0.14    Cyan\n",
       "18       1.846V        -0.16    Cyan\n",
       "\n",
       "[97 rows x 3 columns]"
      ]
     },
     "execution_count": 939,
     "metadata": {},
     "output_type": "execute_result"
    }
   ],
   "source": [
    "df"
   ]
  },
  {
   "cell_type": "code",
   "execution_count": 940,
   "metadata": {},
   "outputs": [],
   "source": [
    "def convert_to_floatV(x):\n",
    "    if \"V\" in x:\n",
    "        x = x.replace(\"V\",\"\")\n",
    "        x = float(x)\n",
    "    else:\n",
    "        x = float(x)/1000\n",
    "    return x\n",
    "\n",
    "def convert_to_floatC(x):\n",
    "    x = float(x)/10e12\n",
    "    return x\n",
    "\n",
    "def get_error_voltage(x):\n",
    "    if \"V\" in x:\n",
    "        return 0.001\n",
    "    else:\n",
    "        return 0.1/1000\n",
    "\n",
    "def get_error_current(x):\n",
    "    return 0.01/10e12"
   ]
  },
  {
   "cell_type": "code",
   "execution_count": 941,
   "metadata": {},
   "outputs": [],
   "source": [
    "df[\"errV\"] = df[\"Voltage (mV)\"].apply(get_error_voltage)\n",
    "df[\"errI\"] = df[\"Current (mA)\"].apply(get_error_current)"
   ]
  },
  {
   "cell_type": "code",
   "execution_count": 942,
   "metadata": {},
   "outputs": [],
   "source": [
    "df[\"Voltage (mV)\"] = df[\"Voltage (mV)\"].apply(convert_to_floatV)\n",
    "df[\"Current (mA)\"] = df[\"Current (mA)\"].apply(convert_to_floatC)"
   ]
  },
  {
   "cell_type": "code",
   "execution_count": 943,
   "metadata": {},
   "outputs": [
    {
     "data": {
      "text/html": [
       "<div>\n",
       "<style scoped>\n",
       "    .dataframe tbody tr th:only-of-type {\n",
       "        vertical-align: middle;\n",
       "    }\n",
       "\n",
       "    .dataframe tbody tr th {\n",
       "        vertical-align: top;\n",
       "    }\n",
       "\n",
       "    .dataframe thead th {\n",
       "        text-align: right;\n",
       "    }\n",
       "</style>\n",
       "<table border=\"1\" class=\"dataframe\">\n",
       "  <thead>\n",
       "    <tr style=\"text-align: right;\">\n",
       "      <th></th>\n",
       "      <th>Voltage (mV)</th>\n",
       "      <th>Current (mA)</th>\n",
       "      <th>color</th>\n",
       "      <th>errV</th>\n",
       "      <th>errI</th>\n",
       "    </tr>\n",
       "  </thead>\n",
       "  <tbody>\n",
       "    <tr>\n",
       "      <th>0</th>\n",
       "      <td>0.0000</td>\n",
       "      <td>2.400000e-13</td>\n",
       "      <td>Yellow</td>\n",
       "      <td>0.0001</td>\n",
       "      <td>1.000000e-15</td>\n",
       "    </tr>\n",
       "    <tr>\n",
       "      <th>1</th>\n",
       "      <td>0.0540</td>\n",
       "      <td>1.700000e-13</td>\n",
       "      <td>Yellow</td>\n",
       "      <td>0.0001</td>\n",
       "      <td>1.000000e-15</td>\n",
       "    </tr>\n",
       "    <tr>\n",
       "      <th>2</th>\n",
       "      <td>0.0829</td>\n",
       "      <td>1.480000e-13</td>\n",
       "      <td>Yellow</td>\n",
       "      <td>0.0001</td>\n",
       "      <td>1.000000e-15</td>\n",
       "    </tr>\n",
       "    <tr>\n",
       "      <th>3</th>\n",
       "      <td>0.1184</td>\n",
       "      <td>1.210000e-13</td>\n",
       "      <td>Yellow</td>\n",
       "      <td>0.0001</td>\n",
       "      <td>1.000000e-15</td>\n",
       "    </tr>\n",
       "    <tr>\n",
       "      <th>4</th>\n",
       "      <td>0.1814</td>\n",
       "      <td>7.400000e-14</td>\n",
       "      <td>Yellow</td>\n",
       "      <td>0.0001</td>\n",
       "      <td>1.000000e-15</td>\n",
       "    </tr>\n",
       "    <tr>\n",
       "      <th>...</th>\n",
       "      <td>...</td>\n",
       "      <td>...</td>\n",
       "      <td>...</td>\n",
       "      <td>...</td>\n",
       "      <td>...</td>\n",
       "    </tr>\n",
       "    <tr>\n",
       "      <th>14</th>\n",
       "      <td>1.1360</td>\n",
       "      <td>-1.300000e-14</td>\n",
       "      <td>Cyan</td>\n",
       "      <td>0.0010</td>\n",
       "      <td>1.000000e-15</td>\n",
       "    </tr>\n",
       "    <tr>\n",
       "      <th>15</th>\n",
       "      <td>1.2630</td>\n",
       "      <td>-1.300000e-14</td>\n",
       "      <td>Cyan</td>\n",
       "      <td>0.0010</td>\n",
       "      <td>1.000000e-15</td>\n",
       "    </tr>\n",
       "    <tr>\n",
       "      <th>16</th>\n",
       "      <td>1.4610</td>\n",
       "      <td>-1.500000e-14</td>\n",
       "      <td>Cyan</td>\n",
       "      <td>0.0010</td>\n",
       "      <td>1.000000e-15</td>\n",
       "    </tr>\n",
       "    <tr>\n",
       "      <th>17</th>\n",
       "      <td>1.6210</td>\n",
       "      <td>-1.400000e-14</td>\n",
       "      <td>Cyan</td>\n",
       "      <td>0.0010</td>\n",
       "      <td>1.000000e-15</td>\n",
       "    </tr>\n",
       "    <tr>\n",
       "      <th>18</th>\n",
       "      <td>1.8460</td>\n",
       "      <td>-1.600000e-14</td>\n",
       "      <td>Cyan</td>\n",
       "      <td>0.0010</td>\n",
       "      <td>1.000000e-15</td>\n",
       "    </tr>\n",
       "  </tbody>\n",
       "</table>\n",
       "<p>97 rows × 5 columns</p>\n",
       "</div>"
      ],
      "text/plain": [
       "    Voltage (mV)  Current (mA)   color    errV          errI\n",
       "0         0.0000  2.400000e-13  Yellow  0.0001  1.000000e-15\n",
       "1         0.0540  1.700000e-13  Yellow  0.0001  1.000000e-15\n",
       "2         0.0829  1.480000e-13  Yellow  0.0001  1.000000e-15\n",
       "3         0.1184  1.210000e-13  Yellow  0.0001  1.000000e-15\n",
       "4         0.1814  7.400000e-14  Yellow  0.0001  1.000000e-15\n",
       "..           ...           ...     ...     ...           ...\n",
       "14        1.1360 -1.300000e-14    Cyan  0.0010  1.000000e-15\n",
       "15        1.2630 -1.300000e-14    Cyan  0.0010  1.000000e-15\n",
       "16        1.4610 -1.500000e-14    Cyan  0.0010  1.000000e-15\n",
       "17        1.6210 -1.400000e-14    Cyan  0.0010  1.000000e-15\n",
       "18        1.8460 -1.600000e-14    Cyan  0.0010  1.000000e-15\n",
       "\n",
       "[97 rows x 5 columns]"
      ]
     },
     "execution_count": 943,
     "metadata": {},
     "output_type": "execute_result"
    }
   ],
   "source": [
    "df"
   ]
  },
  {
   "cell_type": "code",
   "execution_count": 944,
   "metadata": {},
   "outputs": [],
   "source": [
    "df = df.rename(columns={\"Voltage (mV)\":\"Voltage (V)\", \"Current (mA)\":\"Current (A)\"})"
   ]
  },
  {
   "cell_type": "code",
   "execution_count": 945,
   "metadata": {},
   "outputs": [
    {
     "data": {
      "text/html": [
       "<div>\n",
       "<style scoped>\n",
       "    .dataframe tbody tr th:only-of-type {\n",
       "        vertical-align: middle;\n",
       "    }\n",
       "\n",
       "    .dataframe tbody tr th {\n",
       "        vertical-align: top;\n",
       "    }\n",
       "\n",
       "    .dataframe thead th {\n",
       "        text-align: right;\n",
       "    }\n",
       "</style>\n",
       "<table border=\"1\" class=\"dataframe\">\n",
       "  <thead>\n",
       "    <tr style=\"text-align: right;\">\n",
       "      <th></th>\n",
       "      <th>Voltage (V)</th>\n",
       "      <th>Current (A)</th>\n",
       "      <th>color</th>\n",
       "      <th>errV</th>\n",
       "      <th>errI</th>\n",
       "    </tr>\n",
       "  </thead>\n",
       "  <tbody>\n",
       "    <tr>\n",
       "      <th>0</th>\n",
       "      <td>0.0000</td>\n",
       "      <td>2.400000e-13</td>\n",
       "      <td>Yellow</td>\n",
       "      <td>0.0001</td>\n",
       "      <td>1.000000e-15</td>\n",
       "    </tr>\n",
       "    <tr>\n",
       "      <th>1</th>\n",
       "      <td>0.0540</td>\n",
       "      <td>1.700000e-13</td>\n",
       "      <td>Yellow</td>\n",
       "      <td>0.0001</td>\n",
       "      <td>1.000000e-15</td>\n",
       "    </tr>\n",
       "    <tr>\n",
       "      <th>2</th>\n",
       "      <td>0.0829</td>\n",
       "      <td>1.480000e-13</td>\n",
       "      <td>Yellow</td>\n",
       "      <td>0.0001</td>\n",
       "      <td>1.000000e-15</td>\n",
       "    </tr>\n",
       "    <tr>\n",
       "      <th>3</th>\n",
       "      <td>0.1184</td>\n",
       "      <td>1.210000e-13</td>\n",
       "      <td>Yellow</td>\n",
       "      <td>0.0001</td>\n",
       "      <td>1.000000e-15</td>\n",
       "    </tr>\n",
       "    <tr>\n",
       "      <th>4</th>\n",
       "      <td>0.1814</td>\n",
       "      <td>7.400000e-14</td>\n",
       "      <td>Yellow</td>\n",
       "      <td>0.0001</td>\n",
       "      <td>1.000000e-15</td>\n",
       "    </tr>\n",
       "    <tr>\n",
       "      <th>...</th>\n",
       "      <td>...</td>\n",
       "      <td>...</td>\n",
       "      <td>...</td>\n",
       "      <td>...</td>\n",
       "      <td>...</td>\n",
       "    </tr>\n",
       "    <tr>\n",
       "      <th>14</th>\n",
       "      <td>1.1360</td>\n",
       "      <td>-1.300000e-14</td>\n",
       "      <td>Cyan</td>\n",
       "      <td>0.0010</td>\n",
       "      <td>1.000000e-15</td>\n",
       "    </tr>\n",
       "    <tr>\n",
       "      <th>15</th>\n",
       "      <td>1.2630</td>\n",
       "      <td>-1.300000e-14</td>\n",
       "      <td>Cyan</td>\n",
       "      <td>0.0010</td>\n",
       "      <td>1.000000e-15</td>\n",
       "    </tr>\n",
       "    <tr>\n",
       "      <th>16</th>\n",
       "      <td>1.4610</td>\n",
       "      <td>-1.500000e-14</td>\n",
       "      <td>Cyan</td>\n",
       "      <td>0.0010</td>\n",
       "      <td>1.000000e-15</td>\n",
       "    </tr>\n",
       "    <tr>\n",
       "      <th>17</th>\n",
       "      <td>1.6210</td>\n",
       "      <td>-1.400000e-14</td>\n",
       "      <td>Cyan</td>\n",
       "      <td>0.0010</td>\n",
       "      <td>1.000000e-15</td>\n",
       "    </tr>\n",
       "    <tr>\n",
       "      <th>18</th>\n",
       "      <td>1.8460</td>\n",
       "      <td>-1.600000e-14</td>\n",
       "      <td>Cyan</td>\n",
       "      <td>0.0010</td>\n",
       "      <td>1.000000e-15</td>\n",
       "    </tr>\n",
       "  </tbody>\n",
       "</table>\n",
       "<p>97 rows × 5 columns</p>\n",
       "</div>"
      ],
      "text/plain": [
       "    Voltage (V)   Current (A)   color    errV          errI\n",
       "0        0.0000  2.400000e-13  Yellow  0.0001  1.000000e-15\n",
       "1        0.0540  1.700000e-13  Yellow  0.0001  1.000000e-15\n",
       "2        0.0829  1.480000e-13  Yellow  0.0001  1.000000e-15\n",
       "3        0.1184  1.210000e-13  Yellow  0.0001  1.000000e-15\n",
       "4        0.1814  7.400000e-14  Yellow  0.0001  1.000000e-15\n",
       "..          ...           ...     ...     ...           ...\n",
       "14       1.1360 -1.300000e-14    Cyan  0.0010  1.000000e-15\n",
       "15       1.2630 -1.300000e-14    Cyan  0.0010  1.000000e-15\n",
       "16       1.4610 -1.500000e-14    Cyan  0.0010  1.000000e-15\n",
       "17       1.6210 -1.400000e-14    Cyan  0.0010  1.000000e-15\n",
       "18       1.8460 -1.600000e-14    Cyan  0.0010  1.000000e-15\n",
       "\n",
       "[97 rows x 5 columns]"
      ]
     },
     "execution_count": 945,
     "metadata": {},
     "output_type": "execute_result"
    }
   ],
   "source": [
    "df"
   ]
  },
  {
   "cell_type": "code",
   "execution_count": 946,
   "metadata": {},
   "outputs": [],
   "source": [
    "colors=[]\n",
    "for dx in dxs:\n",
    "    colors.append(dx[13:-4])"
   ]
  },
  {
   "cell_type": "code",
   "execution_count": 947,
   "metadata": {},
   "outputs": [
    {
     "data": {
      "text/plain": [
       "['Yellow', 'Blue', 'Green', 'Violet', 'Cyan']"
      ]
     },
     "execution_count": 947,
     "metadata": {},
     "output_type": "execute_result"
    }
   ],
   "source": [
    "colors"
   ]
  },
  {
   "cell_type": "code",
   "execution_count": 948,
   "metadata": {},
   "outputs": [
    {
     "data": {
      "image/png": "[encoded data removed]",
      "text/plain": [
       "<Figure size 640x480 with 1 Axes>"
      ]
     },
     "metadata": {},
     "output_type": "display_data"
    },
    {
     "data": {
      "image/png": "[encoded data removed]",
      "text/plain": [
       "<Figure size 640x480 with 1 Axes>"
      ]
     },
     "metadata": {},
     "output_type": "display_data"
    },
    {
     "data": {
      "image/png": "[encoded data removed]",
      "text/plain": [
       "<Figure size 640x480 with 1 Axes>"
      ]
     },
     "metadata": {},
     "output_type": "display_data"
    },
    {
     "data": {
      "image/png": "[encoded data removed]",
      "text/plain": [
       "<Figure size 640x480 with 1 Axes>"
      ]
     },
     "metadata": {},
     "output_type": "display_data"
    },
    {
     "data": {
      "image/png": "[encoded data removed]",
      "text/plain": [
       "<Figure size 640x480 with 1 Axes>"
      ]
     },
     "metadata": {},
     "output_type": "display_data"
    }
   ],
   "source": [
    "for color in colors:\n",
    "    tmp = df[df[\"color\"]==color]\n",
    "    tmp.plot.scatter(x=\"Voltage (V)\", y=\"Current (A)\", label=color)\n",
    "    plt.axhline(y=0, color=\"black\")"
   ]
  },
  {
   "cell_type": "code",
   "execution_count": 949,
   "metadata": {},
   "outputs": [
    {
     "data": {
      "text/html": [
       "<div>\n",
       "<style scoped>\n",
       "    .dataframe tbody tr th:only-of-type {\n",
       "        vertical-align: middle;\n",
       "    }\n",
       "\n",
       "    .dataframe tbody tr th {\n",
       "        vertical-align: top;\n",
       "    }\n",
       "\n",
       "    .dataframe thead th {\n",
       "        text-align: right;\n",
       "    }\n",
       "</style>\n",
       "<table border=\"1\" class=\"dataframe\">\n",
       "  <thead>\n",
       "    <tr style=\"text-align: right;\">\n",
       "      <th></th>\n",
       "      <th>Voltage (V)</th>\n",
       "      <th>Current (A)</th>\n",
       "      <th>color</th>\n",
       "      <th>errV</th>\n",
       "      <th>errI</th>\n",
       "    </tr>\n",
       "  </thead>\n",
       "  <tbody>\n",
       "    <tr>\n",
       "      <th>0</th>\n",
       "      <td>0.0000</td>\n",
       "      <td>2.400000e-13</td>\n",
       "      <td>Yellow</td>\n",
       "      <td>0.0001</td>\n",
       "      <td>1.000000e-15</td>\n",
       "    </tr>\n",
       "    <tr>\n",
       "      <th>1</th>\n",
       "      <td>0.0540</td>\n",
       "      <td>1.700000e-13</td>\n",
       "      <td>Yellow</td>\n",
       "      <td>0.0001</td>\n",
       "      <td>1.000000e-15</td>\n",
       "    </tr>\n",
       "    <tr>\n",
       "      <th>2</th>\n",
       "      <td>0.0829</td>\n",
       "      <td>1.480000e-13</td>\n",
       "      <td>Yellow</td>\n",
       "      <td>0.0001</td>\n",
       "      <td>1.000000e-15</td>\n",
       "    </tr>\n",
       "    <tr>\n",
       "      <th>3</th>\n",
       "      <td>0.1184</td>\n",
       "      <td>1.210000e-13</td>\n",
       "      <td>Yellow</td>\n",
       "      <td>0.0001</td>\n",
       "      <td>1.000000e-15</td>\n",
       "    </tr>\n",
       "    <tr>\n",
       "      <th>4</th>\n",
       "      <td>0.1814</td>\n",
       "      <td>7.400000e-14</td>\n",
       "      <td>Yellow</td>\n",
       "      <td>0.0001</td>\n",
       "      <td>1.000000e-15</td>\n",
       "    </tr>\n",
       "    <tr>\n",
       "      <th>...</th>\n",
       "      <td>...</td>\n",
       "      <td>...</td>\n",
       "      <td>...</td>\n",
       "      <td>...</td>\n",
       "      <td>...</td>\n",
       "    </tr>\n",
       "    <tr>\n",
       "      <th>14</th>\n",
       "      <td>1.1360</td>\n",
       "      <td>-1.300000e-14</td>\n",
       "      <td>Cyan</td>\n",
       "      <td>0.0010</td>\n",
       "      <td>1.000000e-15</td>\n",
       "    </tr>\n",
       "    <tr>\n",
       "      <th>15</th>\n",
       "      <td>1.2630</td>\n",
       "      <td>-1.300000e-14</td>\n",
       "      <td>Cyan</td>\n",
       "      <td>0.0010</td>\n",
       "      <td>1.000000e-15</td>\n",
       "    </tr>\n",
       "    <tr>\n",
       "      <th>16</th>\n",
       "      <td>1.4610</td>\n",
       "      <td>-1.500000e-14</td>\n",
       "      <td>Cyan</td>\n",
       "      <td>0.0010</td>\n",
       "      <td>1.000000e-15</td>\n",
       "    </tr>\n",
       "    <tr>\n",
       "      <th>17</th>\n",
       "      <td>1.6210</td>\n",
       "      <td>-1.400000e-14</td>\n",
       "      <td>Cyan</td>\n",
       "      <td>0.0010</td>\n",
       "      <td>1.000000e-15</td>\n",
       "    </tr>\n",
       "    <tr>\n",
       "      <th>18</th>\n",
       "      <td>1.8460</td>\n",
       "      <td>-1.600000e-14</td>\n",
       "      <td>Cyan</td>\n",
       "      <td>0.0010</td>\n",
       "      <td>1.000000e-15</td>\n",
       "    </tr>\n",
       "  </tbody>\n",
       "</table>\n",
       "<p>97 rows × 5 columns</p>\n",
       "</div>"
      ],
      "text/plain": [
       "    Voltage (V)   Current (A)   color    errV          errI\n",
       "0        0.0000  2.400000e-13  Yellow  0.0001  1.000000e-15\n",
       "1        0.0540  1.700000e-13  Yellow  0.0001  1.000000e-15\n",
       "2        0.0829  1.480000e-13  Yellow  0.0001  1.000000e-15\n",
       "3        0.1184  1.210000e-13  Yellow  0.0001  1.000000e-15\n",
       "4        0.1814  7.400000e-14  Yellow  0.0001  1.000000e-15\n",
       "..          ...           ...     ...     ...           ...\n",
       "14       1.1360 -1.300000e-14    Cyan  0.0010  1.000000e-15\n",
       "15       1.2630 -1.300000e-14    Cyan  0.0010  1.000000e-15\n",
       "16       1.4610 -1.500000e-14    Cyan  0.0010  1.000000e-15\n",
       "17       1.6210 -1.400000e-14    Cyan  0.0010  1.000000e-15\n",
       "18       1.8460 -1.600000e-14    Cyan  0.0010  1.000000e-15\n",
       "\n",
       "[97 rows x 5 columns]"
      ]
     },
     "execution_count": 949,
     "metadata": {},
     "output_type": "execute_result"
    }
   ],
   "source": [
    "df"
   ]
  },
  {
   "cell_type": "markdown",
   "metadata": {},
   "source": [
    "# Data Analysis"
   ]
  },
  {
   "cell_type": "code",
   "execution_count": 950,
   "metadata": {},
   "outputs": [],
   "source": [
    "def propagate_error_divmult(f, x, y, unx, uny):\n",
    "    return r.TMath.Sqrt(((unx/x)**2 + (uny/y)**2) * f**2)\n",
    "\n",
    "def propagate_error_power(f, b, x, unx):\n",
    "    return r.TMath.Sqrt((f**2 * b**2 * (unx)**2/x**2))\n",
    "\n",
    "def propagate_error_addsub(unx, uny, a=1, b=1):\n",
    "    return r.TMath.Sqrt((a*unx)**2 + (b*uny)**2)"
   ]
  },
  {
   "cell_type": "code",
   "execution_count": 951,
   "metadata": {},
   "outputs": [],
   "source": [
    "# calculate the intersection for two lines with equation y = mx + c\n",
    "def intersection(m1, c1, m2, c2):\n",
    "    x = (c2-c1)/(m1-m2)\n",
    "    y = m1*x + c1\n",
    "    return x,y"
   ]
  },
  {
   "cell_type": "code",
   "execution_count": 952,
   "metadata": {},
   "outputs": [],
   "source": [
    "def intersection_err(m1, c1, m2, c2, err_m1, err_c1, err_m2, err_c2):\n",
    "    x = (c2-c1)/(m1-m2)\n",
    "    y = m1*x + c1\n",
    "    err_x = propagate_error_divmult(f=x, x=c2-c1, y=m1-m2, unx=(propagate_error_addsub(err_c1,err_c2)), uny=(propagate_error_addsub(err_m1,err_m2)))\n",
    "    err_y = propagate_error_divmult(f=y, x=m1,y=x, unx=err_m1, uny=err_x) + err_c1\n",
    "    return err_x,err_y"
   ]
  },
  {
   "cell_type": "code",
   "execution_count": 953,
   "metadata": {},
   "outputs": [],
   "source": [
    "Vs = {}\n",
    "fit_err = {}\n",
    "intersect_err ={}"
   ]
  },
  {
   "cell_type": "code",
   "execution_count": 954,
   "metadata": {},
   "outputs": [
    {
     "data": {
      "text/plain": [
       "0     0.0001\n",
       "1     0.0001\n",
       "2     0.0001\n",
       "3     0.0001\n",
       "4     0.0001\n",
       "5     0.0001\n",
       "6     0.0001\n",
       "7     0.0001\n",
       "8     0.0010\n",
       "9     0.0010\n",
       "10    0.0010\n",
       "11    0.0010\n",
       "12    0.0010\n",
       "13    0.0010\n",
       "14    0.0010\n",
       "15    0.0010\n",
       "16    0.0010\n",
       "17    0.0010\n",
       "18    0.0010\n",
       "Name: errV, dtype: float64"
      ]
     },
     "execution_count": 954,
     "metadata": {},
     "output_type": "execute_result"
    }
   ],
   "source": [
    "tmp[\"errV\"]"
   ]
  },
  {
   "cell_type": "code",
   "execution_count": 955,
   "metadata": {},
   "outputs": [
    {
     "name": "stdout",
     "output_type": "stream",
     "text": [
      " FCN=21.141 FROM MIGRAD    STATUS=CONVERGED     165 CALLS         166 TOTAL\n",
      "                     EDM=3.94962e-09    STRATEGY= 1      ERROR MATRIX ACCURATE \n",
      "  EXT PARAMETER                                   STEP         FIRST   \n",
      "  NO.   NAME      VALUE            ERROR          SIZE      DERIVATIVE \n",
      "   1  p0          -1.28698e-12   2.48213e-14   4.02577e-18   5.03590e+10\n",
      "   2  p1           9.51060e-13   1.33293e-14   2.16196e-18   9.43389e+10\n",
      " FCN=101.225 FROM MIGRAD    STATUS=CONVERGED      91 CALLS          92 TOTAL\n",
      "                     EDM=4.5235e-13    STRATEGY= 1      ERROR MATRIX ACCURATE \n",
      "  EXT PARAMETER                                   STEP         FIRST   \n",
      "  NO.   NAME      VALUE            ERROR          SIZE      DERIVATIVE \n",
      "   1  p0          -1.61649e-14   1.45564e-15   1.19542e-18   5.82086e+08\n",
      "   2  p1          -2.19564e-14   2.45451e-15   3.00000e-15  -4.28420e+07\n"
     ]
    },
    {
     "data": {
      "image/png": "[encoded data removed]",
      "text/plain": [
       "<IPython.core.display.Image object>"
      ]
     },
     "metadata": {},
     "output_type": "display_data"
    }
   ],
   "source": [
    "tmp = df[df[\"color\"]==\"Blue\"]\n",
    "\n",
    "c = r.TCanvas()\n",
    "gr = r.TGraphErrors(len(tmp),tmp[\"Voltage (V)\"].values, tmp[\"Current (A)\"].values, tmp[\"errV\"].values, tmp[\"errI\"].values)\n",
    "\n",
    "#Set point size\n",
    "gr.SetLineWidth(3)\n",
    "#Set point color\n",
    "gr.SetMarkerColor(r.kRed)\n",
    "#Set axis titles\n",
    "gr.GetXaxis().SetTitle(\"Voltage (V)\")\n",
    "gr.GetYaxis().SetTitle(\"Current (A)\")\n",
    "#Set title\n",
    "gr.SetTitle(\"Blue\")\n",
    "\n",
    "#fit a line\n",
    "f_1 = r.TF1(\"ffline\", \"[0]*x + [1]\",0.4,0.6)\n",
    "f_1.SetParameters(-0.01e-9,0.005e-9)\n",
    "f_1.SetLineWidth(3)\n",
    "f_1.SetLineColor(r.kBlue)\n",
    "gr.Fit(f_1,\"R\")\n",
    "\n",
    "f_2 = r.TF1(\"ffline\", \"[0]*x + [1]\",1.2,2.2)\n",
    "f_2.SetParameters(-0.01e-9,0e-9)\n",
    "f_2.SetLineWidth(3)\n",
    "f_2.SetLineColor(r.kBlue)\n",
    "gr.Fit(f_2,\"R+\")\n",
    "\n",
    "inter = intersection(f_1.GetParameter(0), f_1.GetParameter(1), f_2.GetParameter(0), f_2.GetParameter(1))\n",
    "Vs.update({\"Blue\":inter[0]})\n",
    "\n",
    "fit_err.update({\"Blue\":[f_1.GetParError(0), f_1.GetParError(1), f_2.GetParError(0), f_2.GetParError(1)]})\n",
    "intersect_err.update({\"Blue\":intersection_err(f_1.GetParameter(0), f_1.GetParameter(1), f_2.GetParameter(0), f_2.GetParameter(1), f_1.GetParError(0), f_1.GetParError(1), f_2.GetParError(0), f_2.GetParError(1))})\n",
    "\n",
    "gr.Draw(\"AP*\")\n",
    "c.Draw()"
   ]
  },
  {
   "cell_type": "code",
   "execution_count": 956,
   "metadata": {},
   "outputs": [
    {
     "data": {
      "text/plain": [
       "0     0.001\n",
       "1     0.001\n",
       "2     0.001\n",
       "3     0.001\n",
       "4     0.001\n",
       "5     0.001\n",
       "6     0.001\n",
       "7     0.001\n",
       "8     0.001\n",
       "9     0.001\n",
       "10    0.001\n",
       "11    0.001\n",
       "12    0.001\n",
       "13    0.001\n",
       "14    0.001\n",
       "15    0.001\n",
       "Name: errV, dtype: float64"
      ]
     },
     "execution_count": 956,
     "metadata": {},
     "output_type": "execute_result"
    }
   ],
   "source": [
    "tmp[\"errV\"]"
   ]
  },
  {
   "cell_type": "code",
   "execution_count": 957,
   "metadata": {},
   "outputs": [
    {
     "name": "stdout",
     "output_type": "stream",
     "text": [
      " FCN=70.2059 FROM MIGRAD    STATUS=CONVERGED      73 CALLS          74 TOTAL\n",
      "                     EDM=3.21542e-10    STRATEGY= 1      ERROR MATRIX ACCURATE \n",
      "  EXT PARAMETER                                   STEP         FIRST   \n",
      "  NO.   NAME      VALUE            ERROR          SIZE      DERIVATIVE \n",
      "   1  p0          -1.12319e-12   1.62858e-14   4.04919e-17  -1.26600e+09\n",
      "   2  p1           2.36604e-13   8.33791e-16   2.07309e-18   6.78389e+09\n",
      " FCN=12.3575 FROM MIGRAD    STATUS=CONVERGED     105 CALLS         106 TOTAL\n",
      "                     EDM=3.97128e-13    STRATEGY= 1      ERROR MATRIX ACCURATE \n",
      "  EXT PARAMETER                                   STEP         FIRST   \n",
      "  NO.   NAME      VALUE            ERROR          SIZE      DERIVATIVE \n",
      "   1  p0          -9.05187e-15   9.15046e-16   5.38966e-19  -1.13711e+09\n",
      "   2  p1          -1.91245e-14   1.00997e-15   5.94879e-19  -1.58233e+08\n"
     ]
    },
    {
     "data": {
      "image/png": "[encoded data removed]",
      "text/plain": [
       "<IPython.core.display.Image object>"
      ]
     },
     "metadata": {},
     "output_type": "display_data"
    }
   ],
   "source": [
    "tmp = df[df[\"color\"]==\"Yellow\"]\n",
    "\n",
    "c = r.TCanvas()\n",
    "gr = r.TGraphErrors(len(tmp),tmp[\"Voltage (V)\"].values, tmp[\"Current (A)\"].values, tmp[\"errV\"].values, tmp[\"errI\"].values)\n",
    "\n",
    "#Set point size\n",
    "gr.SetLineWidth(3)\n",
    "#Set point color\n",
    "gr.SetMarkerColor(r.kRed)\n",
    "#Set axis titles\n",
    "gr.GetYaxis().SetTitle(\"Current (A)\")\n",
    "gr.GetXaxis().SetTitle(\"Voltage (V)\")\n",
    "#Set title\n",
    "gr.SetTitle(\"Yellow\")\n",
    "\n",
    "#fit a line\n",
    "f_1 = r.TF1(\"ffline\", \"[0]*x + [1]\",0,0.1)\n",
    "f_1.SetParameters(-0.01e-9,0.002e-9)\n",
    "f_1.SetLineWidth(3)\n",
    "f_1.SetLineColor(r.kBlue)\n",
    "gr.Fit(f_1,\"R\")\n",
    "\n",
    "f_2 = r.TF1(\"ffline\", \"[0]*x + [1]\",0.6,1.8)\n",
    "f_2.SetParameters(0,0)\n",
    "f_2.SetLineWidth(3)\n",
    "f_2.SetLineColor(r.kBlue)\n",
    "gr.Fit(f_2,\"R+\")\n",
    "\n",
    "inter = intersection(f_1.GetParameter(0), f_1.GetParameter(1), f_2.GetParameter(0), f_2.GetParameter(1))\n",
    "Vs.update({\"Yellow\":inter[0]})\n",
    "\n",
    "fit_err.update({\"Yellow\":[f_1.GetParError(0), f_1.GetParError(1), f_2.GetParError(0), f_2.GetParError(1)]})\n",
    "intersect_err.update({\"Yellow\":intersection_err(f_1.GetParameter(0), f_1.GetParameter(1), f_2.GetParameter(0), f_2.GetParameter(1), f_1.GetParError(0), f_1.GetParError(1), f_2.GetParError(0), f_2.GetParError(1))})\n",
    "\n",
    "gr.Draw(\"A*\")\n",
    "c.Draw()"
   ]
  },
  {
   "cell_type": "code",
   "execution_count": 958,
   "metadata": {},
   "outputs": [
    {
     "name": "stdout",
     "output_type": "stream",
     "text": [
      " FCN=1897.68 FROM MIGRAD    STATUS=CONVERGED      72 CALLS          73 TOTAL\n",
      "                     EDM=1.05984e-11    STRATEGY= 1      ERROR MATRIX ACCURATE \n",
      "  EXT PARAMETER                                   STEP         FIRST   \n",
      "  NO.   NAME      VALUE            ERROR          SIZE      DERIVATIVE \n",
      "   1  p0          -7.51121e-13   6.91882e-15   8.35074e-17   2.81033e+08\n",
      "   2  p1           3.37521e-13   7.21687e-16   8.71048e-18  -3.97490e+09\n",
      " FCN=1.06035 FROM MIGRAD    STATUS=CONVERGED     100 CALLS         101 TOTAL\n",
      "                     EDM=4.70955e-12    STRATEGY= 1      ERROR MATRIX ACCURATE \n",
      "  EXT PARAMETER                                   STEP         FIRST   \n",
      "  NO.   NAME      VALUE            ERROR          SIZE      DERIVATIVE \n",
      "   1  p0          -1.77858e-14   2.08286e-15   2.52889e-19  -1.14144e+09\n",
      "   2  p1          -1.67224e-14   2.88675e-15   3.50493e-19   2.42410e+08\n"
     ]
    },
    {
     "data": {
      "image/png": "[encoded data removed]",
      "text/plain": [
       "<IPython.core.display.Image object>"
      ]
     },
     "metadata": {},
     "output_type": "display_data"
    }
   ],
   "source": [
    "tmp = df[df[\"color\"]==\"Green\"]\n",
    "\n",
    "c = r.TCanvas()\n",
    "gr = r.TGraphErrors(len(tmp),tmp[\"Voltage (V)\"].values, tmp[\"Current (A)\"].values, tmp[\"errV\"].values, tmp[\"errI\"].values)\n",
    "\n",
    "#Set point size\n",
    "gr.SetLineWidth(3)\n",
    "#Set point color\n",
    "gr.SetMarkerColor(r.kRed)\n",
    "#Set axis titles\n",
    "gr.GetXaxis().SetTitle(\"Voltage (V)\")\n",
    "gr.GetYaxis().SetTitle(\"Current (A)\")\n",
    "#Set title\n",
    "gr.SetTitle(\"Green\")\n",
    "\n",
    "#fit a line\n",
    "f_1 = r.TF1(\"ffline\", \"[0]*x + [1]\",0,0.2)\n",
    "f_1.SetParameters(-0.01e-9,0.003e-9)\n",
    "f_1.SetLineWidth(3)\n",
    "f_1.SetLineColor(r.kBlue)\n",
    "gr.Fit(f_1,\"R\")\n",
    "\n",
    "f_2 = r.TF1(\"ffline\", \"[0]*x + [1]\",1,1.8)\n",
    "f_2.SetParameters(0,0)\n",
    "f_2.SetLineWidth(3)\n",
    "f_2.SetLineColor(r.kBlue)\n",
    "gr.Fit(f_2,\"R+\")\n",
    "\n",
    "inter = intersection(f_1.GetParameter(0), f_1.GetParameter(1), f_2.GetParameter(0), f_2.GetParameter(1))\n",
    "Vs.update({\"Green\":inter[0]})\n",
    "\n",
    "fit_err.update({\"Green\":[f_1.GetParError(0), f_1.GetParError(1), f_2.GetParError(0), f_2.GetParError(1)]})\n",
    "intersect_err.update({\"Green\":intersection_err(f_1.GetParameter(0), f_1.GetParameter(1), f_2.GetParameter(0), f_2.GetParameter(1), f_1.GetParError(0), f_1.GetParError(1), f_2.GetParError(0), f_2.GetParError(1))})\n",
    "\n",
    "gr.Draw(\"AP*\")\n",
    "c.Draw()"
   ]
  },
  {
   "cell_type": "code",
   "execution_count": 959,
   "metadata": {},
   "outputs": [
    {
     "name": "stdout",
     "output_type": "stream",
     "text": [
      " FCN=55.016 FROM MIGRAD    STATUS=CONVERGED      60 CALLS          61 TOTAL\n",
      "                     EDM=1.20982e-15    STRATEGY= 1      ERROR MATRIX ACCURATE \n",
      "  EXT PARAMETER                                   STEP         FIRST   \n",
      "  NO.   NAME      VALUE            ERROR          SIZE      DERIVATIVE \n",
      "   1  p0          -2.42580e-13   7.00381e-15   1.48464e-17  -9.41042e+06\n",
      "   2  p1           8.85299e-14   7.04033e-16   1.49238e-18  -3.22925e+07\n",
      " FCN=1.3905 FROM MIGRAD    STATUS=CONVERGED      93 CALLS          94 TOTAL\n",
      "                     EDM=2.52e-13    STRATEGY= 1      ERROR MATRIX ACCURATE \n",
      "  EXT PARAMETER                                   STEP         FIRST   \n",
      "  NO.   NAME      VALUE            ERROR          SIZE      DERIVATIVE \n",
      "   1  p0          -3.07830e-15   3.94301e-15   2.99419e-19   1.76662e+09\n",
      "   2  p1          -9.54160e-15   5.73990e-15   3.00000e-17   1.22734e+09\n"
     ]
    },
    {
     "data": {
      "image/png": "[encoded data removed]",
      "text/plain": [
       "<IPython.core.display.Image object>"
      ]
     },
     "metadata": {},
     "output_type": "display_data"
    }
   ],
   "source": [
    "tmp = df[df[\"color\"] == \"Cyan\"]\n",
    "\n",
    "c = r.TCanvas()\n",
    "gr = r.TGraphErrors(len(tmp), tmp[\"Voltage (V)\"].values, tmp[\"Current (A)\"].values, tmp[\"errV\"].values, tmp[\"errI\"].values)\n",
    "\n",
    "#Set point size\n",
    "gr.SetLineWidth(3)\n",
    "#Set point color\n",
    "gr.SetMarkerColor(r.kRed)\n",
    "#Set axis titles\n",
    "gr.GetXaxis().SetTitle(\"Voltage (V)\")\n",
    "gr.GetYaxis().SetTitle(\"Current (A)\")\n",
    "#Set title\n",
    "gr.SetTitle(\"Cyan\")\n",
    "\n",
    "#fit a line\n",
    "f_1 = r.TF1(\"ffline\", \"[0]*x + [1]\", 0, 0.2)\n",
    "f_1.SetParameters(-0.002e-9, 0.0008e-9)\n",
    "f_1.SetLineWidth(3)\n",
    "f_1.SetLineColor(r.kBlue)\n",
    "gr.Fit(f_1, \"R\")\n",
    "\n",
    "f_2 = r.TF1(\"ffline\", \"[0]*x + [1]\", 1.2, 1.8)\n",
    "f_2.SetParameters(-0.01e-9, 0)\n",
    "f_2.SetLineWidth(3)\n",
    "f_2.SetLineColor(r.kBlue)\n",
    "gr.Fit(f_2, \"R+\")\n",
    "\n",
    "inter = intersection(f_1.GetParameter(0), f_1.GetParameter(1), f_2.GetParameter(0), f_2.GetParameter(1))\n",
    "Vs.update({\"Cyan\":inter[0]})\n",
    "\n",
    "fit_err.update({\"Cyan\":[f_1.GetParError(0), f_1.GetParError(1), f_2.GetParError(0), f_2.GetParError(1)]})\n",
    "intersect_err.update({\"Cyan\":intersection_err(f_1.GetParameter(0), f_1.GetParameter(1), f_2.GetParameter(0), f_2.GetParameter(1), f_1.GetParError(0), f_1.GetParError(1), f_2.GetParError(0), f_2.GetParError(1))})\n",
    "\n",
    "gr.Draw(\"A*\")\n",
    "c.Draw()"
   ]
  },
  {
   "cell_type": "code",
   "execution_count": 960,
   "metadata": {},
   "outputs": [
    {
     "name": "stdout",
     "output_type": "stream",
     "text": [
      " FCN=1350.6 FROM MIGRAD    STATUS=CONVERGED      89 CALLS          90 TOTAL\n",
      "                     EDM=3.73977e-08    STRATEGY= 1      ERROR MATRIX ACCURATE \n",
      "  EXT PARAMETER                                   STEP         FIRST   \n",
      "  NO.   NAME      VALUE            ERROR          SIZE      DERIVATIVE \n",
      "   1  p0          -2.97838e-13   2.84280e-15   2.87503e-17   1.69182e+11\n",
      "   2  p1           2.60768e-13   7.29892e-16   7.38162e-18   4.93547e+11\n",
      " FCN=7.39249 FROM MIGRAD    STATUS=CONVERGED      84 CALLS          85 TOTAL\n",
      "                     EDM=4.83169e-07    STRATEGY= 1      ERROR MATRIX ACCURATE \n",
      "  EXT PARAMETER                                   STEP         FIRST   \n",
      "  NO.   NAME      VALUE            ERROR          SIZE      DERIVATIVE \n",
      "   1  p0          -1.21443e-14   2.04395e-15   3.19621e-19  -1.33380e+12\n",
      "   2  p1           1.69024e-15   4.04574e-15   3.00000e-15  -4.38444e+11\n"
     ]
    },
    {
     "data": {
      "image/png": "[encoded data removed]",
      "text/plain": [
       "<IPython.core.display.Image object>"
      ]
     },
     "metadata": {},
     "output_type": "display_data"
    }
   ],
   "source": [
    "tmp = df[df[\"color\"] == \"Violet\"]\n",
    "\n",
    "c = r.TCanvas()\n",
    "gr = r.TGraphErrors(len(tmp), tmp[\"Voltage (V)\"].values, tmp[\"Current (A)\"].values, tmp[\"errV\"].values, tmp[\"errI\"].values)\n",
    "\n",
    "#Set point size\n",
    "gr.SetLineWidth(3)\n",
    "#Set point color\n",
    "gr.SetMarkerColor(r.kRed)\n",
    "gr.SetMarkerStyle(3)\n",
    "#Set axis titles\n",
    "gr.GetXaxis().SetTitle(\"Voltage (V)\")\n",
    "gr.GetYaxis().SetTitle(\"Current (A)\")\n",
    "#Set title\n",
    "gr.SetTitle(\"Violet\")\n",
    "\n",
    "#fit a line\n",
    "f_1 = r.TF1(\"ffline\", \"[0]*x + [1]\", 0, 0.5)\n",
    "f_1.SetParameters(-0.0005e-9, 0.0035e-9)\n",
    "f_1.SetLineWidth(3)\n",
    "f_1.SetLineColor(r.kBlue)\n",
    "gr.Fit(f_1, \"R\")\n",
    "\n",
    "f_2 = r.TF1(\"ffline\", \"[0]*x + [1]\", 1.6, 2.5)\n",
    "f_2.SetParameters(-0.01e-9, 0)\n",
    "f_2.SetLineWidth(3)\n",
    "f_2.SetLineColor(r.kBlue)\n",
    "gr.Fit(f_2, \"R+\")\n",
    "\n",
    "inter = intersection(f_1.GetParameter(0), f_1.GetParameter(1), f_2.GetParameter(0), f_2.GetParameter(1))\n",
    "Vs.update({\"Violet\":inter[0]})\n",
    "\n",
    "fit_err.update({\"Violet\":[f_1.GetParError(0), f_1.GetParError(1), f_2.GetParError(0), f_2.GetParError(1)]})\n",
    "intersect_err.update({\"Violet\":intersection_err(f_1.GetParameter(0), f_1.GetParameter(1), f_2.GetParameter(0), f_2.GetParameter(1), f_1.GetParError(0), f_1.GetParError(1), f_2.GetParError(0), f_2.GetParError(1))})\n",
    "\n",
    "gr.Draw(\"AP\")\n",
    "c.Draw()"
   ]
  },
  {
   "cell_type": "code",
   "execution_count": 961,
   "metadata": {},
   "outputs": [
    {
     "data": {
      "text/plain": [
       "{'Blue': 0.76566220145138,\n",
       " 'Yellow': 0.22953066290182988,\n",
       " 'Green': 0.4830581100812119,\n",
       " 'Cyan': 0.4094817605111149,\n",
       " 'Violet': 0.9068384001201784}"
      ]
     },
     "execution_count": 961,
     "metadata": {},
     "output_type": "execute_result"
    }
   ],
   "source": [
    "Vs"
   ]
  },
  {
   "cell_type": "code",
   "execution_count": 962,
   "metadata": {},
   "outputs": [],
   "source": [
    "#got these values from britannica\n",
    "wavelenght_blue = 450e-9\n",
    "wavelenght_yellow = 580e-9\n",
    "wavelenght_green = 550e-9\n",
    "wavelenght_cyan = 500e-9\n",
    "wavelenght_violet = 400e-9\n",
    "\n",
    "speed_of_light = 299792458\n",
    "\n",
    "def wavelenght_to_freq(wavelength):\n",
    "    return speed_of_light / wavelength"
   ]
  },
  {
   "cell_type": "code",
   "execution_count": 963,
   "metadata": {},
   "outputs": [],
   "source": [
    "freq_blue = wavelenght_to_freq(wavelenght_blue)\n",
    "freq_yellow = wavelenght_to_freq(wavelenght_yellow)\n",
    "freq_green = wavelenght_to_freq(wavelenght_green)\n",
    "freq_cyan = wavelenght_to_freq(wavelenght_cyan)\n",
    "freq_violet = wavelenght_to_freq(wavelenght_violet)"
   ]
  },
  {
   "cell_type": "code",
   "execution_count": 964,
   "metadata": {},
   "outputs": [],
   "source": [
    "freq ={\n",
    "    \"Blue\":freq_blue,\n",
    "    \"Yellow\":freq_yellow,\n",
    "    \"Green\":freq_green,\n",
    "    \"Cyan\":freq_cyan,\n",
    "    \"Violet\":freq_violet\n",
    "}"
   ]
  },
  {
   "cell_type": "code",
   "execution_count": 965,
   "metadata": {},
   "outputs": [
    {
     "data": {
      "text/plain": [
       "{'Blue': 0.76566220145138,\n",
       " 'Yellow': 0.22953066290182988,\n",
       " 'Green': 0.4830581100812119,\n",
       " 'Cyan': 0.4094817605111149,\n",
       " 'Violet': 0.9068384001201784}"
      ]
     },
     "execution_count": 965,
     "metadata": {},
     "output_type": "execute_result"
    }
   ],
   "source": [
    "Vs"
   ]
  },
  {
   "cell_type": "code",
   "execution_count": 966,
   "metadata": {},
   "outputs": [],
   "source": [
    "v_f = {\"Blue\":[freq[\"Blue\"],Vs[\"Blue\"]], \"Yellow\":[freq[\"Yellow\"],Vs[\"Yellow\"]], \"Green\":[freq[\"Green\"],Vs[\"Green\"]], \"Cyan\":[freq[\"Cyan\"],Vs[\"Cyan\"]], \"Violet\":[freq[\"Violet\"],Vs[\"Violet\"]]}"
   ]
  },
  {
   "cell_type": "code",
   "execution_count": 967,
   "metadata": {},
   "outputs": [
    {
     "data": {
      "text/plain": [
       "{'Blue': [666205462222222.2, 0.76566220145138],\n",
       " 'Yellow': [516883548275862.1, 0.22953066290182988],\n",
       " 'Green': [545077196363636.3, 0.4830581100812119],\n",
       " 'Cyan': [599584916000000.0, 0.4094817605111149],\n",
       " 'Violet': [749481145000000.0, 0.9068384001201784]}"
      ]
     },
     "execution_count": 967,
     "metadata": {},
     "output_type": "execute_result"
    }
   ],
   "source": [
    "v_f"
   ]
  },
  {
   "cell_type": "code",
   "execution_count": 968,
   "metadata": {},
   "outputs": [],
   "source": [
    "v_f_df = pd.DataFrame(v_f)"
   ]
  },
  {
   "cell_type": "code",
   "execution_count": 969,
   "metadata": {},
   "outputs": [],
   "source": [
    "intersect_err_df = pd.DataFrame(intersect_err)"
   ]
  },
  {
   "cell_type": "code",
   "execution_count": 969,
   "metadata": {},
   "outputs": [],
   "source": []
  },
  {
   "cell_type": "code",
   "execution_count": 970,
   "metadata": {},
   "outputs": [],
   "source": [
    "v_f_err = intersect_err_df.T[[0]]\n",
    "v_f_err.columns= [\"errVs\"]\n",
    "v_f_err[\"errF\"] = [speed_of_light*10e-8 for i in range(5)]"
   ]
  },
  {
   "cell_type": "code",
   "execution_count": 971,
   "metadata": {},
   "outputs": [
    {
     "data": {
      "text/html": [
       "<div>\n",
       "<style scoped>\n",
       "    .dataframe tbody tr th:only-of-type {\n",
       "        vertical-align: middle;\n",
       "    }\n",
       "\n",
       "    .dataframe tbody tr th {\n",
       "        vertical-align: top;\n",
       "    }\n",
       "\n",
       "    .dataframe thead th {\n",
       "        text-align: right;\n",
       "    }\n",
       "</style>\n",
       "<table border=\"1\" class=\"dataframe\">\n",
       "  <thead>\n",
       "    <tr style=\"text-align: right;\">\n",
       "      <th></th>\n",
       "      <th>errVs</th>\n",
       "      <th>errF</th>\n",
       "    </tr>\n",
       "  </thead>\n",
       "  <tbody>\n",
       "    <tr>\n",
       "      <th>Blue</th>\n",
       "      <td>0.018389</td>\n",
       "      <td>29.979246</td>\n",
       "    </tr>\n",
       "    <tr>\n",
       "      <th>Yellow</th>\n",
       "      <td>0.003560</td>\n",
       "      <td>29.979246</td>\n",
       "    </tr>\n",
       "    <tr>\n",
       "      <th>Green</th>\n",
       "      <td>0.006254</td>\n",
       "      <td>29.979246</td>\n",
       "    </tr>\n",
       "    <tr>\n",
       "      <th>Cyan</th>\n",
       "      <td>0.027782</td>\n",
       "      <td>29.979246</td>\n",
       "    </tr>\n",
       "    <tr>\n",
       "      <th>Violet</th>\n",
       "      <td>0.018182</td>\n",
       "      <td>29.979246</td>\n",
       "    </tr>\n",
       "  </tbody>\n",
       "</table>\n",
       "</div>"
      ],
      "text/plain": [
       "           errVs       errF\n",
       "Blue    0.018389  29.979246\n",
       "Yellow  0.003560  29.979246\n",
       "Green   0.006254  29.979246\n",
       "Cyan    0.027782  29.979246\n",
       "Violet  0.018182  29.979246"
      ]
     },
     "execution_count": 971,
     "metadata": {},
     "output_type": "execute_result"
    }
   ],
   "source": [
    "v_f_err"
   ]
  },
  {
   "cell_type": "code",
   "execution_count": 972,
   "metadata": {},
   "outputs": [],
   "source": [
    "c = r.TCanvas()\n",
    "gr = r.TGraphErrors(5, v_f_df.iloc[0].T.values/1 ,v_f_df.iloc[1].T.values/1, v_f_err[\"errF\"].values, v_f_err[\"errVs\"].values)"
   ]
  },
  {
   "cell_type": "code",
   "execution_count": 984,
   "metadata": {},
   "outputs": [
    {
     "name": "stdout",
     "output_type": "stream",
     "text": [
      " FCN=567.871 FROM MIGRAD    STATUS=CONVERGED      59 CALLS          60 TOTAL\n",
      "                     EDM=1.64482e-15    STRATEGY= 1      ERROR MATRIX ACCURATE \n",
      "  EXT PARAMETER                                   STEP         FIRST   \n",
      "  NO.   NAME      VALUE            ERROR          SIZE      DERIVATIVE \n",
      "   1  p0           3.27137e-15   6.68249e-17   1.76764e-13   1.02372e+10\n",
      "   2  p1          -1.42654e+00   3.58457e-02   3.48394e-05   1.91711e-05\n"
     ]
    },
    {
     "data": {
      "image/png": "[encoded data removed]",
      "text/plain": [
       "<IPython.core.display.Image object>"
      ]
     },
     "metadata": {},
     "output_type": "display_data"
    }
   ],
   "source": [
    "#Set point size\n",
    "gr.SetLineWidth(3)\n",
    "#Set point color\n",
    "gr.SetMarkerColor(r.kRed)\n",
    "gr.SetMarkerStyle(20)\n",
    "#Set axis titles\n",
    "gr.GetXaxis().SetTitle(\"Frequency (Hz)\")\n",
    "gr.GetYaxis().SetTitle(\"Voltage (V)\")\n",
    "#Set title\n",
    "gr.SetTitle(\"Frequency - Vs\")\n",
    "\n",
    "#fit a line\n",
    "f_1 = r.TF1(\"ffline\", \"[0]*x + [1]\", 500e12, 800e12)\n",
    "f_1.SetParameters(0, 0)\n",
    "f_1.SetLineWidth(3),\n",
    "f_1.SetLineColor(r.kBlue)\n",
    "gr.Fit(f_1, \"R\")\n",
    "\n",
    "gr.Draw(\"AP\")\n",
    "c.Draw()"
   ]
  },
  {
   "cell_type": "code",
   "execution_count": 985,
   "metadata": {},
   "outputs": [],
   "source": [
    "charge_of_electron = 1.602176634e-19"
   ]
  },
  {
   "cell_type": "code",
   "execution_count": 986,
   "metadata": {},
   "outputs": [],
   "source": [
    "h = charge_of_electron * f_1.GetParameter(0)"
   ]
  },
  {
   "cell_type": "code",
   "execution_count": 987,
   "metadata": {},
   "outputs": [
    {
     "data": {
      "text/plain": [
       "5.241320241296836e-34"
      ]
     },
     "execution_count": 987,
     "metadata": {},
     "output_type": "execute_result"
    }
   ],
   "source": [
    "h"
   ]
  },
  {
   "cell_type": "code",
   "execution_count": 994,
   "metadata": {},
   "outputs": [],
   "source": [
    "phi = -f_1.GetParameter(1)"
   ]
  },
  {
   "cell_type": "code",
   "execution_count": 1013,
   "metadata": {},
   "outputs": [
    {
     "data": {
      "text/plain": "3.6618881740471006e-38"
     },
     "execution_count": 1013,
     "metadata": {},
     "output_type": "execute_result"
    }
   ],
   "source": [
    "phi*charge_of_electron"
   ]
  },
  {
   "cell_type": "code",
   "execution_count": 988,
   "metadata": {},
   "outputs": [],
   "source": [
    "planck_constant = 6.62607015e-34"
   ]
  },
  {
   "cell_type": "code",
   "execution_count": 989,
   "metadata": {},
   "outputs": [],
   "source": [
    "#calculate the error\n",
    "def error(pred, true):\n",
    "    return abs(pred - true) / true"
   ]
  },
  {
   "cell_type": "code",
   "execution_count": 990,
   "metadata": {},
   "outputs": [],
   "source": [
    "planck_err = f_1.GetParError(0)*charge_of_electron"
   ]
  },
  {
   "cell_type": "code",
   "execution_count": 991,
   "metadata": {},
   "outputs": [
    {
     "name": "stdout",
     "output_type": "stream",
     "text": [
      "h: 5.241320241296836e-34  +/-  1.0706534861012359e-35 Error: 20.898509634751814 %\n"
     ]
    }
   ],
   "source": [
    "print(\"h:\", h, \" +/- \", planck_err, \"Error:\", error(h, planck_constant)*100, \"%\")"
   ]
  },
  {
   "cell_type": "code",
   "execution_count": 992,
   "metadata": {},
   "outputs": [
    {
     "name": "stdout",
     "output_type": "stream",
     "text": [
      "12.93368887954313\n"
     ]
    }
   ],
   "source": [
    "print(abs(planck_constant - h)/planck_err)"
   ]
  },
  {
   "cell_type": "code",
   "execution_count": 997,
   "metadata": {},
   "outputs": [
    {
     "data": {
      "text/html": [
       "<div>\n",
       "<style scoped>\n",
       "    .dataframe tbody tr th:only-of-type {\n",
       "        vertical-align: middle;\n",
       "    }\n",
       "\n",
       "    .dataframe tbody tr th {\n",
       "        vertical-align: top;\n",
       "    }\n",
       "\n",
       "    .dataframe thead th {\n",
       "        text-align: right;\n",
       "    }\n",
       "</style>\n",
       "<table border=\"1\" class=\"dataframe\">\n",
       "  <thead>\n",
       "    <tr style=\"text-align: right;\">\n",
       "      <th></th>\n",
       "      <th>Voltage (V)</th>\n",
       "      <th>Current (A)</th>\n",
       "      <th>color</th>\n",
       "      <th>errV</th>\n",
       "      <th>errI</th>\n",
       "    </tr>\n",
       "  </thead>\n",
       "  <tbody>\n",
       "    <tr>\n",
       "      <th>0</th>\n",
       "      <td>0.0000</td>\n",
       "      <td>2.400000e-13</td>\n",
       "      <td>Yellow</td>\n",
       "      <td>0.0001</td>\n",
       "      <td>1.000000e-15</td>\n",
       "    </tr>\n",
       "    <tr>\n",
       "      <th>1</th>\n",
       "      <td>0.0540</td>\n",
       "      <td>1.700000e-13</td>\n",
       "      <td>Yellow</td>\n",
       "      <td>0.0001</td>\n",
       "      <td>1.000000e-15</td>\n",
       "    </tr>\n",
       "    <tr>\n",
       "      <th>2</th>\n",
       "      <td>0.0829</td>\n",
       "      <td>1.480000e-13</td>\n",
       "      <td>Yellow</td>\n",
       "      <td>0.0001</td>\n",
       "      <td>1.000000e-15</td>\n",
       "    </tr>\n",
       "    <tr>\n",
       "      <th>3</th>\n",
       "      <td>0.1184</td>\n",
       "      <td>1.210000e-13</td>\n",
       "      <td>Yellow</td>\n",
       "      <td>0.0001</td>\n",
       "      <td>1.000000e-15</td>\n",
       "    </tr>\n",
       "    <tr>\n",
       "      <th>4</th>\n",
       "      <td>0.1814</td>\n",
       "      <td>7.400000e-14</td>\n",
       "      <td>Yellow</td>\n",
       "      <td>0.0001</td>\n",
       "      <td>1.000000e-15</td>\n",
       "    </tr>\n",
       "    <tr>\n",
       "      <th>...</th>\n",
       "      <td>...</td>\n",
       "      <td>...</td>\n",
       "      <td>...</td>\n",
       "      <td>...</td>\n",
       "      <td>...</td>\n",
       "    </tr>\n",
       "    <tr>\n",
       "      <th>14</th>\n",
       "      <td>1.1360</td>\n",
       "      <td>-1.300000e-14</td>\n",
       "      <td>Cyan</td>\n",
       "      <td>0.0010</td>\n",
       "      <td>1.000000e-15</td>\n",
       "    </tr>\n",
       "    <tr>\n",
       "      <th>15</th>\n",
       "      <td>1.2630</td>\n",
       "      <td>-1.300000e-14</td>\n",
       "      <td>Cyan</td>\n",
       "      <td>0.0010</td>\n",
       "      <td>1.000000e-15</td>\n",
       "    </tr>\n",
       "    <tr>\n",
       "      <th>16</th>\n",
       "      <td>1.4610</td>\n",
       "      <td>-1.500000e-14</td>\n",
       "      <td>Cyan</td>\n",
       "      <td>0.0010</td>\n",
       "      <td>1.000000e-15</td>\n",
       "    </tr>\n",
       "    <tr>\n",
       "      <th>17</th>\n",
       "      <td>1.6210</td>\n",
       "      <td>-1.400000e-14</td>\n",
       "      <td>Cyan</td>\n",
       "      <td>0.0010</td>\n",
       "      <td>1.000000e-15</td>\n",
       "    </tr>\n",
       "    <tr>\n",
       "      <th>18</th>\n",
       "      <td>1.8460</td>\n",
       "      <td>-1.600000e-14</td>\n",
       "      <td>Cyan</td>\n",
       "      <td>0.0010</td>\n",
       "      <td>1.000000e-15</td>\n",
       "    </tr>\n",
       "  </tbody>\n",
       "</table>\n",
       "<p>97 rows × 5 columns</p>\n",
       "</div>"
      ],
      "text/plain": [
       "    Voltage (V)   Current (A)   color    errV          errI\n",
       "0        0.0000  2.400000e-13  Yellow  0.0001  1.000000e-15\n",
       "1        0.0540  1.700000e-13  Yellow  0.0001  1.000000e-15\n",
       "2        0.0829  1.480000e-13  Yellow  0.0001  1.000000e-15\n",
       "3        0.1184  1.210000e-13  Yellow  0.0001  1.000000e-15\n",
       "4        0.1814  7.400000e-14  Yellow  0.0001  1.000000e-15\n",
       "..          ...           ...     ...     ...           ...\n",
       "14       1.1360 -1.300000e-14    Cyan  0.0010  1.000000e-15\n",
       "15       1.2630 -1.300000e-14    Cyan  0.0010  1.000000e-15\n",
       "16       1.4610 -1.500000e-14    Cyan  0.0010  1.000000e-15\n",
       "17       1.6210 -1.400000e-14    Cyan  0.0010  1.000000e-15\n",
       "18       1.8460 -1.600000e-14    Cyan  0.0010  1.000000e-15\n",
       "\n",
       "[97 rows x 5 columns]"
      ]
     },
     "execution_count": 997,
     "metadata": {},
     "output_type": "execute_result"
    }
   ],
   "source": [
    "df"
   ]
  },
  {
   "cell_type": "code",
   "execution_count": 1009,
   "metadata": {
    "scrolled": false
   },
   "outputs": [
    {
     "name": "stdout",
     "output_type": "stream",
     "text": [
      "\\begin{tabular}{rrlrr}\n",
      "\\toprule\n",
      " Voltage (V) &   Current (A) &  color &   errV &         errI \\\\\n",
      "\\midrule\n",
      "      0.0000 &  2.400000e-13 & Yellow & 0.0001 & 1.000000e-15 \\\\\n",
      "      0.0540 &  1.700000e-13 & Yellow & 0.0001 & 1.000000e-15 \\\\\n",
      "      0.0829 &  1.480000e-13 & Yellow & 0.0001 & 1.000000e-15 \\\\\n",
      "      0.1184 &  1.210000e-13 & Yellow & 0.0001 & 1.000000e-15 \\\\\n",
      "      0.1814 &  7.400000e-14 & Yellow & 0.0001 & 1.000000e-15 \\\\\n",
      "      0.2440 &  4.300000e-14 & Yellow & 0.0001 & 1.000000e-15 \\\\\n",
      "      0.2921 &  2.500000e-14 & Yellow & 0.0001 & 1.000000e-15 \\\\\n",
      "      0.3780 &  7.000000e-15 & Yellow & 0.0001 & 1.000000e-15 \\\\\n",
      "      0.0264 &  2.050000e-13 & Yellow & 0.0001 & 1.000000e-15 \\\\\n",
      "      0.1040 &  1.200000e-13 & Yellow & 0.0001 & 1.000000e-15 \\\\\n",
      "      0.1420 &  1.120000e-13 & Yellow & 0.0001 & 1.000000e-15 \\\\\n",
      "      0.4450 & -8.000000e-15 & Yellow & 0.0010 & 1.000000e-15 \\\\\n",
      "      0.5550 & -1.900000e-14 & Yellow & 0.0010 & 1.000000e-15 \\\\\n",
      "      0.6360 & -2.300000e-14 & Yellow & 0.0010 & 1.000000e-15 \\\\\n",
      "      0.6740 & -2.500000e-14 & Yellow & 0.0010 & 1.000000e-15 \\\\\n",
      "      0.7650 & -2.700000e-14 & Yellow & 0.0010 & 1.000000e-15 \\\\\n",
      "      0.8570 & -2.600000e-14 & Yellow & 0.0010 & 1.000000e-15 \\\\\n",
      "      0.9220 & -2.900000e-14 & Yellow & 0.0010 & 1.000000e-15 \\\\\n",
      "      0.9950 & -3.000000e-14 & Yellow & 0.0010 & 1.000000e-15 \\\\\n",
      "      1.2650 & -3.000000e-14 & Yellow & 0.0010 & 1.000000e-15 \\\\\n",
      "      1.5270 & -3.200000e-14 & Yellow & 0.0010 & 1.000000e-15 \\\\\n",
      "      1.7360 & -3.500000e-14 & Yellow & 0.0010 & 1.000000e-15 \\\\\n",
      "      0.4920 &  3.140000e-13 &   Blue & 0.0010 & 1.000000e-15 \\\\\n",
      "      0.5300 &  2.750000e-13 &   Blue & 0.0010 & 1.000000e-15 \\\\\n",
      "      0.5850 &  1.960000e-13 &   Blue & 0.0010 & 1.000000e-15 \\\\\n",
      "      0.6470 &  1.580000e-13 &   Blue & 0.0010 & 1.000000e-15 \\\\\n",
      "      0.7120 &  1.240000e-13 &   Blue & 0.0010 & 1.000000e-15 \\\\\n",
      "      0.7540 &  9.900000e-14 &   Blue & 0.0010 & 1.000000e-15 \\\\\n",
      "      0.8230 &  5.800000e-14 &   Blue & 0.0010 & 1.000000e-15 \\\\\n",
      "      0.9250 &  8.000000e-15 &   Blue & 0.0010 & 1.000000e-15 \\\\\n",
      "      1.0600 & -1.900000e-14 &   Blue & 0.0010 & 1.000000e-15 \\\\\n",
      "      1.1680 & -3.200000e-14 &   Blue & 0.0010 & 1.000000e-15 \\\\\n",
      "      1.2810 & -4.200000e-14 &   Blue & 0.0010 & 1.000000e-15 \\\\\n",
      "      1.4100 & -4.600000e-14 &   Blue & 0.0010 & 1.000000e-15 \\\\\n",
      "      1.5330 & -4.200000e-14 &   Blue & 0.0010 & 1.000000e-15 \\\\\n",
      "      1.7520 & -5.500000e-14 &   Blue & 0.0010 & 1.000000e-15 \\\\\n",
      "      1.9250 & -5.800000e-14 &   Blue & 0.0010 & 1.000000e-15 \\\\\n",
      "      2.0750 & -5.000000e-14 &   Blue & 0.0010 & 1.000000e-15 \\\\\n",
      "      0.0000 &  3.170000e-13 &  Green & 0.0001 & 1.000000e-15 \\\\\n",
      "      0.0337 &  3.150000e-13 &  Green & 0.0001 & 1.000000e-15 \\\\\n",
      "      0.0709 &  3.010000e-13 &  Green & 0.0001 & 1.000000e-15 \\\\\n",
      "      0.1009 &  2.690000e-13 &  Green & 0.0001 & 1.000000e-15 \\\\\n",
      "      0.1333 &  2.580000e-13 &  Green & 0.0001 & 1.000000e-15 \\\\\n",
      "      0.1766 &  1.780000e-13 &  Green & 0.0001 & 1.000000e-15 \\\\\n",
      "      0.2302 &  1.500000e-13 &  Green & 0.0001 & 1.000000e-15 \\\\\n",
      "      0.2983 &  8.800000e-14 &  Green & 0.0001 & 1.000000e-15 \\\\\n",
      "      0.3543 &  4.300000e-14 &  Green & 0.0001 & 1.000000e-15 \\\\\n",
      "      0.4630 &  3.000000e-15 &  Green & 0.0010 & 1.000000e-15 \\\\\n",
      "      0.5180 & -9.000000e-15 &  Green & 0.0010 & 1.000000e-15 \\\\\n",
      "      0.5960 & -1.900000e-14 &  Green & 0.0010 & 1.000000e-15 \\\\\n",
      "      0.6840 & -2.600000e-14 &  Green & 0.0010 & 1.000000e-15 \\\\\n",
      "      0.7610 & -3.300000e-14 &  Green & 0.0010 & 1.000000e-15 \\\\\n",
      "      0.8420 & -3.700000e-14 &  Green & 0.0010 & 1.000000e-15 \\\\\n",
      "      0.9320 & -3.900000e-14 &  Green & 0.0010 & 1.000000e-15 \\\\\n",
      "      1.0400 & -3.500000e-14 &  Green & 0.0010 & 1.000000e-15 \\\\\n",
      "      1.2550 & -3.900000e-14 &  Green & 0.0010 & 1.000000e-15 \\\\\n",
      "      1.4870 & -4.400000e-14 &  Green & 0.0010 & 1.000000e-15 \\\\\n",
      "      1.6780 & -4.600000e-14 &  Green & 0.0010 & 1.000000e-15 \\\\\n",
      "      0.0000 &  2.600000e-13 & Violet & 0.0001 & 1.000000e-15 \\\\\n",
      "      0.0858 &  2.280000e-13 & Violet & 0.0001 & 1.000000e-15 \\\\\n",
      "      0.1673 &  2.150000e-13 & Violet & 0.0001 & 1.000000e-15 \\\\\n",
      "      0.2685 &  2.040000e-13 & Violet & 0.0001 & 1.000000e-15 \\\\\n",
      "      0.3508 &  1.300000e-13 & Violet & 0.0001 & 1.000000e-15 \\\\\n",
      "      0.4210 &  1.430000e-13 & Violet & 0.0010 & 1.000000e-15 \\\\\n",
      "      0.5350 &  8.000000e-14 & Violet & 0.0010 & 1.000000e-15 \\\\\n",
      "      0.6380 &  5.200000e-14 & Violet & 0.0010 & 1.000000e-15 \\\\\n",
      "      0.7620 &  3.700000e-14 & Violet & 0.0010 & 1.000000e-15 \\\\\n",
      "      0.8670 &  2.200000e-14 & Violet & 0.0010 & 1.000000e-15 \\\\\n",
      "      0.9570 &  9.000000e-15 & Violet & 0.0010 & 1.000000e-15 \\\\\n",
      "      1.1180 & -6.000000e-15 & Violet & 0.0010 & 1.000000e-15 \\\\\n",
      "      1.2240 & -1.000000e-14 & Violet & 0.0010 & 1.000000e-15 \\\\\n",
      "      1.3340 & -1.400000e-14 & Violet & 0.0010 & 1.000000e-15 \\\\\n",
      "      1.4920 & -1.800000e-14 & Violet & 0.0010 & 1.000000e-15 \\\\\n",
      "      1.6430 & -1.700000e-14 & Violet & 0.0010 & 1.000000e-15 \\\\\n",
      "      1.8620 & -2.100000e-14 & Violet & 0.0010 & 1.000000e-15 \\\\\n",
      "      1.9470 & -2.400000e-14 & Violet & 0.0010 & 1.000000e-15 \\\\\n",
      "      2.0860 & -2.400000e-14 & Violet & 0.0010 & 1.000000e-15 \\\\\n",
      "      2.2980 & -2.500000e-14 & Violet & 0.0010 & 1.000000e-15 \\\\\n",
      "      0.0000 &  8.800000e-14 &   Cyan & 0.0001 & 1.000000e-15 \\\\\n",
      "      0.0322 &  7.800000e-14 &   Cyan & 0.0001 & 1.000000e-15 \\\\\n",
      "      0.0619 &  7.400000e-14 &   Cyan & 0.0001 & 1.000000e-15 \\\\\n",
      "      0.0897 &  7.300000e-14 &   Cyan & 0.0001 & 1.000000e-15 \\\\\n",
      "      0.1390 &  5.200000e-14 &   Cyan & 0.0001 & 1.000000e-15 \\\\\n",
      "      0.1685 &  4.700000e-14 &   Cyan & 0.0001 & 1.000000e-15 \\\\\n",
      "      0.2108 &  3.900000e-14 &   Cyan & 0.0001 & 1.000000e-15 \\\\\n",
      "      0.3109 &  2.700000e-14 &   Cyan & 0.0001 & 1.000000e-15 \\\\\n",
      "      0.4300 &  9.000000e-15 &   Cyan & 0.0010 & 1.000000e-15 \\\\\n",
      "      0.5890 & -1.000000e-15 &   Cyan & 0.0010 & 1.000000e-15 \\\\\n",
      "      0.6920 & -5.000000e-15 &   Cyan & 0.0010 & 1.000000e-15 \\\\\n",
      "      0.8110 & -8.000000e-15 &   Cyan & 0.0010 & 1.000000e-15 \\\\\n",
      "      0.9270 & -1.000000e-14 &   Cyan & 0.0010 & 1.000000e-15 \\\\\n",
      "      1.0200 & -1.100000e-14 &   Cyan & 0.0010 & 1.000000e-15 \\\\\n",
      "      1.1360 & -1.300000e-14 &   Cyan & 0.0010 & 1.000000e-15 \\\\\n",
      "      1.2630 & -1.300000e-14 &   Cyan & 0.0010 & 1.000000e-15 \\\\\n",
      "      1.4610 & -1.500000e-14 &   Cyan & 0.0010 & 1.000000e-15 \\\\\n",
      "      1.6210 & -1.400000e-14 &   Cyan & 0.0010 & 1.000000e-15 \\\\\n",
      "      1.8460 & -1.600000e-14 &   Cyan & 0.0010 & 1.000000e-15 \\\\\n",
      "\\bottomrule\n",
      "\\end{tabular}\n",
      "\n"
     ]
    },
    {
     "name": "stderr",
     "output_type": "stream",
     "text": [
      "/var/folders/mb/djnxt02s4vqbng178bwhk1280000gn/T/ipykernel_78539/3306219322.py:1: FutureWarning: In future versions `DataFrame.to_latex` is expected to utilise the base implementation of `Styler.to_latex` for formatting and rendering. The arguments signature may therefore change. It is recommended instead to use `DataFrame.style.to_latex` which also contains additional functionality.\n",
      "  print(df.to_latex(index=False, col_space=5))\n"
     ]
    }
   ],
   "source": [
    "print(df.to_latex(index=False, col_space=5))"
   ]
  }
 ],
 "metadata": {
  "kernelspec": {
   "display_name": "Python 3 (ipykernel)",
   "language": "python",
   "name": "python3"
  },
  "language_info": {
   "codemirror_mode": {
    "name": "ipython",
    "version": 3
   },
   "file_extension": ".py",
   "mimetype": "text/x-python",
   "name": "python",
   "nbconvert_exporter": "python",
   "pygments_lexer": "ipython3",
   "version": "3.9.16"
  }
 },
 "nbformat": 4,
 "nbformat_minor": 1
}
