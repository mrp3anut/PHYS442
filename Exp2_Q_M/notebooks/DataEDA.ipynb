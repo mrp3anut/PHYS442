{
 "cells": [
  {
   "cell_type": "code",
   "execution_count": 277,
   "metadata": {
    "collapsed": true
   },
   "outputs": [],
   "source": [
    "import pandas as pd\n",
    "import ROOT as r\n",
    "\n",
    "#electron charge to mass ratio\n",
    "Q_M_TRUE = 1.758820e11"
   ]
  },
  {
   "cell_type": "code",
   "execution_count": 278,
   "outputs": [
    {
     "data": {
      "text/plain": "    r     I      V\n0   2  2,48  105,5\n1   2  2,72  120,0\n2   2  2,83  131,8\n3   2  3,00  141,0\n4   2  3,14  153,4\n5   3  2,20  184,5\n6   3  2,41    218\n7   3  2,67    259\n8   3  2,72    268\n9   3  3,13    355\n10  4  1,50  169,5\n11  4  1,73    206\n12  4  1,97    264\n13  4  2,23    338\n14  4  2,29    354\n15  5  1,01  133,0\n16  5  1,19  169,4\n17  5  1,48    234\n18  5  1,78    339\n19  5  1,82    354",
      "text/html": "<div>\n<style scoped>\n    .dataframe tbody tr th:only-of-type {\n        vertical-align: middle;\n    }\n\n    .dataframe tbody tr th {\n        vertical-align: top;\n    }\n\n    .dataframe thead th {\n        text-align: right;\n    }\n</style>\n<table border=\"1\" class=\"dataframe\">\n  <thead>\n    <tr style=\"text-align: right;\">\n      <th></th>\n      <th>r</th>\n      <th>I</th>\n      <th>V</th>\n    </tr>\n  </thead>\n  <tbody>\n    <tr>\n      <th>0</th>\n      <td>2</td>\n      <td>2,48</td>\n      <td>105,5</td>\n    </tr>\n    <tr>\n      <th>1</th>\n      <td>2</td>\n      <td>2,72</td>\n      <td>120,0</td>\n    </tr>\n    <tr>\n      <th>2</th>\n      <td>2</td>\n      <td>2,83</td>\n      <td>131,8</td>\n    </tr>\n    <tr>\n      <th>3</th>\n      <td>2</td>\n      <td>3,00</td>\n      <td>141,0</td>\n    </tr>\n    <tr>\n      <th>4</th>\n      <td>2</td>\n      <td>3,14</td>\n      <td>153,4</td>\n    </tr>\n    <tr>\n      <th>5</th>\n      <td>3</td>\n      <td>2,20</td>\n      <td>184,5</td>\n    </tr>\n    <tr>\n      <th>6</th>\n      <td>3</td>\n      <td>2,41</td>\n      <td>218</td>\n    </tr>\n    <tr>\n      <th>7</th>\n      <td>3</td>\n      <td>2,67</td>\n      <td>259</td>\n    </tr>\n    <tr>\n      <th>8</th>\n      <td>3</td>\n      <td>2,72</td>\n      <td>268</td>\n    </tr>\n    <tr>\n      <th>9</th>\n      <td>3</td>\n      <td>3,13</td>\n      <td>355</td>\n    </tr>\n    <tr>\n      <th>10</th>\n      <td>4</td>\n      <td>1,50</td>\n      <td>169,5</td>\n    </tr>\n    <tr>\n      <th>11</th>\n      <td>4</td>\n      <td>1,73</td>\n      <td>206</td>\n    </tr>\n    <tr>\n      <th>12</th>\n      <td>4</td>\n      <td>1,97</td>\n      <td>264</td>\n    </tr>\n    <tr>\n      <th>13</th>\n      <td>4</td>\n      <td>2,23</td>\n      <td>338</td>\n    </tr>\n    <tr>\n      <th>14</th>\n      <td>4</td>\n      <td>2,29</td>\n      <td>354</td>\n    </tr>\n    <tr>\n      <th>15</th>\n      <td>5</td>\n      <td>1,01</td>\n      <td>133,0</td>\n    </tr>\n    <tr>\n      <th>16</th>\n      <td>5</td>\n      <td>1,19</td>\n      <td>169,4</td>\n    </tr>\n    <tr>\n      <th>17</th>\n      <td>5</td>\n      <td>1,48</td>\n      <td>234</td>\n    </tr>\n    <tr>\n      <th>18</th>\n      <td>5</td>\n      <td>1,78</td>\n      <td>339</td>\n    </tr>\n    <tr>\n      <th>19</th>\n      <td>5</td>\n      <td>1,82</td>\n      <td>354</td>\n    </tr>\n  </tbody>\n</table>\n</div>"
     },
     "execution_count": 278,
     "metadata": {},
     "output_type": "execute_result"
    }
   ],
   "source": [
    "df = pd.read_excel(\"../data/exp2_first_data.xlsx\")\n",
    "df"
   ],
   "metadata": {
    "collapsed": false
   }
  },
  {
   "cell_type": "code",
   "execution_count": 279,
   "outputs": [],
   "source": [
    "def replace_commata(x):\n",
    "    if type(x) == str:\n",
    "        return x.replace(\",\", \".\")\n",
    "    else:\n",
    "        return x\n",
    "\n",
    "def propagate_error_divmult(f, x, y, unx=0, uny=0):\n",
    "    return r.TMath.Sqrt(((unx/x)**2 + (uny/y)**2) * f**2)\n",
    "\n",
    "def propagate_error_power(f, b, x, unx=0):\n",
    "    return r.TMath.Sqrt((f**2 * b**2 * (unx)**2/x**2))\n",
    "\n",
    "def unV(x):\n",
    "    if type(x) == int:\n",
    "        return 1\n",
    "    else:\n",
    "        return 0.1\n",
    "\n",
    "def cm_to_m(x):\n",
    "    return x/100\n",
    "\n",
    "def calc_error(x,x_true):\n",
    "    return r.TMath.Abs(x-x_true)/x_true"
   ],
   "metadata": {
    "collapsed": false
   }
  },
  {
   "cell_type": "code",
   "execution_count": 280,
   "outputs": [],
   "source": [
    "df[\"I\"] = df[\"I\"].apply(replace_commata)\n",
    "df[\"V\"] = df[\"V\"].apply(replace_commata)\n",
    "df[\"r\"] = df[\"r\"].apply(cm_to_m)\n",
    "\n",
    "df[\"un_r\"] = [0.001 for i in range(len(df))]\n",
    "df[\"un_I\"] = [0.01 for i in range(len(df))]\n",
    "df[\"un_V\"] = df[\"V\"].apply(unV)"
   ],
   "metadata": {
    "collapsed": false
   }
  },
  {
   "cell_type": "code",
   "execution_count": 281,
   "outputs": [],
   "source": [
    "for column in df.columns:\n",
    "    df[column] = df[column].astype(float)"
   ],
   "metadata": {
    "collapsed": false
   }
  },
  {
   "cell_type": "code",
   "execution_count": 282,
   "outputs": [],
   "source": [
    "mu_0 = 4 * r.TMath.Pi() * 1e-7\n",
    "R = 0.2\n",
    "N = 154\n",
    "\n",
    "#Calculate variables\n",
    "\n",
    "df[\"B\"] = (4/5)**(3/2) * mu_0 * N * df[\"I\"] / R\n",
    "df[\"q_m\"] = (2*df[\"V\"])/((df[\"B\"]*df[\"r\"])**2)\n",
    "df[\"2V\"] = 2*df[\"V\"]\n",
    "df[\"(Br)^2\"] = (df[\"B\"]*df[\"r\"])**2\n",
    "df[\"q_m\"] = df[\"2V\"]/df[\"(Br)^2\"]"
   ],
   "metadata": {
    "collapsed": false
   }
  },
  {
   "cell_type": "code",
   "execution_count": 289,
   "outputs": [],
   "source": [
    "#Propagate errors for each observation\n",
    "\n",
    "df[\"un_B\"] = [\n",
    "    propagate_error_divmult(f = df[\"B\"][i], x= df[\"I\"][i],unx= df[\"un_I\"][i], y=R) for i\n",
    "    in range(len(df))]\n",
    "\n",
    "df[\"un_Br\"] = [\n",
    "    propagate_error_divmult(f = df[\"B\"][i]*df[\"r\"][i], x= df[\"B\"][i],unx= df[\"un_B\"][i], y=df[\"un_r\"][i]) for i\n",
    "    in range(len(df))]\n",
    "\n",
    "df[\"un_(Br)^2\"] = [\n",
    "    propagate_error_power(f = df[\"(Br)^2\"][i], b = 2, x= df[\"B\"][i]*df[\"r\"][i],unx= df[\"un_Br\"][i]) for i\n",
    "    in range(len(df))]\n",
    "\n",
    "df[\"un_q_m\"] = [propagate_error_divmult(x=df[\"2V\"][i],unx=df[\"un_V\"][i],y=df[\"(Br)^2\"][i],uny=df[\"un_(Br)^2\"][i],f=df[\"q_m\"][i]) for i in range(len(df))]\n",
    "\n",
    "un_q_m = df[\"un_q_m\"].mean()"
   ],
   "metadata": {
    "collapsed": false
   }
  },
  {
   "cell_type": "code",
   "execution_count": 290,
   "outputs": [
    {
     "data": {
      "text/plain": "       r     I      V   un_r  un_I  un_V         B           q_m     2V  \\\n0   0.02  2.48  105.5  0.001  0.01   0.1  0.001717  1.789155e+11  211.0   \n1   0.02  2.72  120.0  0.001  0.01   0.1  0.001883  1.691774e+11  240.0   \n2   0.02  2.83  131.8  0.001  0.01   0.1  0.001959  1.716491e+11  263.6   \n3   0.02  3.00  141.0  0.001  0.01   0.1  0.002077  1.634088e+11  282.0   \n4   0.02  3.14  153.4  0.001  0.01   0.1  0.002174  1.622800e+11  306.8   \n5   0.03  2.20  184.5  0.001  0.01   0.1  0.001523  1.767125e+11  369.0   \n6   0.03  2.41  218.0  0.001  0.01   1.0  0.001669  1.739958e+11  436.0   \n7   0.03  2.67  259.0  0.001  0.01   1.0  0.001849  1.684200e+11  518.0   \n8   0.03  2.72  268.0  0.001  0.01   1.0  0.001883  1.679242e+11  536.0   \n9   0.03  3.13  355.0  0.001  0.01   1.0  0.002167  1.679794e+11  710.0   \n10  0.04  1.50  169.5  0.001  0.01   0.1  0.001039  1.964383e+11  339.0   \n11  0.04  1.73  206.0  0.001  0.01   1.0  0.001198  1.794791e+11  412.0   \n12  0.04  1.97  264.0  0.001  0.01   1.0  0.001364  1.773823e+11  528.0   \n13  0.04  2.23  338.0  0.001  0.01   1.0  0.001544  1.772335e+11  676.0   \n14  0.04  2.29  354.0  0.001  0.01   1.0  0.001586  1.760237e+11  708.0   \n15  0.05  1.01  133.0  0.001  0.01   0.1  0.000699  2.175844e+11  266.0   \n16  0.05  1.19  169.4  0.001  0.01   0.1  0.000824  1.996358e+11  338.8   \n17  0.05  1.48  234.0  0.001  0.01   1.0  0.001025  1.782836e+11  468.0   \n18  0.05  1.78  339.0  0.001  0.01   1.0  0.001232  1.785577e+11  678.0   \n19  0.05  1.82  354.0  0.001  0.01   1.0  0.001260  1.783526e+11  708.0   \n\n          (Br)^2      un_B         un_Br     un_(Br)^2        un_q_m  \n0   1.179328e-09  0.000007  1.384731e-07  9.510707e-12  1.445356e+09  \n1   1.418629e-09  0.000007  1.384731e-07  1.043110e-11  1.245947e+09  \n2   1.535692e-09  0.000007  1.384731e-07  1.085294e-11  1.214814e+09  \n3   1.725733e-09  0.000007  1.384731e-07  1.150489e-11  1.090932e+09  \n4   1.890560e-09  0.000007  1.384731e-07  1.204178e-11  1.034983e+09  \n5   2.088137e-09  0.000007  2.077097e-07  1.898306e-11  1.607191e+09  \n6   2.505808e-09  0.000007  2.077097e-07  2.079508e-11  1.498081e+09  \n7   3.075645e-09  0.000007  2.077097e-07  2.303854e-11  1.302797e+09  \n8   3.191916e-09  0.000007  2.077097e-07  2.346997e-11  1.273863e+09  \n9   4.226709e-09  0.000007  2.077097e-07  2.700772e-11  1.099117e+09  \n10  1.725733e-09  0.000007  2.769463e-07  2.300978e-11  2.619818e+09  \n11  2.295532e-09  0.000007  2.769463e-07  2.653794e-11  2.120140e+09  \n12  2.976621e-09  0.000007  2.769463e-07  3.021950e-11  1.831904e+09  \n13  3.814177e-09  0.000007  2.769463e-07  3.420787e-11  1.611015e+09  \n14  4.022185e-09  0.000007  2.769463e-07  3.512826e-11  1.557299e+09  \n15  1.222514e-09  0.000007  3.461829e-07  2.420820e-11  4.309378e+09  \n16  1.697091e-09  0.000007  3.461829e-07  2.852253e-11  3.355740e+09  \n17  2.625032e-09  0.000007  3.461829e-07  3.547340e-11  2.439169e+09  \n18  3.797092e-09  0.000007  3.461829e-07  4.266396e-11  2.023478e+09  \n19  3.969666e-09  0.000007  3.461829e-07  4.362270e-11  1.976041e+09  ",
      "text/html": "<div>\n<style scoped>\n    .dataframe tbody tr th:only-of-type {\n        vertical-align: middle;\n    }\n\n    .dataframe tbody tr th {\n        vertical-align: top;\n    }\n\n    .dataframe thead th {\n        text-align: right;\n    }\n</style>\n<table border=\"1\" class=\"dataframe\">\n  <thead>\n    <tr style=\"text-align: right;\">\n      <th></th>\n      <th>r</th>\n      <th>I</th>\n      <th>V</th>\n      <th>un_r</th>\n      <th>un_I</th>\n      <th>un_V</th>\n      <th>B</th>\n      <th>q_m</th>\n      <th>2V</th>\n      <th>(Br)^2</th>\n      <th>un_B</th>\n      <th>un_Br</th>\n      <th>un_(Br)^2</th>\n      <th>un_q_m</th>\n    </tr>\n  </thead>\n  <tbody>\n    <tr>\n      <th>0</th>\n      <td>0.02</td>\n      <td>2.48</td>\n      <td>105.5</td>\n      <td>0.001</td>\n      <td>0.01</td>\n      <td>0.1</td>\n      <td>0.001717</td>\n      <td>1.789155e+11</td>\n      <td>211.0</td>\n      <td>1.179328e-09</td>\n      <td>0.000007</td>\n      <td>1.384731e-07</td>\n      <td>9.510707e-12</td>\n      <td>1.445356e+09</td>\n    </tr>\n    <tr>\n      <th>1</th>\n      <td>0.02</td>\n      <td>2.72</td>\n      <td>120.0</td>\n      <td>0.001</td>\n      <td>0.01</td>\n      <td>0.1</td>\n      <td>0.001883</td>\n      <td>1.691774e+11</td>\n      <td>240.0</td>\n      <td>1.418629e-09</td>\n      <td>0.000007</td>\n      <td>1.384731e-07</td>\n      <td>1.043110e-11</td>\n      <td>1.245947e+09</td>\n    </tr>\n    <tr>\n      <th>2</th>\n      <td>0.02</td>\n      <td>2.83</td>\n      <td>131.8</td>\n      <td>0.001</td>\n      <td>0.01</td>\n      <td>0.1</td>\n      <td>0.001959</td>\n      <td>1.716491e+11</td>\n      <td>263.6</td>\n      <td>1.535692e-09</td>\n      <td>0.000007</td>\n      <td>1.384731e-07</td>\n      <td>1.085294e-11</td>\n      <td>1.214814e+09</td>\n    </tr>\n    <tr>\n      <th>3</th>\n      <td>0.02</td>\n      <td>3.00</td>\n      <td>141.0</td>\n      <td>0.001</td>\n      <td>0.01</td>\n      <td>0.1</td>\n      <td>0.002077</td>\n      <td>1.634088e+11</td>\n      <td>282.0</td>\n      <td>1.725733e-09</td>\n      <td>0.000007</td>\n      <td>1.384731e-07</td>\n      <td>1.150489e-11</td>\n      <td>1.090932e+09</td>\n    </tr>\n    <tr>\n      <th>4</th>\n      <td>0.02</td>\n      <td>3.14</td>\n      <td>153.4</td>\n      <td>0.001</td>\n      <td>0.01</td>\n      <td>0.1</td>\n      <td>0.002174</td>\n      <td>1.622800e+11</td>\n      <td>306.8</td>\n      <td>1.890560e-09</td>\n      <td>0.000007</td>\n      <td>1.384731e-07</td>\n      <td>1.204178e-11</td>\n      <td>1.034983e+09</td>\n    </tr>\n    <tr>\n      <th>5</th>\n      <td>0.03</td>\n      <td>2.20</td>\n      <td>184.5</td>\n      <td>0.001</td>\n      <td>0.01</td>\n      <td>0.1</td>\n      <td>0.001523</td>\n      <td>1.767125e+11</td>\n      <td>369.0</td>\n      <td>2.088137e-09</td>\n      <td>0.000007</td>\n      <td>2.077097e-07</td>\n      <td>1.898306e-11</td>\n      <td>1.607191e+09</td>\n    </tr>\n    <tr>\n      <th>6</th>\n      <td>0.03</td>\n      <td>2.41</td>\n      <td>218.0</td>\n      <td>0.001</td>\n      <td>0.01</td>\n      <td>1.0</td>\n      <td>0.001669</td>\n      <td>1.739958e+11</td>\n      <td>436.0</td>\n      <td>2.505808e-09</td>\n      <td>0.000007</td>\n      <td>2.077097e-07</td>\n      <td>2.079508e-11</td>\n      <td>1.498081e+09</td>\n    </tr>\n    <tr>\n      <th>7</th>\n      <td>0.03</td>\n      <td>2.67</td>\n      <td>259.0</td>\n      <td>0.001</td>\n      <td>0.01</td>\n      <td>1.0</td>\n      <td>0.001849</td>\n      <td>1.684200e+11</td>\n      <td>518.0</td>\n      <td>3.075645e-09</td>\n      <td>0.000007</td>\n      <td>2.077097e-07</td>\n      <td>2.303854e-11</td>\n      <td>1.302797e+09</td>\n    </tr>\n    <tr>\n      <th>8</th>\n      <td>0.03</td>\n      <td>2.72</td>\n      <td>268.0</td>\n      <td>0.001</td>\n      <td>0.01</td>\n      <td>1.0</td>\n      <td>0.001883</td>\n      <td>1.679242e+11</td>\n      <td>536.0</td>\n      <td>3.191916e-09</td>\n      <td>0.000007</td>\n      <td>2.077097e-07</td>\n      <td>2.346997e-11</td>\n      <td>1.273863e+09</td>\n    </tr>\n    <tr>\n      <th>9</th>\n      <td>0.03</td>\n      <td>3.13</td>\n      <td>355.0</td>\n      <td>0.001</td>\n      <td>0.01</td>\n      <td>1.0</td>\n      <td>0.002167</td>\n      <td>1.679794e+11</td>\n      <td>710.0</td>\n      <td>4.226709e-09</td>\n      <td>0.000007</td>\n      <td>2.077097e-07</td>\n      <td>2.700772e-11</td>\n      <td>1.099117e+09</td>\n    </tr>\n    <tr>\n      <th>10</th>\n      <td>0.04</td>\n      <td>1.50</td>\n      <td>169.5</td>\n      <td>0.001</td>\n      <td>0.01</td>\n      <td>0.1</td>\n      <td>0.001039</td>\n      <td>1.964383e+11</td>\n      <td>339.0</td>\n      <td>1.725733e-09</td>\n      <td>0.000007</td>\n      <td>2.769463e-07</td>\n      <td>2.300978e-11</td>\n      <td>2.619818e+09</td>\n    </tr>\n    <tr>\n      <th>11</th>\n      <td>0.04</td>\n      <td>1.73</td>\n      <td>206.0</td>\n      <td>0.001</td>\n      <td>0.01</td>\n      <td>1.0</td>\n      <td>0.001198</td>\n      <td>1.794791e+11</td>\n      <td>412.0</td>\n      <td>2.295532e-09</td>\n      <td>0.000007</td>\n      <td>2.769463e-07</td>\n      <td>2.653794e-11</td>\n      <td>2.120140e+09</td>\n    </tr>\n    <tr>\n      <th>12</th>\n      <td>0.04</td>\n      <td>1.97</td>\n      <td>264.0</td>\n      <td>0.001</td>\n      <td>0.01</td>\n      <td>1.0</td>\n      <td>0.001364</td>\n      <td>1.773823e+11</td>\n      <td>528.0</td>\n      <td>2.976621e-09</td>\n      <td>0.000007</td>\n      <td>2.769463e-07</td>\n      <td>3.021950e-11</td>\n      <td>1.831904e+09</td>\n    </tr>\n    <tr>\n      <th>13</th>\n      <td>0.04</td>\n      <td>2.23</td>\n      <td>338.0</td>\n      <td>0.001</td>\n      <td>0.01</td>\n      <td>1.0</td>\n      <td>0.001544</td>\n      <td>1.772335e+11</td>\n      <td>676.0</td>\n      <td>3.814177e-09</td>\n      <td>0.000007</td>\n      <td>2.769463e-07</td>\n      <td>3.420787e-11</td>\n      <td>1.611015e+09</td>\n    </tr>\n    <tr>\n      <th>14</th>\n      <td>0.04</td>\n      <td>2.29</td>\n      <td>354.0</td>\n      <td>0.001</td>\n      <td>0.01</td>\n      <td>1.0</td>\n      <td>0.001586</td>\n      <td>1.760237e+11</td>\n      <td>708.0</td>\n      <td>4.022185e-09</td>\n      <td>0.000007</td>\n      <td>2.769463e-07</td>\n      <td>3.512826e-11</td>\n      <td>1.557299e+09</td>\n    </tr>\n    <tr>\n      <th>15</th>\n      <td>0.05</td>\n      <td>1.01</td>\n      <td>133.0</td>\n      <td>0.001</td>\n      <td>0.01</td>\n      <td>0.1</td>\n      <td>0.000699</td>\n      <td>2.175844e+11</td>\n      <td>266.0</td>\n      <td>1.222514e-09</td>\n      <td>0.000007</td>\n      <td>3.461829e-07</td>\n      <td>2.420820e-11</td>\n      <td>4.309378e+09</td>\n    </tr>\n    <tr>\n      <th>16</th>\n      <td>0.05</td>\n      <td>1.19</td>\n      <td>169.4</td>\n      <td>0.001</td>\n      <td>0.01</td>\n      <td>0.1</td>\n      <td>0.000824</td>\n      <td>1.996358e+11</td>\n      <td>338.8</td>\n      <td>1.697091e-09</td>\n      <td>0.000007</td>\n      <td>3.461829e-07</td>\n      <td>2.852253e-11</td>\n      <td>3.355740e+09</td>\n    </tr>\n    <tr>\n      <th>17</th>\n      <td>0.05</td>\n      <td>1.48</td>\n      <td>234.0</td>\n      <td>0.001</td>\n      <td>0.01</td>\n      <td>1.0</td>\n      <td>0.001025</td>\n      <td>1.782836e+11</td>\n      <td>468.0</td>\n      <td>2.625032e-09</td>\n      <td>0.000007</td>\n      <td>3.461829e-07</td>\n      <td>3.547340e-11</td>\n      <td>2.439169e+09</td>\n    </tr>\n    <tr>\n      <th>18</th>\n      <td>0.05</td>\n      <td>1.78</td>\n      <td>339.0</td>\n      <td>0.001</td>\n      <td>0.01</td>\n      <td>1.0</td>\n      <td>0.001232</td>\n      <td>1.785577e+11</td>\n      <td>678.0</td>\n      <td>3.797092e-09</td>\n      <td>0.000007</td>\n      <td>3.461829e-07</td>\n      <td>4.266396e-11</td>\n      <td>2.023478e+09</td>\n    </tr>\n    <tr>\n      <th>19</th>\n      <td>0.05</td>\n      <td>1.82</td>\n      <td>354.0</td>\n      <td>0.001</td>\n      <td>0.01</td>\n      <td>1.0</td>\n      <td>0.001260</td>\n      <td>1.783526e+11</td>\n      <td>708.0</td>\n      <td>3.969666e-09</td>\n      <td>0.000007</td>\n      <td>3.461829e-07</td>\n      <td>4.362270e-11</td>\n      <td>1.976041e+09</td>\n    </tr>\n  </tbody>\n</table>\n</div>"
     },
     "execution_count": 290,
     "metadata": {},
     "output_type": "execute_result"
    }
   ],
   "source": [
    "df"
   ],
   "metadata": {
    "collapsed": false
   }
  },
  {
   "cell_type": "code",
   "execution_count": 291,
   "outputs": [
    {
     "name": "stdout",
     "output_type": "stream",
     "text": [
      " FCN=647.938 FROM MIGRAD    STATUS=CONVERGED      39 CALLS          40 TOTAL\n",
      "                     EDM=2.78509e-07    STRATEGY= 1      ERROR MATRIX ACCURATE \n",
      "  EXT PARAMETER                                   STEP         FIRST   \n",
      "  NO.   NAME      VALUE            ERROR          SIZE      DERIVATIVE \n",
      "   1  p0           1.73573e+11   9.23534e+08   8.27662e+04   1.43404e-12\n",
      "   2  p1          -9.68556e-01   1.86131e+00   8.57662e-03   9.63319e-04\n"
     ]
    },
    {
     "data": {
      "image/png": "[encoded data removed]",
      "text/plain": "<IPython.core.display.Image object>"
     },
     "metadata": {},
     "output_type": "display_data"
    }
   ],
   "source": [
    "# plot 2V vs (Br)^2 in root\n",
    "\n",
    "c= r.TCanvas()\n",
    "gr = r.TGraphErrors(len(df), df[\"(Br)^2\"].values,df[\"2V\"].values,df[\"un_(Br)^2\"].values,df[\"un_V\"].values)\n",
    "gr.SetTitle(\"2V vs (Br)^2\")\n",
    "gr.GetYaxis().SetTitle(\"2V [V]\")\n",
    "gr.GetXaxis().SetTitle(\"(Br)^2 [Tm^2]\")\n",
    "\n",
    "#Set point size\n",
    "gr.SetLineWidth(3)\n",
    "#Set point color\n",
    "gr.SetMarkerColor(r.kRed)\n",
    "\n",
    "#fit a line\n",
    "f = r.TF1(\"ffline\", \"[0]*x + [1]\",0,4.5)\n",
    "f.SetParameters(1.75*10**11,0)\n",
    "f.SetLineWidth(3)\n",
    "f.SetLineColor(r.kBlue)\n",
    "gr.Fit(f)\n",
    "\n",
    "gr.Draw(\"A*\")\n",
    "c.Draw()"
   ],
   "metadata": {
    "collapsed": false
   }
  },
  {
   "cell_type": "code",
   "execution_count": 296,
   "outputs": [],
   "source": [
    "nChi2 = f.GetChisquare()/f.GetNDF()\n",
    "q_m = f.GetParameter(0)\n",
    "err = calc_error(q_m, Q_M_TRUE)"
   ],
   "metadata": {
    "collapsed": false
   }
  },
  {
   "cell_type": "code",
   "execution_count": 297,
   "outputs": [
    {
     "name": "stdout",
     "output_type": "stream",
     "text": [
      "Normalized chi squared= 35.99654858432699\n",
      "q_m =  173573301901.17682  +/-  1832853140.4357896\n",
      "q_m away from true value in std deviations:  1.2596197959833553\n",
      "Error = 1.3126403491108705 %\n"
     ]
    }
   ],
   "source": [
    "print(\"Normalized chi squared=\",nChi2)\n",
    "print(\"q_m = \", q_m, \" +/- \", un_q_m)\n",
    "print(\"q_m away from true value in std deviations: \", r.TMath.Abs((Q_M_TRUE-q_m)/un_q_m))\n",
    "print(\"Error =\", err*100, \"%\")"
   ],
   "metadata": {
    "collapsed": false
   }
  },
  {
   "cell_type": "code",
   "execution_count": 299,
   "outputs": [
    {
     "data": {
      "text/plain": "18"
     },
     "execution_count": 299,
     "metadata": {},
     "output_type": "execute_result"
    }
   ],
   "source": [
    "f.GetNDF()"
   ],
   "metadata": {
    "collapsed": false
   }
  },
  {
   "cell_type": "code",
   "execution_count": null,
   "outputs": [],
   "source": [],
   "metadata": {
    "collapsed": false
   }
  }
 ],
 "metadata": {
  "kernelspec": {
   "display_name": "Python 3",
   "language": "python",
   "name": "python3"
  },
  "language_info": {
   "codemirror_mode": {
    "name": "ipython",
    "version": 2
   },
   "file_extension": ".py",
   "mimetype": "text/x-python",
   "name": "python",
   "nbconvert_exporter": "python",
   "pygments_lexer": "ipython2",
   "version": "2.7.6"
  }
 },
 "nbformat": 4,
 "nbformat_minor": 0
}
