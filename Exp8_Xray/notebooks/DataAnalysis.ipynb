{
 "cells": [
  {
   "cell_type": "code",
   "execution_count": 260,
   "metadata": {
    "collapsed": true,
    "ExecuteTime": {
     "end_time": "2023-05-13T15:29:36.411044Z",
     "start_time": "2023-05-13T15:29:36.206843Z"
    }
   },
   "outputs": [],
   "source": [
    "import numpy as np\n",
    "import pandas as pd\n",
    "import ROOT as r"
   ]
  },
  {
   "cell_type": "markdown",
   "source": [
    "## Calibration"
   ],
   "metadata": {
    "collapsed": false
   }
  },
  {
   "cell_type": "code",
   "execution_count": 261,
   "outputs": [],
   "source": [
    "#read the calibration data"
   ],
   "metadata": {
    "collapsed": false,
    "ExecuteTime": {
     "end_time": "2023-05-13T15:29:36.419784Z",
     "start_time": "2023-05-13T15:29:36.311854Z"
    }
   }
  },
  {
   "cell_type": "code",
   "execution_count": 262,
   "outputs": [],
   "source": [
    "cal = pd.read_csv(\"../data/clb_35.txt\", sep=\"\\t\", names=[\"Angle\",\"Geiger Count\"])"
   ],
   "metadata": {
    "collapsed": false,
    "ExecuteTime": {
     "end_time": "2023-05-13T15:29:36.530486Z",
     "start_time": "2023-05-13T15:29:36.420854Z"
    }
   }
  },
  {
   "cell_type": "code",
   "execution_count": 263,
   "outputs": [
    {
     "data": {
      "text/plain": "    Angle Geiger Count\n0     3,0        945,0\n1     3,1        759,0\n2     3,2        526,0\n3     3,3        353,0\n4     3,4        270,0\n..    ...          ...\n416  44,6          9,0\n417  44,7          9,0\n418  44,8         10,0\n419  44,9         10,0\n420  45,0          8,0\n\n[421 rows x 2 columns]",
      "text/html": "<div>\n<style scoped>\n    .dataframe tbody tr th:only-of-type {\n        vertical-align: middle;\n    }\n\n    .dataframe tbody tr th {\n        vertical-align: top;\n    }\n\n    .dataframe thead th {\n        text-align: right;\n    }\n</style>\n<table border=\"1\" class=\"dataframe\">\n  <thead>\n    <tr style=\"text-align: right;\">\n      <th></th>\n      <th>Angle</th>\n      <th>Geiger Count</th>\n    </tr>\n  </thead>\n  <tbody>\n    <tr>\n      <th>0</th>\n      <td>3,0</td>\n      <td>945,0</td>\n    </tr>\n    <tr>\n      <th>1</th>\n      <td>3,1</td>\n      <td>759,0</td>\n    </tr>\n    <tr>\n      <th>2</th>\n      <td>3,2</td>\n      <td>526,0</td>\n    </tr>\n    <tr>\n      <th>3</th>\n      <td>3,3</td>\n      <td>353,0</td>\n    </tr>\n    <tr>\n      <th>4</th>\n      <td>3,4</td>\n      <td>270,0</td>\n    </tr>\n    <tr>\n      <th>...</th>\n      <td>...</td>\n      <td>...</td>\n    </tr>\n    <tr>\n      <th>416</th>\n      <td>44,6</td>\n      <td>9,0</td>\n    </tr>\n    <tr>\n      <th>417</th>\n      <td>44,7</td>\n      <td>9,0</td>\n    </tr>\n    <tr>\n      <th>418</th>\n      <td>44,8</td>\n      <td>10,0</td>\n    </tr>\n    <tr>\n      <th>419</th>\n      <td>44,9</td>\n      <td>10,0</td>\n    </tr>\n    <tr>\n      <th>420</th>\n      <td>45,0</td>\n      <td>8,0</td>\n    </tr>\n  </tbody>\n</table>\n<p>421 rows × 2 columns</p>\n</div>"
     },
     "execution_count": 263,
     "metadata": {},
     "output_type": "execute_result"
    }
   ],
   "source": [
    "cal"
   ],
   "metadata": {
    "collapsed": false,
    "ExecuteTime": {
     "end_time": "2023-05-13T15:29:36.644660Z",
     "start_time": "2023-05-13T15:29:36.531443Z"
    }
   }
  },
  {
   "cell_type": "code",
   "execution_count": 264,
   "outputs": [],
   "source": [
    "def replace_comma(x):\n",
    "    return x.replace(\",\",\".\")"
   ],
   "metadata": {
    "collapsed": false,
    "ExecuteTime": {
     "end_time": "2023-05-13T15:29:36.752210Z",
     "start_time": "2023-05-13T15:29:36.644870Z"
    }
   }
  },
  {
   "cell_type": "code",
   "execution_count": 265,
   "outputs": [],
   "source": [
    "cal[\"Angle\"] = cal[\"Angle\"].apply(replace_comma)\n",
    "cal[\"Geiger Count\"] = cal[\"Geiger Count\"].apply(replace_comma)"
   ],
   "metadata": {
    "collapsed": false,
    "ExecuteTime": {
     "end_time": "2023-05-13T15:29:36.861329Z",
     "start_time": "2023-05-13T15:29:36.753808Z"
    }
   }
  },
  {
   "cell_type": "code",
   "execution_count": 266,
   "outputs": [],
   "source": [
    "cal[\"Angle\"] = cal[\"Angle\"].astype(float)\n",
    "cal[\"Geiger Count\"] = cal[\"Geiger Count\"].astype(float)"
   ],
   "metadata": {
    "collapsed": false,
    "ExecuteTime": {
     "end_time": "2023-05-13T15:29:36.970169Z",
     "start_time": "2023-05-13T15:29:36.862813Z"
    }
   }
  },
  {
   "cell_type": "code",
   "execution_count": 267,
   "outputs": [],
   "source": [
    "cal = cal[cal[\"Angle\"]<=25]"
   ],
   "metadata": {
    "collapsed": false,
    "ExecuteTime": {
     "end_time": "2023-05-13T15:29:37.083914Z",
     "start_time": "2023-05-13T15:29:36.971403Z"
    }
   }
  },
  {
   "cell_type": "code",
   "execution_count": 268,
   "outputs": [
    {
     "data": {
      "text/plain": "     Angle  Geiger Count\n0      3.0         945.0\n1      3.1         759.0\n2      3.2         526.0\n3      3.3         353.0\n4      3.4         270.0\n..     ...           ...\n216   24.6          36.0\n217   24.7          36.0\n218   24.8          36.0\n219   24.9          34.0\n220   25.0          33.0\n\n[221 rows x 2 columns]",
      "text/html": "<div>\n<style scoped>\n    .dataframe tbody tr th:only-of-type {\n        vertical-align: middle;\n    }\n\n    .dataframe tbody tr th {\n        vertical-align: top;\n    }\n\n    .dataframe thead th {\n        text-align: right;\n    }\n</style>\n<table border=\"1\" class=\"dataframe\">\n  <thead>\n    <tr style=\"text-align: right;\">\n      <th></th>\n      <th>Angle</th>\n      <th>Geiger Count</th>\n    </tr>\n  </thead>\n  <tbody>\n    <tr>\n      <th>0</th>\n      <td>3.0</td>\n      <td>945.0</td>\n    </tr>\n    <tr>\n      <th>1</th>\n      <td>3.1</td>\n      <td>759.0</td>\n    </tr>\n    <tr>\n      <th>2</th>\n      <td>3.2</td>\n      <td>526.0</td>\n    </tr>\n    <tr>\n      <th>3</th>\n      <td>3.3</td>\n      <td>353.0</td>\n    </tr>\n    <tr>\n      <th>4</th>\n      <td>3.4</td>\n      <td>270.0</td>\n    </tr>\n    <tr>\n      <th>...</th>\n      <td>...</td>\n      <td>...</td>\n    </tr>\n    <tr>\n      <th>216</th>\n      <td>24.6</td>\n      <td>36.0</td>\n    </tr>\n    <tr>\n      <th>217</th>\n      <td>24.7</td>\n      <td>36.0</td>\n    </tr>\n    <tr>\n      <th>218</th>\n      <td>24.8</td>\n      <td>36.0</td>\n    </tr>\n    <tr>\n      <th>219</th>\n      <td>24.9</td>\n      <td>34.0</td>\n    </tr>\n    <tr>\n      <th>220</th>\n      <td>25.0</td>\n      <td>33.0</td>\n    </tr>\n  </tbody>\n</table>\n<p>221 rows × 2 columns</p>\n</div>"
     },
     "execution_count": 268,
     "metadata": {},
     "output_type": "execute_result"
    }
   ],
   "source": [
    "cal"
   ],
   "metadata": {
    "collapsed": false,
    "ExecuteTime": {
     "end_time": "2023-05-13T15:29:37.190203Z",
     "start_time": "2023-05-13T15:29:37.082991Z"
    }
   }
  },
  {
   "cell_type": "code",
   "execution_count": 269,
   "outputs": [
    {
     "name": "stderr",
     "output_type": "stream",
     "text": [
      "/var/folders/mb/djnxt02s4vqbng178bwhk1280000gn/T/ipykernel_62133/2925918234.py:1: SettingWithCopyWarning: \n",
      "A value is trying to be set on a copy of a slice from a DataFrame.\n",
      "Try using .loc[row_indexer,col_indexer] = value instead\n",
      "\n",
      "See the caveats in the documentation: https://pandas.pydata.org/pandas-docs/stable/user_guide/indexing.html#returning-a-view-versus-a-copy\n",
      "  cal[\"error_angle\"] = [0.1 for i in range(len(cal[\"Angle\"]))]\n",
      "/var/folders/mb/djnxt02s4vqbng178bwhk1280000gn/T/ipykernel_62133/2925918234.py:2: SettingWithCopyWarning: \n",
      "A value is trying to be set on a copy of a slice from a DataFrame.\n",
      "Try using .loc[row_indexer,col_indexer] = value instead\n",
      "\n",
      "See the caveats in the documentation: https://pandas.pydata.org/pandas-docs/stable/user_guide/indexing.html#returning-a-view-versus-a-copy\n",
      "  cal[\"error_count\"] = [int(np.sqrt(i)/5) for i in cal[\"Geiger Count\"]]\n",
      "/var/folders/mb/djnxt02s4vqbng178bwhk1280000gn/T/ipykernel_62133/2925918234.py:3: SettingWithCopyWarning: \n",
      "A value is trying to be set on a copy of a slice from a DataFrame.\n",
      "Try using .loc[row_indexer,col_indexer] = value instead\n",
      "\n",
      "See the caveats in the documentation: https://pandas.pydata.org/pandas-docs/stable/user_guide/indexing.html#returning-a-view-versus-a-copy\n",
      "  cal[\"error_count\"] = cal[\"error_count\"].astype(float)\n"
     ]
    }
   ],
   "source": [
    "cal[\"error_angle\"] = [0.1 for i in range(len(cal[\"Angle\"]))]\n",
    "cal[\"error_count\"] = [int(np.sqrt(i)/5) for i in cal[\"Geiger Count\"]]\n",
    "cal[\"error_count\"] = cal[\"error_count\"].astype(float)"
   ],
   "metadata": {
    "collapsed": false,
    "ExecuteTime": {
     "end_time": "2023-05-13T15:29:37.299321Z",
     "start_time": "2023-05-13T15:29:37.194182Z"
    }
   }
  },
  {
   "cell_type": "code",
   "execution_count": 270,
   "outputs": [
    {
     "data": {
      "text/plain": "     Angle  Geiger Count  error_angle  error_count\n0      3.0         945.0          0.1          6.0\n1      3.1         759.0          0.1          5.0\n2      3.2         526.0          0.1          4.0\n3      3.3         353.0          0.1          3.0\n4      3.4         270.0          0.1          3.0\n..     ...           ...          ...          ...\n216   24.6          36.0          0.1          1.0\n217   24.7          36.0          0.1          1.0\n218   24.8          36.0          0.1          1.0\n219   24.9          34.0          0.1          1.0\n220   25.0          33.0          0.1          1.0\n\n[221 rows x 4 columns]",
      "text/html": "<div>\n<style scoped>\n    .dataframe tbody tr th:only-of-type {\n        vertical-align: middle;\n    }\n\n    .dataframe tbody tr th {\n        vertical-align: top;\n    }\n\n    .dataframe thead th {\n        text-align: right;\n    }\n</style>\n<table border=\"1\" class=\"dataframe\">\n  <thead>\n    <tr style=\"text-align: right;\">\n      <th></th>\n      <th>Angle</th>\n      <th>Geiger Count</th>\n      <th>error_angle</th>\n      <th>error_count</th>\n    </tr>\n  </thead>\n  <tbody>\n    <tr>\n      <th>0</th>\n      <td>3.0</td>\n      <td>945.0</td>\n      <td>0.1</td>\n      <td>6.0</td>\n    </tr>\n    <tr>\n      <th>1</th>\n      <td>3.1</td>\n      <td>759.0</td>\n      <td>0.1</td>\n      <td>5.0</td>\n    </tr>\n    <tr>\n      <th>2</th>\n      <td>3.2</td>\n      <td>526.0</td>\n      <td>0.1</td>\n      <td>4.0</td>\n    </tr>\n    <tr>\n      <th>3</th>\n      <td>3.3</td>\n      <td>353.0</td>\n      <td>0.1</td>\n      <td>3.0</td>\n    </tr>\n    <tr>\n      <th>4</th>\n      <td>3.4</td>\n      <td>270.0</td>\n      <td>0.1</td>\n      <td>3.0</td>\n    </tr>\n    <tr>\n      <th>...</th>\n      <td>...</td>\n      <td>...</td>\n      <td>...</td>\n      <td>...</td>\n    </tr>\n    <tr>\n      <th>216</th>\n      <td>24.6</td>\n      <td>36.0</td>\n      <td>0.1</td>\n      <td>1.0</td>\n    </tr>\n    <tr>\n      <th>217</th>\n      <td>24.7</td>\n      <td>36.0</td>\n      <td>0.1</td>\n      <td>1.0</td>\n    </tr>\n    <tr>\n      <th>218</th>\n      <td>24.8</td>\n      <td>36.0</td>\n      <td>0.1</td>\n      <td>1.0</td>\n    </tr>\n    <tr>\n      <th>219</th>\n      <td>24.9</td>\n      <td>34.0</td>\n      <td>0.1</td>\n      <td>1.0</td>\n    </tr>\n    <tr>\n      <th>220</th>\n      <td>25.0</td>\n      <td>33.0</td>\n      <td>0.1</td>\n      <td>1.0</td>\n    </tr>\n  </tbody>\n</table>\n<p>221 rows × 4 columns</p>\n</div>"
     },
     "execution_count": 270,
     "metadata": {},
     "output_type": "execute_result"
    }
   ],
   "source": [
    "cal"
   ],
   "metadata": {
    "collapsed": false,
    "ExecuteTime": {
     "end_time": "2023-05-13T15:29:37.409488Z",
     "start_time": "2023-05-13T15:29:37.303916Z"
    }
   }
  },
  {
   "cell_type": "code",
   "execution_count": 271,
   "outputs": [
    {
     "data": {
      "text/plain": "<Axes: xlabel='Angle', ylabel='Geiger Count'>"
     },
     "execution_count": 271,
     "metadata": {},
     "output_type": "execute_result"
    },
    {
     "data": {
      "text/plain": "<Figure size 640x480 with 1 Axes>",
      "image/png": "[encoded data removed]"
     },
     "metadata": {},
     "output_type": "display_data"
    }
   ],
   "source": [
    "cal.plot(x=\"Angle\", y=\"Geiger Count\", kind=\"scatter\")"
   ],
   "metadata": {
    "collapsed": false,
    "ExecuteTime": {
     "end_time": "2023-05-13T15:29:37.584167Z",
     "start_time": "2023-05-13T15:29:37.424569Z"
    }
   }
  },
  {
   "cell_type": "code",
   "execution_count": 272,
   "outputs": [],
   "source": [
    "#do a scatter plot of the calibration data using root for angle vs count"
   ],
   "metadata": {
    "collapsed": false,
    "ExecuteTime": {
     "end_time": "2023-05-13T15:29:37.691713Z",
     "start_time": "2023-05-13T15:29:37.582755Z"
    }
   }
  },
  {
   "cell_type": "code",
   "execution_count": 273,
   "outputs": [
    {
     "name": "stdout",
     "output_type": "stream",
     "text": [
      " FCN=2.77187 FROM MIGRAD    STATUS=CONVERGED      83 CALLS          84 TOTAL\n",
      "                     EDM=6.20869e-07    STRATEGY= 1      ERROR MATRIX ACCURATE \n",
      "  EXT PARAMETER                                   STEP         FIRST   \n",
      "  NO.   NAME      VALUE            ERROR          SIZE      DERIVATIVE \n",
      "   1  Constant     9.45459e+02   8.27077e+01   7.09284e-02  -7.88578e-06\n",
      "   2  Mean         7.67181e+00   3.22983e-02   2.33033e-05   2.65938e-02\n",
      "   3  Sigma        1.79342e-01   4.04328e-02   5.52181e-05  -7.95756e-04\n",
      " FCN=0.00132926 FROM MIGRAD    STATUS=CONVERGED      83 CALLS          84 TOTAL\n",
      "                     EDM=9.64886e-08    STRATEGY= 1      ERROR MATRIX ACCURATE \n",
      "  EXT PARAMETER                                   STEP         FIRST   \n",
      "  NO.   NAME      VALUE            ERROR          SIZE      DERIVATIVE \n",
      "   1  Constant     8.93752e+02   2.17438e+02   8.58802e-02   2.35658e-06\n",
      "   2  Mean         1.50618e+01   5.19734e-02   2.44353e-05  -7.58962e-04\n",
      "   3  Sigma        1.25618e-01   6.80879e-02   8.32404e-05   1.98265e-03\n",
      " FCN=0.222534 FROM MIGRAD    STATUS=CONVERGED     149 CALLS         150 TOTAL\n",
      "                     EDM=1.48235e-09    STRATEGY= 1      ERROR MATRIX ACCURATE \n",
      "  EXT PARAMETER                                   STEP         FIRST   \n",
      "  NO.   NAME      VALUE            ERROR          SIZE      DERIVATIVE \n",
      "   1  Constant     3.43307e+02   9.87189e+00   5.02283e-03  -3.96571e-06\n",
      "   2  Mean         1.34092e+01   4.48206e-02   2.27159e-05   1.18874e-04\n",
      "   3  Sigma        1.87753e-01   5.64483e-02   6.51402e-05   2.81120e-04\n",
      " FCN=7.06462 FROM MIGRAD    STATUS=CONVERGED      82 CALLS          83 TOTAL\n",
      "                     EDM=8.84614e-08    STRATEGY= 1      ERROR MATRIX ACCURATE \n",
      "  EXT PARAMETER                                   STEP         FIRST   \n",
      "  NO.   NAME      VALUE            ERROR          SIZE      DERIVATIVE \n",
      "   1  Constant     9.76933e+01   1.99239e+00   2.55866e-03  -6.03536e-05\n",
      "   2  Mean         2.00865e+01   1.99782e-02   2.61799e-05  -1.11956e-02\n",
      "   3  Sigma        2.85546e-01   2.70111e-02   4.69850e-05  -9.68852e-03\n",
      " FCN=0.0264793 FROM MIGRAD    STATUS=CONVERGED      95 CALLS          96 TOTAL\n",
      "                     EDM=6.79702e-08    STRATEGY= 1      ERROR MATRIX ACCURATE \n",
      "  EXT PARAMETER                                   STEP         FIRST   \n",
      "  NO.   NAME      VALUE            ERROR          SIZE      DERIVATIVE \n",
      "   1  Constant     2.13391e+02   2.78847e+01   1.15535e-02  -4.65341e-06\n",
      "   2  Mean         2.26655e+01   4.85905e-02   2.16765e-05  -5.27525e-04\n",
      "   3  Sigma        1.63096e-01   5.65959e-02   6.00184e-05   2.18012e-03\n"
     ]
    },
    {
     "data": {
      "image/png": "[encoded data removed]",
      "text/plain": "<IPython.core.display.Image object>"
     },
     "metadata": {},
     "output_type": "display_data"
    }
   ],
   "source": [
    "c = r.TCanvas()\n",
    "gr = r.TGraphErrors(len(cal[\"Angle\"]), cal[\"Angle\"].values, cal[\"Geiger Count\"].values, cal[\"error_angle\"].values, cal[\"error_count\"].values)\n",
    "\n",
    "gr.SetTitle(\"Calibration Data\")\n",
    "gr.GetYaxis().SetTitle(\"Geiger Count\")\n",
    "gr.GetXaxis().SetTitle(\"Angle (Degrees)\")\n",
    "gr.SetMarkerStyle(3)\n",
    "#Set point color\n",
    "gr.SetMarkerColor(r.kRed)\n",
    "\n",
    "#fit a gaussian to the data\n",
    "\n",
    "k_alpha_1 = r.TF1(\"k_alpha_1\", \"gaus\", 7.4, 7.9)\n",
    "k_alpha_1.SetLineColor(r.kBlue)\n",
    "\n",
    "k_beta_2 = r.TF1(\"k_beta_2\", \"gaus\", 14.9, 15.2)\n",
    "k_beta_2.SetLineColor(r.kBlue)\n",
    "\n",
    "k_alpha_2 = r.TF1(\"k_alpha_2\", \"gaus\", 13.2, 13.6)\n",
    "k_alpha_2.SetLineColor(r.kBlue)\n",
    "\n",
    "k_beta_3 = r.TF1(\"k_beta_3\", \"gaus\", 19.7, 20.5)\n",
    "k_beta_3.SetLineColor(r.kBlue)\n",
    "\n",
    "k_alpha_3 = r.TF1(\"k_alpha_3\", \"gaus\", 22.5, 22.9)\n",
    "k_alpha_3.SetLineColor(r.kBlue)\n",
    "\n",
    "angels = {}\n",
    "\n",
    "gr.Draw(\"AP\")\n",
    "gr.Fit(k_alpha_1, \"R\")\n",
    "angels.update({\"k_alpha_1\":k_alpha_1.GetParameter(1)})\n",
    "gr.Fit(k_beta_2, \"R+\")\n",
    "angels.update({\"k_beta_2\":k_beta_2.GetParameter(1)})\n",
    "gr.Fit(k_alpha_2, \"R+\")\n",
    "angels.update({\"k_alpha_2\":k_alpha_2.GetParameter(1)})\n",
    "gr.Fit(k_beta_3, \"R+\")\n",
    "angels.update({\"k_beta_3\":k_beta_3.GetParameter(1)})\n",
    "gr.Fit(k_alpha_3, \"R+\")\n",
    "angels.update({\"k_alpha_3\":k_alpha_3.GetParameter(1)})\n",
    "\n",
    "c.Draw()"
   ],
   "metadata": {
    "collapsed": false,
    "ExecuteTime": {
     "end_time": "2023-05-13T15:29:37.825372Z",
     "start_time": "2023-05-13T15:29:37.690457Z"
    }
   }
  },
  {
   "cell_type": "code",
   "execution_count": 274,
   "outputs": [],
   "source": [
    "#molybdenum k-alpha and k-beta wavelengths\n",
    "mo_ka = 0.07093e-9\n",
    "mo_kb = 0.06326e-9"
   ],
   "metadata": {
    "collapsed": false,
    "ExecuteTime": {
     "end_time": "2023-05-13T15:29:37.931169Z",
     "start_time": "2023-05-13T15:29:37.824771Z"
    }
   }
  },
  {
   "cell_type": "code",
   "execution_count": 275,
   "outputs": [],
   "source": [
    "#calculate the scattering angles for the k-alpha and k-beta wavelengths\n",
    "\n",
    "def theta(n, d, wavelength):\n",
    "    return r.TMath.ASin((n*wavelength)/(2*d))*180/r.TMath.Pi()"
   ],
   "metadata": {
    "collapsed": false,
    "ExecuteTime": {
     "end_time": "2023-05-13T15:29:38.045438Z",
     "start_time": "2023-05-13T15:29:37.931451Z"
    }
   }
  },
  {
   "cell_type": "code",
   "execution_count": 276,
   "outputs": [],
   "source": [
    "#nacl crystal spacing\n",
    "d = 282e-12"
   ],
   "metadata": {
    "collapsed": false,
    "ExecuteTime": {
     "end_time": "2023-05-13T15:29:38.149880Z",
     "start_time": "2023-05-13T15:29:38.045640Z"
    }
   }
  },
  {
   "cell_type": "code",
   "execution_count": 277,
   "outputs": [],
   "source": [
    "k_alpha_1_theoritical = theta(1, d, mo_ka)\n",
    "k_beta_2_theoritical = theta(2, d, mo_kb)\n",
    "k_alpha_2_theoritical = theta(2, d, mo_ka)\n",
    "k_beta_3_theoritical = theta(3, d, mo_kb)\n",
    "k_alpha_3_theoritical = theta(3, d, mo_ka)"
   ],
   "metadata": {
    "collapsed": false,
    "ExecuteTime": {
     "end_time": "2023-05-13T15:29:38.255629Z",
     "start_time": "2023-05-13T15:29:38.151356Z"
    }
   }
  },
  {
   "cell_type": "code",
   "execution_count": 278,
   "outputs": [],
   "source": [
    "#add angles both theoritical and experimental values to a dataframe\n",
    "angels = pd.DataFrame({\"k_alpha_1\": [k_alpha_1.GetParameter(1), k_alpha_1_theoritical,k_alpha_1.GetParError(1),0.],\n",
    "                       \"k_beta_2\": [k_beta_2.GetParameter(1), k_beta_2_theoritical,k_beta_2.GetParError(1),0.],\n",
    "                       \"k_alpha_2\": [k_alpha_2.GetParameter(1), k_alpha_2_theoritical,k_alpha_2.GetParError(1),0.],\n",
    "                       \"k_beta_3\": [k_beta_3.GetParameter(1), k_beta_3_theoritical,k_beta_3.GetParError(1),0.],\n",
    "                       \"k_alpha_3\": [k_alpha_3.GetParameter(1), k_alpha_3_theoritical,k_alpha_3.GetParError(1),0.]},\n",
    "                      index=[\"Experimental\", \"Theoritical\", \"Experimental Error\", \"Theoritical Error\"])\n",
    "\n"
   ],
   "metadata": {
    "collapsed": false,
    "ExecuteTime": {
     "end_time": "2023-05-13T15:29:38.364786Z",
     "start_time": "2023-05-13T15:29:38.257299Z"
    }
   }
  },
  {
   "cell_type": "code",
   "execution_count": 279,
   "outputs": [],
   "source": [
    "#experimental error"
   ],
   "metadata": {
    "collapsed": false,
    "ExecuteTime": {
     "end_time": "2023-05-13T15:29:38.474130Z",
     "start_time": "2023-05-13T15:29:38.365618Z"
    }
   }
  },
  {
   "cell_type": "code",
   "execution_count": 280,
   "outputs": [
    {
     "data": {
      "text/plain": "                    k_alpha_1   k_beta_2  k_alpha_2   k_beta_3  k_alpha_3\nExperimental         7.671814  15.061761  13.409209  20.086459  22.665514\nTheoritical          7.224786  12.963262  14.567762  19.663131  22.165749\nExperimental Error   0.032298   0.051973   0.044821   0.019978   0.048590\nTheoritical Error    0.000000   0.000000   0.000000   0.000000   0.000000",
      "text/html": "<div>\n<style scoped>\n    .dataframe tbody tr th:only-of-type {\n        vertical-align: middle;\n    }\n\n    .dataframe tbody tr th {\n        vertical-align: top;\n    }\n\n    .dataframe thead th {\n        text-align: right;\n    }\n</style>\n<table border=\"1\" class=\"dataframe\">\n  <thead>\n    <tr style=\"text-align: right;\">\n      <th></th>\n      <th>k_alpha_1</th>\n      <th>k_beta_2</th>\n      <th>k_alpha_2</th>\n      <th>k_beta_3</th>\n      <th>k_alpha_3</th>\n    </tr>\n  </thead>\n  <tbody>\n    <tr>\n      <th>Experimental</th>\n      <td>7.671814</td>\n      <td>15.061761</td>\n      <td>13.409209</td>\n      <td>20.086459</td>\n      <td>22.665514</td>\n    </tr>\n    <tr>\n      <th>Theoritical</th>\n      <td>7.224786</td>\n      <td>12.963262</td>\n      <td>14.567762</td>\n      <td>19.663131</td>\n      <td>22.165749</td>\n    </tr>\n    <tr>\n      <th>Experimental Error</th>\n      <td>0.032298</td>\n      <td>0.051973</td>\n      <td>0.044821</td>\n      <td>0.019978</td>\n      <td>0.048590</td>\n    </tr>\n    <tr>\n      <th>Theoritical Error</th>\n      <td>0.000000</td>\n      <td>0.000000</td>\n      <td>0.000000</td>\n      <td>0.000000</td>\n      <td>0.000000</td>\n    </tr>\n  </tbody>\n</table>\n</div>"
     },
     "execution_count": 280,
     "metadata": {},
     "output_type": "execute_result"
    }
   ],
   "source": [
    "angels"
   ],
   "metadata": {
    "collapsed": false,
    "ExecuteTime": {
     "end_time": "2023-05-13T15:29:38.586909Z",
     "start_time": "2023-05-13T15:29:38.474309Z"
    }
   }
  },
  {
   "cell_type": "code",
   "execution_count": 281,
   "outputs": [
    {
     "name": "stdout",
     "output_type": "stream",
     "text": [
      " FCN=2280.81 FROM MIGRAD    STATUS=CONVERGED      49 CALLS          50 TOTAL\n",
      "                     EDM=1.24154e-09    STRATEGY= 1      ERROR MATRIX ACCURATE \n",
      "  EXT PARAMETER                                   STEP         FIRST   \n",
      "  NO.   NAME      VALUE            ERROR          SIZE      DERIVATIVE \n",
      "   1  p0           1.00567e+00   2.83070e-03   1.94388e-05   4.57316e-02\n",
      "   2  p1          -4.94576e-01   4.95322e-02   3.40141e-04   3.14574e-03\n"
     ]
    },
    {
     "data": {
      "image/png": "[encoded data removed]",
      "text/plain": "<IPython.core.display.Image object>"
     },
     "metadata": {},
     "output_type": "display_data"
    }
   ],
   "source": [
    "#plot the Experimental vs Theoritical angles using root\n",
    "\n",
    "c = r.TCanvas()\n",
    "gr = r.TGraphErrors(len(angels.columns), angels.loc[\"Experimental\"].values/1, angels.loc[\"Theoritical\"].values/1, angels.loc[\"Experimental Error\"].values/1, angels.loc[\"Theoritical Error\"].values/1)\n",
    "\n",
    "gr.SetTitle(\"Experimental vs Theoritical Angles\")\n",
    "gr.GetYaxis().SetTitle(\"Theoritical Angle (Degrees)\")\n",
    "gr.GetXaxis().SetTitle(\"Experimental Angle (Degrees)\")\n",
    "gr.SetMarkerStyle(3)\n",
    "#Set point color\n",
    "gr.SetMarkerColor(r.kRed)\n",
    "\n",
    "#fit a line\n",
    "line = r.TF1(\"line\", \"[0]*x+[1]\", 0, 25)\n",
    "line.SetParameters(1, 0)\n",
    "line.SetLineColor(r.kBlue)\n",
    "\n",
    "gr.Draw(\"AP\")\n",
    "gr.Fit(line, \"R\")\n",
    "c.Draw(\"same\")"
   ],
   "metadata": {
    "collapsed": false,
    "ExecuteTime": {
     "end_time": "2023-05-13T15:29:38.716951Z",
     "start_time": "2023-05-13T15:29:38.592294Z"
    }
   }
  },
  {
   "cell_type": "code",
   "execution_count": 282,
   "outputs": [],
   "source": [
    "slope = line.GetParameter(0)\n",
    "slope_error = line.GetParError(0)"
   ],
   "metadata": {
    "collapsed": false,
    "ExecuteTime": {
     "end_time": "2023-05-13T15:29:38.825291Z",
     "start_time": "2023-05-13T15:29:38.717136Z"
    }
   }
  },
  {
   "cell_type": "markdown",
   "source": [
    "## Planck's Constant"
   ],
   "metadata": {
    "collapsed": false
   }
  },
  {
   "cell_type": "code",
   "execution_count": 283,
   "outputs": [],
   "source": [
    "#read the data\n",
    "\n",
    "volt_15 = pd.read_csv(\"../data/15.txt\", sep=\"\\t\", names=[\"Angle\",\"Geiger Count\"])\n",
    "volt_18 = pd.read_csv(\"../data/18.txt\", sep=\"\\t\", names=[\"Angle\",\"Geiger Count\"])\n",
    "volt_21 = pd.read_csv(\"../data/21.txt\", sep=\"\\t\", names=[\"Angle\",\"Geiger Count\"])\n",
    "volt_24 = pd.read_csv(\"../data/24.txt\", sep=\"\\t\", names=[\"Angle\",\"Geiger Count\"])\n",
    "volt_27 = pd.read_csv(\"../data/27.txt\", sep=\"\\t\", names=[\"Angle\",\"Geiger Count\"])\n",
    "volt_30 = pd.read_csv(\"../data/30.txt\", sep=\"\\t\", names=[\"Angle\",\"Geiger Count\"])"
   ],
   "metadata": {
    "collapsed": false,
    "ExecuteTime": {
     "end_time": "2023-05-13T15:29:38.938138Z",
     "start_time": "2023-05-13T15:29:38.827115Z"
    }
   }
  },
  {
   "cell_type": "code",
   "execution_count": 284,
   "outputs": [],
   "source": [
    "#apply replace_comma to all the dataframes\n",
    "volt_15[\"Angle\"] = volt_15[\"Angle\"].apply(replace_comma)\n",
    "volt_15[\"Geiger Count\"] = volt_15[\"Geiger Count\"].apply(replace_comma)\n",
    "volt_15[\"Angle\"] = volt_15[\"Angle\"].astype(float)\n",
    "volt_15[\"Geiger Count\"] = volt_15[\"Geiger Count\"].astype(float)\n",
    "\n",
    "volt_18[\"Angle\"] = volt_18[\"Angle\"].apply(replace_comma)\n",
    "volt_18[\"Geiger Count\"] = volt_18[\"Geiger Count\"].apply(replace_comma)\n",
    "volt_18[\"Angle\"] = volt_18[\"Angle\"].astype(float)\n",
    "volt_18[\"Geiger Count\"] = volt_18[\"Geiger Count\"].astype(float)\n",
    "\n",
    "volt_21[\"Angle\"] = volt_21[\"Angle\"].apply(replace_comma)\n",
    "volt_21[\"Geiger Count\"] = volt_21[\"Geiger Count\"].apply(replace_comma)\n",
    "volt_21[\"Angle\"] = volt_21[\"Angle\"].astype(float)\n",
    "volt_21[\"Geiger Count\"] = volt_21[\"Geiger Count\"].astype(float)\n",
    "\n",
    "volt_24[\"Angle\"] = volt_24[\"Angle\"].apply(replace_comma)\n",
    "volt_24[\"Geiger Count\"] = volt_24[\"Geiger Count\"].apply(replace_comma)\n",
    "volt_24[\"Angle\"] = volt_24[\"Angle\"].astype(float)\n",
    "volt_24[\"Geiger Count\"] = volt_24[\"Geiger Count\"].astype(float)\n",
    "\n",
    "volt_27[\"Angle\"] = volt_27[\"Angle\"].apply(replace_comma)\n",
    "volt_27[\"Geiger Count\"] = volt_27[\"Geiger Count\"].apply(replace_comma)\n",
    "volt_27[\"Angle\"] = volt_27[\"Angle\"].astype(float)\n",
    "volt_27[\"Geiger Count\"] = volt_27[\"Geiger Count\"].astype(float)\n",
    "\n",
    "volt_30[\"Angle\"] = volt_30[\"Angle\"].apply(replace_comma)\n",
    "volt_30[\"Geiger Count\"] = volt_30[\"Geiger Count\"].apply(replace_comma)\n",
    "volt_30[\"Angle\"] = volt_30[\"Angle\"].astype(float)\n",
    "volt_30[\"Geiger Count\"] = volt_30[\"Geiger Count\"].astype(float)"
   ],
   "metadata": {
    "collapsed": false,
    "ExecuteTime": {
     "end_time": "2023-05-13T15:29:39.054364Z",
     "start_time": "2023-05-13T15:29:38.946531Z"
    }
   }
  },
  {
   "cell_type": "code",
   "execution_count": 285,
   "outputs": [],
   "source": [
    "#combine all the data into one dataframe and add a column for the voltage\n",
    "\n",
    "volt_15[\"Voltage\"] = 15\n",
    "volt_18[\"Voltage\"] = 18\n",
    "volt_21[\"Voltage\"] = 21\n",
    "volt_24[\"Voltage\"] = 24\n",
    "volt_27[\"Voltage\"] = 27\n",
    "volt_30[\"Voltage\"] = 30\n",
    "\n",
    "volt = pd.concat([volt_15, volt_18, volt_21, volt_24, volt_27, volt_30])"
   ],
   "metadata": {
    "collapsed": false,
    "ExecuteTime": {
     "end_time": "2023-05-13T15:29:39.165863Z",
     "start_time": "2023-05-13T15:29:39.056533Z"
    }
   }
  },
  {
   "cell_type": "code",
   "execution_count": 286,
   "outputs": [
    {
     "data": {
      "text/plain": "    Angle  Geiger Count  Voltage\n0     3.0          23.0       15\n1     3.1          23.0       15\n2     3.2          17.0       15\n3     3.3          12.0       15\n4     3.4           8.0       15\n..    ...           ...      ...\n73   10.3         156.0       30\n74   10.4         148.0       30\n75   10.5         142.0       30\n76   10.6         150.0       30\n77   10.7         148.0       30\n\n[577 rows x 3 columns]",
      "text/html": "<div>\n<style scoped>\n    .dataframe tbody tr th:only-of-type {\n        vertical-align: middle;\n    }\n\n    .dataframe tbody tr th {\n        vertical-align: top;\n    }\n\n    .dataframe thead th {\n        text-align: right;\n    }\n</style>\n<table border=\"1\" class=\"dataframe\">\n  <thead>\n    <tr style=\"text-align: right;\">\n      <th></th>\n      <th>Angle</th>\n      <th>Geiger Count</th>\n      <th>Voltage</th>\n    </tr>\n  </thead>\n  <tbody>\n    <tr>\n      <th>0</th>\n      <td>3.0</td>\n      <td>23.0</td>\n      <td>15</td>\n    </tr>\n    <tr>\n      <th>1</th>\n      <td>3.1</td>\n      <td>23.0</td>\n      <td>15</td>\n    </tr>\n    <tr>\n      <th>2</th>\n      <td>3.2</td>\n      <td>17.0</td>\n      <td>15</td>\n    </tr>\n    <tr>\n      <th>3</th>\n      <td>3.3</td>\n      <td>12.0</td>\n      <td>15</td>\n    </tr>\n    <tr>\n      <th>4</th>\n      <td>3.4</td>\n      <td>8.0</td>\n      <td>15</td>\n    </tr>\n    <tr>\n      <th>...</th>\n      <td>...</td>\n      <td>...</td>\n      <td>...</td>\n    </tr>\n    <tr>\n      <th>73</th>\n      <td>10.3</td>\n      <td>156.0</td>\n      <td>30</td>\n    </tr>\n    <tr>\n      <th>74</th>\n      <td>10.4</td>\n      <td>148.0</td>\n      <td>30</td>\n    </tr>\n    <tr>\n      <th>75</th>\n      <td>10.5</td>\n      <td>142.0</td>\n      <td>30</td>\n    </tr>\n    <tr>\n      <th>76</th>\n      <td>10.6</td>\n      <td>150.0</td>\n      <td>30</td>\n    </tr>\n    <tr>\n      <th>77</th>\n      <td>10.7</td>\n      <td>148.0</td>\n      <td>30</td>\n    </tr>\n  </tbody>\n</table>\n<p>577 rows × 3 columns</p>\n</div>"
     },
     "execution_count": 286,
     "metadata": {},
     "output_type": "execute_result"
    }
   ],
   "source": [
    "volt"
   ],
   "metadata": {
    "collapsed": false,
    "ExecuteTime": {
     "end_time": "2023-05-13T15:29:39.278296Z",
     "start_time": "2023-05-13T15:29:39.170002Z"
    }
   }
  },
  {
   "cell_type": "markdown",
   "source": [
    "### Errors"
   ],
   "metadata": {
    "collapsed": false
   }
  },
  {
   "cell_type": "code",
   "execution_count": 287,
   "outputs": [],
   "source": [
    "volt[\"error_angle\"] = [0.1 for i in range(len(volt[\"Angle\"]))]\n",
    "volt[\"error_count\"] = [(np.sqrt(i)/5) for i in volt[\"Geiger Count\"]]"
   ],
   "metadata": {
    "collapsed": false,
    "ExecuteTime": {
     "end_time": "2023-05-13T15:29:39.392291Z",
     "start_time": "2023-05-13T15:29:39.285247Z"
    }
   }
  },
  {
   "cell_type": "markdown",
   "source": [
    "### Plots and Fits for each voltage"
   ],
   "metadata": {
    "collapsed": false
   }
  },
  {
   "cell_type": "code",
   "execution_count": 288,
   "outputs": [],
   "source": [
    "x_intercept={}\n",
    "x_error = {}"
   ],
   "metadata": {
    "collapsed": false,
    "ExecuteTime": {
     "end_time": "2023-05-13T15:29:39.500647Z",
     "start_time": "2023-05-13T15:29:39.392852Z"
    }
   }
  },
  {
   "cell_type": "code",
   "execution_count": 289,
   "outputs": [
    {
     "name": "stdout",
     "output_type": "stream",
     "text": [
      " FCN=2.52767 FROM MIGRAD    STATUS=CONVERGED     105 CALLS         106 TOTAL\n",
      "                     EDM=2.81086e-10    STRATEGY= 1      ERROR MATRIX ACCURATE \n",
      "  EXT PARAMETER                                   STEP         FIRST   \n",
      "  NO.   NAME      VALUE            ERROR          SIZE      DERIVATIVE \n",
      "   1  p0           1.08213e+01   2.80865e+00   4.90759e-05   2.33908e-04\n",
      "   2  p1          -9.10209e+01   2.45559e+01   4.29054e-04   2.59290e-05\n"
     ]
    },
    {
     "data": {
      "image/png": "[encoded data removed]",
      "text/plain": "<IPython.core.display.Image object>"
     },
     "metadata": {},
     "output_type": "display_data"
    }
   ],
   "source": [
    "#plot the data using root for 15V\n",
    "voltage = 15\n",
    "tmp = volt[volt[\"Voltage\"]==voltage]\n",
    "c = r.TCanvas()\n",
    "gr = r.TGraphErrors(len(tmp[\"Angle\"]), tmp[\"Angle\"].values/1, tmp[\"Geiger Count\"].values/1, tmp[\"error_angle\"].values/1, tmp[\"error_count\"].values/1)\n",
    "\n",
    "gr.SetTitle(\"Crystal Angle vs Geiger Count | Acceleration Voltage = {}kV\".format(voltage))\n",
    "gr.GetYaxis().SetTitle(\"Geiger Count\")\n",
    "gr.GetXaxis().SetTitle(\"Angle (Degrees)\")\n",
    "#Set point color\n",
    "gr.SetMarkerColor(r.kRed)\n",
    "\n",
    "#fit a line\n",
    "line = r.TF1(\"line\", \"[0] * x + [1]\", 8.5, 9)\n",
    "line.SetLineColor(r.kBlue)\n",
    "line.SetLineWidth(5)\n",
    "\n",
    "gr.Draw(\"AP\")\n",
    "gr.Fit(line, \"R\")\n",
    "c.Draw(\"same\")\n",
    "\n",
    "x_intercept.update({voltage:-line.GetParameter(1)/line.GetParameter(0)})\n",
    "x_error.update({voltage:np.sqrt((line.GetParError(1)/line.GetParameter(0))**2 + (line.GetParError(0)*line.GetParameter(1)/line.GetParameter(0)**2)**2)})"
   ],
   "metadata": {
    "collapsed": false,
    "ExecuteTime": {
     "end_time": "2023-05-13T15:29:39.640297Z",
     "start_time": "2023-05-13T15:29:39.501363Z"
    }
   }
  },
  {
   "cell_type": "code",
   "execution_count": 290,
   "outputs": [
    {
     "name": "stdout",
     "output_type": "stream",
     "text": [
      " FCN=4.77891 FROM MIGRAD    STATUS=CONVERGED      86 CALLS          87 TOTAL\n",
      "                     EDM=1.84863e-08    STRATEGY= 1      ERROR MATRIX ACCURATE \n",
      "  EXT PARAMETER                                   STEP         FIRST   \n",
      "  NO.   NAME      VALUE            ERROR          SIZE      DERIVATIVE \n",
      "   1  p0           2.41081e+01   2.44471e+00   1.18115e-04   1.15995e-03\n",
      "   2  p1          -1.69994e+02   1.83148e+01   8.84808e-04   1.63054e-04\n"
     ]
    },
    {
     "data": {
      "image/png": "[encoded data removed]",
      "text/plain": "<IPython.core.display.Image object>"
     },
     "metadata": {},
     "output_type": "display_data"
    }
   ],
   "source": [
    "#plot the data using root for 18V\n",
    "voltage = 18\n",
    "tmp = volt[volt[\"Voltage\"]==voltage]\n",
    "c = r.TCanvas()\n",
    "gr = r.TGraphErrors(len(tmp[\"Angle\"]), tmp[\"Angle\"].values/1, tmp[\"Geiger Count\"].values/1, tmp[\"error_angle\"].values/1, tmp[\"error_count\"].values/1)\n",
    "\n",
    "gr.SetTitle(\"Crystal Angle vs Geiger Count | Acceleration Voltage = {}kV\".format(voltage))\n",
    "gr.GetYaxis().SetTitle(\"Geiger Count\")\n",
    "gr.GetXaxis().SetTitle(\"Angle (Degrees)\")\n",
    "#Set point color\n",
    "gr.SetMarkerColor(r.kRed)\n",
    "\n",
    "#fit a line\n",
    "line = r.TF1(\"line\", \"[0] * x + [1]\", 7, 8)\n",
    "line.SetLineColor(r.kBlue)\n",
    "line.SetLineWidth(5)\n",
    "\n",
    "gr.Draw(\"AP\")\n",
    "gr.Fit(line, \"R\")\n",
    "c.Draw(\"same\")\n",
    "\n",
    "x_intercept.update({voltage:-line.GetParameter(1)/line.GetParameter(0)})\n",
    "x_error.update({voltage: np.sqrt((line.GetParError(1) / line.GetParameter(0)) ** 2 + (\n",
    "            line.GetParError(0) * line.GetParameter(1) / line.GetParameter(0) ** 2) ** 2)})"
   ],
   "metadata": {
    "collapsed": false,
    "ExecuteTime": {
     "end_time": "2023-05-13T15:29:39.806863Z",
     "start_time": "2023-05-13T15:29:39.645828Z"
    }
   }
  },
  {
   "cell_type": "code",
   "execution_count": 291,
   "outputs": [
    {
     "name": "stdout",
     "output_type": "stream",
     "text": [
      " FCN=10.9955 FROM MIGRAD    STATUS=CONVERGED      76 CALLS          77 TOTAL\n",
      "                     EDM=1.2286e-07    STRATEGY= 1      ERROR MATRIX ACCURATE \n",
      "  EXT PARAMETER                                   STEP         FIRST   \n",
      "  NO.   NAME      VALUE            ERROR          SIZE      DERIVATIVE \n",
      "   1  p0           2.98258e+01   1.15293e+00   1.67055e-04  -1.27721e-03\n",
      "   2  p1          -1.79403e+02   8.05065e+00   1.16616e-03  -1.22696e-04\n"
     ]
    },
    {
     "data": {
      "image/png": "[encoded data removed]",
      "text/plain": "<IPython.core.display.Image object>"
     },
     "metadata": {},
     "output_type": "display_data"
    }
   ],
   "source": [
    "#plot the data using root for 21V\n",
    "voltage = 21\n",
    "tmp = volt[volt[\"Voltage\"]==voltage]\n",
    "c = r.TCanvas()\n",
    "gr = r.TGraphErrors(len(tmp[\"Angle\"]), tmp[\"Angle\"].values/1, tmp[\"Geiger Count\"].values/1, tmp[\"error_angle\"].values/1, tmp[\"error_count\"].values/1)\n",
    "\n",
    "gr.SetTitle(\"Crystal Angle vs Geiger Count | Acceleration Voltage = {}kV\".format(voltage))\n",
    "gr.GetYaxis().SetTitle(\"Geiger Count\")\n",
    "gr.GetXaxis().SetTitle(\"Angle (Degrees)\")\n",
    "#Set point color\n",
    "gr.SetMarkerColor(r.kRed)\n",
    "\n",
    "#fit a line\n",
    "line = r.TF1(\"line\", \"[0] * x + [1]\", 6, 8)\n",
    "line.SetLineColor(r.kBlue)\n",
    "line.SetLineWidth(5)\n",
    "\n",
    "gr.Draw(\"AP\")\n",
    "gr.Fit(line, \"R\")\n",
    "c.Draw(\"same\")\n",
    "\n",
    "x_intercept.update({voltage:-line.GetParameter(1)/line.GetParameter(0)})\n",
    "x_error.update({voltage: np.sqrt((line.GetParError(1) / line.GetParameter(0)) ** 2 + (\n",
    "            line.GetParError(0) * line.GetParameter(1) / line.GetParameter(0) ** 2) ** 2)})"
   ],
   "metadata": {
    "collapsed": false,
    "ExecuteTime": {
     "end_time": "2023-05-13T15:29:39.900988Z",
     "start_time": "2023-05-13T15:29:39.773490Z"
    }
   }
  },
  {
   "cell_type": "code",
   "execution_count": 292,
   "outputs": [
    {
     "name": "stdout",
     "output_type": "stream",
     "text": [
      " FCN=48.1191 FROM MIGRAD    STATUS=CONVERGED      82 CALLS          83 TOTAL\n",
      "                     EDM=5.17976e-11    STRATEGY= 1      ERROR MATRIX ACCURATE \n",
      "  EXT PARAMETER                                   STEP         FIRST   \n",
      "  NO.   NAME      VALUE            ERROR          SIZE      DERIVATIVE \n",
      "   1  p0           3.50838e+01   1.38993e+00   4.56547e-04   7.38777e-05\n",
      "   2  p1          -1.81461e+02   8.32890e+00   2.73575e-03   1.19668e-05\n"
     ]
    },
    {
     "data": {
      "image/png": "[encoded data removed]",
      "text/plain": "<IPython.core.display.Image object>"
     },
     "metadata": {},
     "output_type": "display_data"
    }
   ],
   "source": [
    "#plot the data using root for 24V\n",
    "voltage = 24\n",
    "tmp = volt[volt[\"Voltage\"]==voltage]\n",
    "c = r.TCanvas()\n",
    "gr = r.TGraphErrors(len(tmp[\"Angle\"]), tmp[\"Angle\"].values/1, tmp[\"Geiger Count\"].values/1, tmp[\"error_angle\"].values/1, tmp[\"error_count\"].values/1)\n",
    "\n",
    "gr.SetTitle(\"Crystal Angle vs Geiger Count | Acceleration Voltage = {}kV\".format(voltage))\n",
    "gr.GetYaxis().SetTitle(\"Geiger Count\")\n",
    "gr.GetXaxis().SetTitle(\"Angle (Degrees)\")\n",
    "#Set point color\n",
    "gr.SetMarkerColor(r.kRed)\n",
    "\n",
    "#fit a line\n",
    "line = r.TF1(\"line\", \"[0] * x + [1]\", 5, 7)\n",
    "line.SetLineColor(r.kBlue)\n",
    "line.SetLineWidth(5)\n",
    "\n",
    "gr.Draw(\"AP\")\n",
    "gr.Fit(line, \"R\")\n",
    "c.Draw(\"same\")\n",
    "\n",
    "x_intercept.update({voltage:-line.GetParameter(1)/line.GetParameter(0)})\n",
    "x_error.update({voltage: np.sqrt((line.GetParError(1) / line.GetParameter(0)) ** 2 + (\n",
    "            line.GetParError(0) * line.GetParameter(1) / line.GetParameter(0) ** 2) ** 2)})\n"
   ],
   "metadata": {
    "collapsed": false,
    "ExecuteTime": {
     "end_time": "2023-05-13T15:29:40.034051Z",
     "start_time": "2023-05-13T15:29:39.907184Z"
    }
   }
  },
  {
   "cell_type": "code",
   "execution_count": 293,
   "outputs": [
    {
     "name": "stdout",
     "output_type": "stream",
     "text": [
      " FCN=29.1304 FROM MIGRAD    STATUS=CONVERGED      97 CALLS          98 TOTAL\n",
      "                     EDM=1.55017e-13    STRATEGY= 1      ERROR MATRIX ACCURATE \n",
      "  EXT PARAMETER                                   STEP         FIRST   \n",
      "  NO.   NAME      VALUE            ERROR          SIZE      DERIVATIVE \n",
      "   1  p0           5.22905e+01   2.02458e+00   5.31055e-04  -4.08085e-07\n",
      "   2  p1          -2.53035e+02   1.21556e+01   3.18848e-03  -1.12964e-07\n"
     ]
    },
    {
     "data": {
      "image/png": "[encoded data removed]",
      "text/plain": "<IPython.core.display.Image object>"
     },
     "metadata": {},
     "output_type": "display_data"
    }
   ],
   "source": [
    "#plot the data using root for 27V\n",
    "voltage = 27\n",
    "tmp = volt[volt[\"Voltage\"]==voltage]\n",
    "c = r.TCanvas()\n",
    "gr = r.TGraphErrors(len(tmp[\"Angle\"]), tmp[\"Angle\"].values/1, tmp[\"Geiger Count\"].values/1, tmp[\"error_angle\"].values/1, tmp[\"error_count\"].values/1)\n",
    "\n",
    "gr.SetTitle(\"Crystal Angle vs Geiger Count | Acceleration Voltage = {}kV\".format(voltage))\n",
    "gr.GetYaxis().SetTitle(\"Geiger Count\")\n",
    "gr.GetXaxis().SetTitle(\"Angle (Degrees)\")\n",
    "#Set point color\n",
    "gr.SetMarkerColor(r.kRed)\n",
    "\n",
    "#fit a line\n",
    "line = r.TF1(\"line\", \"[0] * x + [1]\", 5, 7)\n",
    "line.SetLineColor(r.kBlue)\n",
    "line.SetLineWidth(5)\n",
    "\n",
    "gr.Draw(\"AP\")\n",
    "gr.Fit(line, \"R\")\n",
    "c.Draw(\"same\")\n",
    "\n",
    "x_intercept.update({voltage:-line.GetParameter(1)/line.GetParameter(0)})\n",
    "x_error.update({voltage: np.sqrt((line.GetParError(1) / line.GetParameter(0)) ** 2 + (\n",
    "            line.GetParError(0) * line.GetParameter(1) / line.GetParameter(0) ** 2) ** 2)})\n"
   ],
   "metadata": {
    "collapsed": false,
    "ExecuteTime": {
     "end_time": "2023-05-13T15:29:40.167375Z",
     "start_time": "2023-05-13T15:29:40.033461Z"
    }
   }
  },
  {
   "cell_type": "code",
   "execution_count": 294,
   "outputs": [
    {
     "name": "stdout",
     "output_type": "stream",
     "text": [
      " FCN=2.03106 FROM MIGRAD    STATUS=CONVERGED      90 CALLS          91 TOTAL\n",
      "                     EDM=5.19746e-07    STRATEGY= 1      ERROR MATRIX ACCURATE \n",
      "  EXT PARAMETER                                   STEP         FIRST   \n",
      "  NO.   NAME      VALUE            ERROR          SIZE      DERIVATIVE \n",
      "   1  p0           6.63209e+01   8.89040e+00   3.76935e-04  -5.56321e-04\n",
      "   2  p1          -2.83793e+02   4.53640e+01   1.92255e-03  -8.70854e-05\n"
     ]
    },
    {
     "data": {
      "image/png": "[encoded data removed]",
      "text/plain": "<IPython.core.display.Image object>"
     },
     "metadata": {},
     "output_type": "display_data"
    }
   ],
   "source": [
    "#plot the data using root for 30V\n",
    "voltage = 30\n",
    "tmp = volt[volt[\"Voltage\"]==voltage]\n",
    "c = r.TCanvas()\n",
    "gr = r.TGraphErrors(len(tmp[\"Angle\"]), tmp[\"Angle\"].values/1, tmp[\"Geiger Count\"].values/1, tmp[\"error_angle\"].values/1, tmp[\"error_count\"].values/1)\n",
    "\n",
    "gr.SetTitle(\"Crystal Angle vs Geiger Count | Acceleration Voltage = {}kV\".format(voltage))\n",
    "gr.GetYaxis().SetTitle(\"Geiger Count\")\n",
    "gr.GetXaxis().SetTitle(\"Angle (Degrees)\")\n",
    "#Set point color\n",
    "gr.SetMarkerColor(r.kRed)\n",
    "\n",
    "#fit a line\n",
    "line = r.TF1(\"line\", \"[0] * x + [1]\", 4.7, 5.5)\n",
    "line.SetLineColor(r.kBlue)\n",
    "line.SetLineWidth(5)\n",
    "\n",
    "gr.Draw(\"AP\")\n",
    "gr.Fit(line, \"R\")\n",
    "c.Draw(\"same\")\n",
    "\n",
    "x_intercept.update({voltage:-line.GetParameter(1)/line.GetParameter(0)})\n",
    "x_error.update({voltage: np.sqrt((line.GetParError(1) / line.GetParameter(0)) ** 2 + (\n",
    "            line.GetParError(0) * line.GetParameter(1) / line.GetParameter(0) ** 2) ** 2)})\n"
   ],
   "metadata": {
    "collapsed": false,
    "ExecuteTime": {
     "end_time": "2023-05-13T15:29:40.301429Z",
     "start_time": "2023-05-13T15:29:40.172722Z"
    }
   }
  },
  {
   "cell_type": "code",
   "execution_count": 295,
   "outputs": [
    {
     "data": {
      "text/plain": "{15: 8.411274871170823,\n 18: 7.051301644045831,\n 21: 6.015012817684349,\n 24: 5.172207745852846,\n 27: 4.839028736758486,\n 30: 4.279086412414786}"
     },
     "execution_count": 295,
     "metadata": {},
     "output_type": "execute_result"
    }
   ],
   "source": [
    "x_intercept"
   ],
   "metadata": {
    "collapsed": false,
    "ExecuteTime": {
     "end_time": "2023-05-13T15:29:40.409464Z",
     "start_time": "2023-05-13T15:29:40.301577Z"
    }
   }
  },
  {
   "cell_type": "code",
   "execution_count": 296,
   "outputs": [
    {
     "data": {
      "text/plain": "{15: 3.1488744309454644,\n 18: 1.0432757671694057,\n 21: 0.356259021250838,\n 24: 0.3136029409967041,\n 27: 0.2985656570316599,\n 30: 0.8926942631223109}"
     },
     "execution_count": 296,
     "metadata": {},
     "output_type": "execute_result"
    }
   ],
   "source": [
    "x_error"
   ],
   "metadata": {
    "collapsed": false,
    "ExecuteTime": {
     "end_time": "2023-05-13T15:29:40.519275Z",
     "start_time": "2023-05-13T15:29:40.410651Z"
    }
   }
  },
  {
   "cell_type": "code",
   "execution_count": 297,
   "outputs": [],
   "source": [
    "#calibrate x_intercept using slope\n",
    "\n",
    "for i in x_intercept:\n",
    "    x_intercept[i] = x_intercept[i] * slope\n",
    "\n",
    "#propagate errors in x_intercept using slope_error and product rule\n",
    "for i in x_error:\n",
    "    x_error[i] = np.sqrt((x_error[i] * slope) ** 2 + (x_intercept[i] * slope_error) ** 2)\n"
   ],
   "metadata": {
    "collapsed": false,
    "ExecuteTime": {
     "end_time": "2023-05-13T15:29:40.629380Z",
     "start_time": "2023-05-13T15:29:40.521555Z"
    }
   }
  },
  {
   "cell_type": "code",
   "execution_count": 298,
   "outputs": [
    {
     "data": {
      "text/plain": "{15: 8.458975648183557,\n 18: 7.09128994219609,\n 21: 6.049124268033987,\n 24: 5.201539604831094,\n 27: 4.866471120257505,\n 30: 4.3033533338866325}"
     },
     "execution_count": 298,
     "metadata": {},
     "output_type": "execute_result"
    }
   ],
   "source": [
    "x_intercept"
   ],
   "metadata": {
    "collapsed": false,
    "ExecuteTime": {
     "end_time": "2023-05-13T15:29:40.739524Z",
     "start_time": "2023-05-13T15:29:40.629575Z"
    }
   }
  },
  {
   "cell_type": "code",
   "execution_count": 299,
   "outputs": [
    {
     "data": {
      "text/plain": "{15: 3.1668223883259645,\n 18: 1.049384244282174,\n 21: 0.3586883387549741,\n 24: 0.3157249183089174,\n 27: 0.30057467559532447,\n 30: 0.897839419482331}"
     },
     "execution_count": 299,
     "metadata": {},
     "output_type": "execute_result"
    }
   ],
   "source": [
    "x_error"
   ],
   "metadata": {
    "collapsed": false,
    "ExecuteTime": {
     "end_time": "2023-05-13T15:29:40.849596Z",
     "start_time": "2023-05-13T15:29:40.740850Z"
    }
   }
  },
  {
   "cell_type": "code",
   "execution_count": 300,
   "outputs": [
    {
     "data": {
      "text/plain": "{15: 3.1668223883259645,\n 18: 1.049384244282174,\n 21: 0.3586883387549741,\n 24: 0.3157249183089174,\n 27: 0.30057467559532447,\n 30: 0.897839419482331}"
     },
     "execution_count": 300,
     "metadata": {},
     "output_type": "execute_result"
    }
   ],
   "source": [
    "x_error"
   ],
   "metadata": {
    "collapsed": false,
    "ExecuteTime": {
     "end_time": "2023-05-13T15:29:40.955004Z",
     "start_time": "2023-05-13T15:29:40.850822Z"
    }
   }
  },
  {
   "cell_type": "code",
   "execution_count": 301,
   "outputs": [],
   "source": [
    "def angle_to_wavelength(angle):\n",
    "    return 2 * d * np.sin(angle * np.pi / 180)"
   ],
   "metadata": {
    "collapsed": false,
    "ExecuteTime": {
     "end_time": "2023-05-13T15:29:41.063748Z",
     "start_time": "2023-05-13T15:29:40.955180Z"
    }
   }
  },
  {
   "cell_type": "code",
   "execution_count": 302,
   "outputs": [],
   "source": [
    "wavelength = []\n",
    "wavelength_error = []\n",
    "for i in x_intercept:\n",
    "    wavelength.append(angle_to_wavelength(x_intercept[i]))\n",
    "\n",
    "for i in x_error:\n",
    "    wavelength_error.append(angle_to_wavelength(x_error[i]))"
   ],
   "metadata": {
    "collapsed": false,
    "ExecuteTime": {
     "end_time": "2023-05-13T15:29:41.172665Z",
     "start_time": "2023-05-13T15:29:41.064858Z"
    }
   }
  },
  {
   "cell_type": "code",
   "execution_count": 303,
   "outputs": [
    {
     "data": {
      "text/plain": "[8.29650926148361e-11,\n 6.9626150705757e-11,\n 5.943494499376818e-11,\n 5.113186818158959e-11,\n 4.78462958516515e-11,\n 4.232091801000712e-11]"
     },
     "execution_count": 303,
     "metadata": {},
     "output_type": "execute_result"
    }
   ],
   "source": [
    "wavelength"
   ],
   "metadata": {
    "collapsed": false,
    "ExecuteTime": {
     "end_time": "2023-05-13T15:29:41.282258Z",
     "start_time": "2023-05-13T15:29:41.173887Z"
    }
   }
  },
  {
   "cell_type": "code",
   "execution_count": 304,
   "outputs": [
    {
     "data": {
      "text/plain": "[3.115724375658374e-11,\n 1.0329201036519868e-11,\n 3.530781907138966e-12,\n 3.1078720678173615e-12,\n 2.9587404326643613e-12,\n 8.837661567859007e-12]"
     },
     "execution_count": 304,
     "metadata": {},
     "output_type": "execute_result"
    }
   ],
   "source": [
    "wavelength_error"
   ],
   "metadata": {
    "collapsed": false,
    "ExecuteTime": {
     "end_time": "2023-05-13T15:29:41.389243Z",
     "start_time": "2023-05-13T15:29:41.282999Z"
    }
   }
  },
  {
   "cell_type": "code",
   "execution_count": 305,
   "outputs": [],
   "source": [
    "c = 299792458\n",
    "def wavelength_to_frequency(wavelength):\n",
    "    return c / wavelength"
   ],
   "metadata": {
    "collapsed": false,
    "ExecuteTime": {
     "end_time": "2023-05-13T15:29:41.497962Z",
     "start_time": "2023-05-13T15:29:41.389932Z"
    }
   }
  },
  {
   "cell_type": "code",
   "execution_count": 306,
   "outputs": [],
   "source": [
    "frequency = []\n",
    "frequency_error = []\n",
    "for i in wavelength:\n",
    "    frequency.append(wavelength_to_frequency(i))\n",
    "\n",
    "for i in wavelength_error:\n",
    "    frequency_error.append(wavelength_to_frequency(i))\n",
    "\n"
   ],
   "metadata": {
    "collapsed": false,
    "ExecuteTime": {
     "end_time": "2023-05-13T15:29:41.602580Z",
     "start_time": "2023-05-13T15:29:41.499953Z"
    }
   }
  },
  {
   "cell_type": "code",
   "execution_count": 307,
   "outputs": [
    {
     "data": {
      "text/plain": "[3.613477048615867e+18,\n 4.3057451110134666e+18,\n 5.044043668778251e+18,\n 5.863123501283344e+18,\n 6.265740172019025e+18,\n 7.083789107058398e+18]"
     },
     "execution_count": 307,
     "metadata": {},
     "output_type": "execute_result"
    }
   ],
   "source": [
    "frequency"
   ],
   "metadata": {
    "collapsed": false,
    "ExecuteTime": {
     "end_time": "2023-05-13T15:29:41.712336Z",
     "start_time": "2023-05-13T15:29:41.604273Z"
    }
   }
  },
  {
   "cell_type": "code",
   "execution_count": 308,
   "outputs": [
    {
     "data": {
      "text/plain": "[9.621918432263502e+18,\n 2.9023779955492725e+19,\n 8.490823446043014e+19,\n 9.646229042192921e+19,\n 1.0132435231232342e+20,\n 3.3922147357428974e+19]"
     },
     "execution_count": 308,
     "metadata": {},
     "output_type": "execute_result"
    }
   ],
   "source": [
    "frequency_error"
   ],
   "metadata": {
    "collapsed": false,
    "ExecuteTime": {
     "end_time": "2023-05-13T15:29:41.822215Z",
     "start_time": "2023-05-13T15:29:41.713384Z"
    }
   }
  },
  {
   "cell_type": "code",
   "execution_count": 309,
   "outputs": [],
   "source": [
    "energy = []\n",
    "energy_error = []\n",
    "e = 1.60217662e-19\n",
    "voltage = [15e3,18e3, 21e3, 24e3, 27e3, 30e3]\n",
    "\n",
    "for i in voltage:\n",
    "    energy.append(i * e)\n",
    "\n",
    "for i in voltage:\n",
    "    energy_error.append(0.1 * i * e)"
   ],
   "metadata": {
    "collapsed": false,
    "ExecuteTime": {
     "end_time": "2023-05-13T15:29:41.931013Z",
     "start_time": "2023-05-13T15:29:41.823737Z"
    }
   }
  },
  {
   "cell_type": "code",
   "execution_count": 310,
   "outputs": [
    {
     "data": {
      "text/plain": "[2.4032649300000002e-15,\n 2.883917916e-15,\n 3.3645709020000002e-15,\n 3.845223888e-15,\n 4.325876874e-15,\n 4.8065298600000004e-15]"
     },
     "execution_count": 310,
     "metadata": {},
     "output_type": "execute_result"
    }
   ],
   "source": [
    "energy"
   ],
   "metadata": {
    "collapsed": false,
    "ExecuteTime": {
     "end_time": "2023-05-13T15:29:42.058083Z",
     "start_time": "2023-05-13T15:29:41.932184Z"
    }
   }
  },
  {
   "cell_type": "code",
   "execution_count": 311,
   "outputs": [
    {
     "data": {
      "text/plain": "[2.40326493e-16,\n 2.883917916e-16,\n 3.3645709020000003e-16,\n 3.845223888e-16,\n 4.325876874e-16,\n 4.80652986e-16]"
     },
     "execution_count": 311,
     "metadata": {},
     "output_type": "execute_result"
    }
   ],
   "source": [
    "energy_error"
   ],
   "metadata": {
    "collapsed": false,
    "ExecuteTime": {
     "end_time": "2023-05-13T15:29:42.147737Z",
     "start_time": "2023-05-13T15:29:42.041077Z"
    }
   }
  },
  {
   "cell_type": "code",
   "execution_count": 312,
   "outputs": [],
   "source": [
    "#create a dataframe for the data, use float"
   ],
   "metadata": {
    "collapsed": false,
    "ExecuteTime": {
     "end_time": "2023-05-13T15:29:42.256666Z",
     "start_time": "2023-05-13T15:29:42.148372Z"
    }
   }
  },
  {
   "cell_type": "code",
   "execution_count": 313,
   "outputs": [],
   "source": [
    "data = pd.DataFrame({\"Voltage\": voltage, \"Frequency\": frequency, \"Frequency Error\": frequency_error, \"Energy\": energy, \"Energy Error\": energy_error})"
   ],
   "metadata": {
    "collapsed": false,
    "ExecuteTime": {
     "end_time": "2023-05-13T15:29:42.365666Z",
     "start_time": "2023-05-13T15:29:42.258348Z"
    }
   }
  },
  {
   "cell_type": "code",
   "execution_count": 314,
   "outputs": [
    {
     "data": {
      "text/plain": "[3.613477048615867e+18,\n 4.3057451110134666e+18,\n 5.044043668778251e+18,\n 5.863123501283344e+18,\n 6.265740172019025e+18,\n 7.083789107058398e+18]"
     },
     "execution_count": 314,
     "metadata": {},
     "output_type": "execute_result"
    }
   ],
   "source": [
    "frequency"
   ],
   "metadata": {
    "collapsed": false,
    "ExecuteTime": {
     "end_time": "2023-05-13T15:29:42.475363Z",
     "start_time": "2023-05-13T15:29:42.366641Z"
    }
   }
  },
  {
   "cell_type": "code",
   "execution_count": 315,
   "outputs": [
    {
     "name": "stdout",
     "output_type": "stream",
     "text": [
      " FCN=4.75267e-06 FROM HESSE     STATUS=OK             10 CALLS          57 TOTAL\n",
      "                     EDM=1.4822e-10    STRATEGY= 1      ERROR MATRIX ACCURATE \n",
      "  EXT PARAMETER                                   STEP         FIRST   \n",
      "  NO.   NAME      VALUE            ERROR          SIZE      DERIVATIVE \n",
      "   1  p0           6.92002e-34   6.50115e-33   2.87787e-38  -2.61485e+27\n",
      "   2  p1          -9.75964e-17   2.64027e-14   2.08066e-18   8.47361e+06\n"
     ]
    },
    {
     "data": {
      "image/png": "[encoded data removed]",
      "text/plain": "<IPython.core.display.Image object>"
     },
     "metadata": {},
     "output_type": "display_data"
    }
   ],
   "source": [
    "#plot energy vs frequency\n",
    "c = r.TCanvas()\n",
    "gr = r.TGraphErrors(len(data[\"Frequency\"]), data[\"Frequency\"].values/1, data[\"Energy\"].values/1, data[\"Frequency Error\"].values/1, data[\"Energy Error\"].values/1)\n",
    "\n",
    "gr.SetTitle(\"Energy vs Frequency\")\n",
    "gr.GetYaxis().SetTitle(\"Energy (J)\")\n",
    "gr.GetXaxis().SetTitle(\"Frequency (Hz)\")\n",
    "#Set point color\n",
    "gr.SetMarkerColor(r.kRed)\n",
    "\n",
    "#fit a line\n",
    "line = r.TF1(\"line\", \"[0] * x + [1]\", 3e18,8e18)\n",
    "line.SetParameters(6.62607004e-34, 0)\n",
    "line.SetLineColor(r.kBlue)\n",
    "line.SetLineWidth(5)\n",
    "\n",
    "gr.Draw(\"AP\")\n",
    "gr.Fit(line, \"R\")\n",
    "c.Draw(\"same\")"
   ],
   "metadata": {
    "collapsed": false,
    "ExecuteTime": {
     "end_time": "2023-05-13T15:29:42.609405Z",
     "start_time": "2023-05-13T15:29:42.475536Z"
    }
   }
  },
  {
   "cell_type": "markdown",
   "source": [
    "## Results"
   ],
   "metadata": {
    "collapsed": false
   }
  },
  {
   "cell_type": "code",
   "execution_count": 316,
   "outputs": [],
   "source": [
    "#true value for plancks constant\n",
    "plancks_constant = 6.62607004e-34"
   ],
   "metadata": {
    "collapsed": false,
    "ExecuteTime": {
     "end_time": "2023-05-13T15:29:42.717136Z",
     "start_time": "2023-05-13T15:29:42.609623Z"
    }
   }
  },
  {
   "cell_type": "code",
   "execution_count": 317,
   "outputs": [],
   "source": [
    "sigma_away = np.abs(line.GetParameter(0)-plancks_constant) / line.GetParError(0)"
   ],
   "metadata": {
    "collapsed": false,
    "ExecuteTime": {
     "end_time": "2023-05-13T15:29:42.825681Z",
     "start_time": "2023-05-13T15:29:42.718084Z"
    }
   }
  },
  {
   "cell_type": "code",
   "execution_count": 318,
   "outputs": [
    {
     "name": "stdout",
     "output_type": "stream",
     "text": [
      "0.004521452996341045 sigma away from the true value of plancks constant\n"
     ]
    }
   ],
   "source": [
    "print(sigma_away, \"sigma away from the true value of plancks constant\")"
   ],
   "metadata": {
    "collapsed": false,
    "ExecuteTime": {
     "end_time": "2023-05-13T15:29:42.931912Z",
     "start_time": "2023-05-13T15:29:42.826318Z"
    }
   }
  }
 ],
 "metadata": {
  "kernelspec": {
   "display_name": "Python 3",
   "language": "python",
   "name": "python3"
  },
  "language_info": {
   "codemirror_mode": {
    "name": "ipython",
    "version": 2
   },
   "file_extension": ".py",
   "mimetype": "text/x-python",
   "name": "python",
   "nbconvert_exporter": "python",
   "pygments_lexer": "ipython2",
   "version": "2.7.6"
  }
 },
 "nbformat": 4,
 "nbformat_minor": 0
}
