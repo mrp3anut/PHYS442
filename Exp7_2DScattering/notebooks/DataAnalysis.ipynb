{
 "cells": [
  {
   "cell_type": "code",
   "execution_count": 305,
   "metadata": {
    "collapsed": true,
    "ExecuteTime": {
     "start_time": "2023-05-06T19:44:45.984905Z",
     "end_time": "2023-05-06T19:44:46.090198Z"
    }
   },
   "outputs": [],
   "source": [
    "import pandas as pd\n",
    "import ROOT as r"
   ]
  },
  {
   "cell_type": "code",
   "execution_count": 306,
   "outputs": [],
   "source": [
    "data = pd.read_csv('../data/scattering2d_data.csv',index_col=0)"
   ],
   "metadata": {
    "collapsed": false,
    "ExecuteTime": {
     "start_time": "2023-05-06T19:44:46.286379Z",
     "end_time": "2023-05-06T19:44:46.400275Z"
    }
   }
  },
  {
   "cell_type": "code",
   "execution_count": 307,
   "outputs": [
    {
     "data": {
      "text/plain": "         sum  angle\n0-10      19      5\n10--30    23     20\n30-50     18     40\n50-70     32     60\n70-90     20     80\n90-110    31    100\n110-130   32    120\n130-150   24    140\n150-170   34    160\n170-190    0    180\n190-210   26    200\n210-230   29    220\n230-250   27    240\n250-270   26    260\n270-290   18    280\n290-310   16    300\n310-330   27    320\n330-350   87    340\n350-360   23    355",
      "text/html": "<div>\n<style scoped>\n    .dataframe tbody tr th:only-of-type {\n        vertical-align: middle;\n    }\n\n    .dataframe tbody tr th {\n        vertical-align: top;\n    }\n\n    .dataframe thead th {\n        text-align: right;\n    }\n</style>\n<table border=\"1\" class=\"dataframe\">\n  <thead>\n    <tr style=\"text-align: right;\">\n      <th></th>\n      <th>sum</th>\n      <th>angle</th>\n    </tr>\n  </thead>\n  <tbody>\n    <tr>\n      <th>0-10</th>\n      <td>19</td>\n      <td>5</td>\n    </tr>\n    <tr>\n      <th>10--30</th>\n      <td>23</td>\n      <td>20</td>\n    </tr>\n    <tr>\n      <th>30-50</th>\n      <td>18</td>\n      <td>40</td>\n    </tr>\n    <tr>\n      <th>50-70</th>\n      <td>32</td>\n      <td>60</td>\n    </tr>\n    <tr>\n      <th>70-90</th>\n      <td>20</td>\n      <td>80</td>\n    </tr>\n    <tr>\n      <th>90-110</th>\n      <td>31</td>\n      <td>100</td>\n    </tr>\n    <tr>\n      <th>110-130</th>\n      <td>32</td>\n      <td>120</td>\n    </tr>\n    <tr>\n      <th>130-150</th>\n      <td>24</td>\n      <td>140</td>\n    </tr>\n    <tr>\n      <th>150-170</th>\n      <td>34</td>\n      <td>160</td>\n    </tr>\n    <tr>\n      <th>170-190</th>\n      <td>0</td>\n      <td>180</td>\n    </tr>\n    <tr>\n      <th>190-210</th>\n      <td>26</td>\n      <td>200</td>\n    </tr>\n    <tr>\n      <th>210-230</th>\n      <td>29</td>\n      <td>220</td>\n    </tr>\n    <tr>\n      <th>230-250</th>\n      <td>27</td>\n      <td>240</td>\n    </tr>\n    <tr>\n      <th>250-270</th>\n      <td>26</td>\n      <td>260</td>\n    </tr>\n    <tr>\n      <th>270-290</th>\n      <td>18</td>\n      <td>280</td>\n    </tr>\n    <tr>\n      <th>290-310</th>\n      <td>16</td>\n      <td>300</td>\n    </tr>\n    <tr>\n      <th>310-330</th>\n      <td>27</td>\n      <td>320</td>\n    </tr>\n    <tr>\n      <th>330-350</th>\n      <td>87</td>\n      <td>340</td>\n    </tr>\n    <tr>\n      <th>350-360</th>\n      <td>23</td>\n      <td>355</td>\n    </tr>\n  </tbody>\n</table>\n</div>"
     },
     "execution_count": 307,
     "metadata": {},
     "output_type": "execute_result"
    }
   ],
   "source": [
    "data"
   ],
   "metadata": {
    "collapsed": false,
    "ExecuteTime": {
     "start_time": "2023-05-06T19:44:46.579904Z",
     "end_time": "2023-05-06T19:44:46.684738Z"
    }
   }
  },
  {
   "cell_type": "code",
   "execution_count": 308,
   "outputs": [
    {
     "data": {
      "text/plain": "512"
     },
     "execution_count": 308,
     "metadata": {},
     "output_type": "execute_result"
    }
   ],
   "source": [
    "data[\"sum\"].sum()"
   ],
   "metadata": {
    "collapsed": false,
    "ExecuteTime": {
     "start_time": "2023-05-06T19:44:46.950223Z",
     "end_time": "2023-05-06T19:44:47.056591Z"
    }
   }
  },
  {
   "cell_type": "code",
   "execution_count": 309,
   "outputs": [],
   "source": [
    "data = data[(data.angle>5) & (data.angle<355)]"
   ],
   "metadata": {
    "collapsed": false,
    "ExecuteTime": {
     "start_time": "2023-05-06T19:44:47.400537Z",
     "end_time": "2023-05-06T19:44:47.508462Z"
    }
   }
  },
  {
   "cell_type": "code",
   "execution_count": 310,
   "outputs": [],
   "source": [
    "entries = []\n",
    "for i in range(len(data)):\n",
    "    for j in range(data[\"sum\"][i]):\n",
    "        entries.append(data[\"angle\"][i])"
   ],
   "metadata": {
    "collapsed": false,
    "ExecuteTime": {
     "start_time": "2023-05-06T19:44:47.828755Z",
     "end_time": "2023-05-06T19:44:47.932781Z"
    }
   }
  },
  {
   "cell_type": "code",
   "execution_count": 311,
   "outputs": [
    {
     "data": {
      "text/plain": "[20,\n 20,\n 20,\n 20,\n 20,\n 20,\n 20,\n 20,\n 20,\n 20,\n 20,\n 20,\n 20,\n 20,\n 20,\n 20,\n 20,\n 20,\n 20,\n 20,\n 20,\n 20,\n 20,\n 40,\n 40,\n 40,\n 40,\n 40,\n 40,\n 40,\n 40,\n 40,\n 40,\n 40,\n 40,\n 40,\n 40,\n 40,\n 40,\n 40,\n 40,\n 60,\n 60,\n 60,\n 60,\n 60,\n 60,\n 60,\n 60,\n 60,\n 60,\n 60,\n 60,\n 60,\n 60,\n 60,\n 60,\n 60,\n 60,\n 60,\n 60,\n 60,\n 60,\n 60,\n 60,\n 60,\n 60,\n 60,\n 60,\n 60,\n 60,\n 60,\n 60,\n 80,\n 80,\n 80,\n 80,\n 80,\n 80,\n 80,\n 80,\n 80,\n 80,\n 80,\n 80,\n 80,\n 80,\n 80,\n 80,\n 80,\n 80,\n 80,\n 80,\n 100,\n 100,\n 100,\n 100,\n 100,\n 100,\n 100,\n 100,\n 100,\n 100,\n 100,\n 100,\n 100,\n 100,\n 100,\n 100,\n 100,\n 100,\n 100,\n 100,\n 100,\n 100,\n 100,\n 100,\n 100,\n 100,\n 100,\n 100,\n 100,\n 100,\n 100,\n 120,\n 120,\n 120,\n 120,\n 120,\n 120,\n 120,\n 120,\n 120,\n 120,\n 120,\n 120,\n 120,\n 120,\n 120,\n 120,\n 120,\n 120,\n 120,\n 120,\n 120,\n 120,\n 120,\n 120,\n 120,\n 120,\n 120,\n 120,\n 120,\n 120,\n 120,\n 120,\n 140,\n 140,\n 140,\n 140,\n 140,\n 140,\n 140,\n 140,\n 140,\n 140,\n 140,\n 140,\n 140,\n 140,\n 140,\n 140,\n 140,\n 140,\n 140,\n 140,\n 140,\n 140,\n 140,\n 140,\n 160,\n 160,\n 160,\n 160,\n 160,\n 160,\n 160,\n 160,\n 160,\n 160,\n 160,\n 160,\n 160,\n 160,\n 160,\n 160,\n 160,\n 160,\n 160,\n 160,\n 160,\n 160,\n 160,\n 160,\n 160,\n 160,\n 160,\n 160,\n 160,\n 160,\n 160,\n 160,\n 160,\n 160,\n 200,\n 200,\n 200,\n 200,\n 200,\n 200,\n 200,\n 200,\n 200,\n 200,\n 200,\n 200,\n 200,\n 200,\n 200,\n 200,\n 200,\n 200,\n 200,\n 200,\n 200,\n 200,\n 200,\n 200,\n 200,\n 200,\n 220,\n 220,\n 220,\n 220,\n 220,\n 220,\n 220,\n 220,\n 220,\n 220,\n 220,\n 220,\n 220,\n 220,\n 220,\n 220,\n 220,\n 220,\n 220,\n 220,\n 220,\n 220,\n 220,\n 220,\n 220,\n 220,\n 220,\n 220,\n 220,\n 240,\n 240,\n 240,\n 240,\n 240,\n 240,\n 240,\n 240,\n 240,\n 240,\n 240,\n 240,\n 240,\n 240,\n 240,\n 240,\n 240,\n 240,\n 240,\n 240,\n 240,\n 240,\n 240,\n 240,\n 240,\n 240,\n 240,\n 260,\n 260,\n 260,\n 260,\n 260,\n 260,\n 260,\n 260,\n 260,\n 260,\n 260,\n 260,\n 260,\n 260,\n 260,\n 260,\n 260,\n 260,\n 260,\n 260,\n 260,\n 260,\n 260,\n 260,\n 260,\n 260,\n 280,\n 280,\n 280,\n 280,\n 280,\n 280,\n 280,\n 280,\n 280,\n 280,\n 280,\n 280,\n 280,\n 280,\n 280,\n 280,\n 280,\n 280,\n 300,\n 300,\n 300,\n 300,\n 300,\n 300,\n 300,\n 300,\n 300,\n 300,\n 300,\n 300,\n 300,\n 300,\n 300,\n 300,\n 320,\n 320,\n 320,\n 320,\n 320,\n 320,\n 320,\n 320,\n 320,\n 320,\n 320,\n 320,\n 320,\n 320,\n 320,\n 320,\n 320,\n 320,\n 320,\n 320,\n 320,\n 320,\n 320,\n 320,\n 320,\n 320,\n 320,\n 340,\n 340,\n 340,\n 340,\n 340,\n 340,\n 340,\n 340,\n 340,\n 340,\n 340,\n 340,\n 340,\n 340,\n 340,\n 340,\n 340,\n 340,\n 340,\n 340,\n 340,\n 340,\n 340,\n 340,\n 340,\n 340,\n 340,\n 340,\n 340,\n 340,\n 340,\n 340,\n 340,\n 340,\n 340,\n 340,\n 340,\n 340,\n 340,\n 340,\n 340,\n 340,\n 340,\n 340,\n 340,\n 340,\n 340,\n 340,\n 340,\n 340,\n 340,\n 340,\n 340,\n 340,\n 340,\n 340,\n 340,\n 340,\n 340,\n 340,\n 340,\n 340,\n 340,\n 340,\n 340,\n 340,\n 340,\n 340,\n 340,\n 340,\n 340,\n 340,\n 340,\n 340,\n 340,\n 340,\n 340,\n 340,\n 340,\n 340,\n 340,\n 340,\n 340,\n 340,\n 340,\n 340,\n 340]"
     },
     "execution_count": 311,
     "metadata": {},
     "output_type": "execute_result"
    }
   ],
   "source": [
    "\n",
    "entries"
   ],
   "metadata": {
    "collapsed": false,
    "ExecuteTime": {
     "start_time": "2023-05-06T19:44:48.185834Z",
     "end_time": "2023-05-06T19:44:48.295104Z"
    }
   }
  },
  {
   "cell_type": "code",
   "execution_count": 312,
   "outputs": [
    {
     "name": "stderr",
     "output_type": "stream",
     "text": [
      "/var/folders/mb/djnxt02s4vqbng178bwhk1280000gn/T/ipykernel_22907/1725471886.py:1: SettingWithCopyWarning: \n",
      "A value is trying to be set on a copy of a slice from a DataFrame.\n",
      "Try using .loc[row_indexer,col_indexer] = value instead\n",
      "\n",
      "See the caveats in the documentation: https://pandas.pydata.org/pandas-docs/stable/user_guide/indexing.html#returning-a-view-versus-a-copy\n",
      "  data[\"error\"] = data[\"sum\"]**0.5\n",
      "/var/folders/mb/djnxt02s4vqbng178bwhk1280000gn/T/ipykernel_22907/1725471886.py:7: SettingWithCopyWarning: \n",
      "A value is trying to be set on a copy of a slice from a DataFrame.\n",
      "Try using .loc[row_indexer,col_indexer] = value instead\n",
      "\n",
      "See the caveats in the documentation: https://pandas.pydata.org/pandas-docs/stable/user_guide/indexing.html#returning-a-view-versus-a-copy\n",
      "  data[\"error\"] = errors\n"
     ]
    }
   ],
   "source": [
    "data[\"error\"] = data[\"sum\"]**0.5\n",
    "#errors as the square root of the number of entries but integer\n",
    "errors = []\n",
    "for i in range(len(data)):\n",
    "    errors.append(int(data[\"error\"][i]))\n",
    "\n",
    "data[\"error\"] = errors"
   ],
   "metadata": {
    "collapsed": false,
    "ExecuteTime": {
     "start_time": "2023-05-06T19:44:48.620620Z",
     "end_time": "2023-05-06T19:44:48.729374Z"
    }
   }
  },
  {
   "cell_type": "code",
   "execution_count": 313,
   "outputs": [
    {
     "data": {
      "text/plain": "[4, 4, 5, 4, 5, 5, 4, 5, 0, 5, 5, 5, 5, 4, 4, 5, 9]"
     },
     "execution_count": 313,
     "metadata": {},
     "output_type": "execute_result"
    }
   ],
   "source": [
    "errors"
   ],
   "metadata": {
    "collapsed": false,
    "ExecuteTime": {
     "start_time": "2023-05-06T19:44:49.051136Z",
     "end_time": "2023-05-06T19:44:49.155258Z"
    }
   }
  },
  {
   "cell_type": "code",
   "execution_count": 314,
   "outputs": [
    {
     "name": "stdout",
     "output_type": "stream",
     "text": [
      " FCN=113.702 FROM MIGRAD    STATUS=CONVERGED      14 CALLS          15 TOTAL\n",
      "                     EDM=2.23192e-17    STRATEGY= 1      ERROR MATRIX ACCURATE \n",
      "  EXT PARAMETER                                   STEP         FIRST   \n",
      "  NO.   NAME      VALUE            ERROR          SIZE      DERIVATIVE \n",
      "   1  p0           1.37009e-02   7.25840e-04   3.00000e-03  -9.20478e-06\n"
     ]
    },
    {
     "name": "stderr",
     "output_type": "stream",
     "text": [
      "Warning in <TROOT::Append>: Replacing existing TH1: Statistics (Potential memory leak).\n"
     ]
    },
    {
     "data": {
      "image/png": "[encoded data removed]",
      "text/plain": "<IPython.core.display.Image object>"
     },
     "metadata": {},
     "output_type": "display_data"
    }
   ],
   "source": [
    "#fill a histogram and plot it in root\n",
    "\n",
    "h = r.TH1D(\"Statistics\",\"Number of Hits\",17,10,350)\n",
    "for i in range(len(entries)):\n",
    "    h.Fill(entries[i])\n",
    "\n",
    "c = r.TCanvas()\n",
    "\n",
    "fit = r.TF1(\"fit\",\"(((20/(0.063/45))*[0]/2)*sin((pi/180)*x/2)*(pi/180)*20)\",10,350)\n",
    "fit.SetParameter(0,10)\n",
    "\n",
    "# Set the histogram style\n",
    "h.SetFillColor(r.kBlue)\n",
    "h.SetLineColor(r.kBlack)\n",
    "\n",
    "h.GetYaxis().SetTitle(\"count\")\n",
    "h.GetXaxis().SetTitle(\"Angle interval (20 degrees)\")\n",
    "\n",
    "h.Fit(fit, \"R\")\n",
    "\n",
    "h.Draw()\n",
    "c.Draw()\n",
    "\n"
   ],
   "metadata": {
    "collapsed": false,
    "ExecuteTime": {
     "start_time": "2023-05-06T19:44:49.826542Z",
     "end_time": "2023-05-06T19:44:49.956260Z"
    }
   }
  },
  {
   "cell_type": "code",
   "execution_count": 315,
   "outputs": [
    {
     "data": {
      "text/plain": "19.70013308818113"
     },
     "execution_count": 315,
     "metadata": {},
     "output_type": "execute_result"
    }
   ],
   "source": [
    "(0.028 - fit.GetParameter(0))/(fit.GetParError(0))"
   ],
   "metadata": {
    "collapsed": false,
    "ExecuteTime": {
     "start_time": "2023-05-06T19:44:50.836821Z",
     "end_time": "2023-05-06T19:44:50.950471Z"
    }
   }
  },
  {
   "cell_type": "code",
   "execution_count": 316,
   "outputs": [],
   "source": [
    "#Corrections due to missing data on the pressurised paper"
   ],
   "metadata": {
    "collapsed": false,
    "ExecuteTime": {
     "start_time": "2023-05-06T19:44:51.687377Z",
     "end_time": "2023-05-06T19:44:51.795919Z"
    }
   }
  },
  {
   "cell_type": "code",
   "execution_count": 317,
   "outputs": [],
   "source": [
    "n_all_hits_paper = data[\"sum\"].sum()\n",
    "n_all_hits = 900\n",
    "\n",
    "norm = n_all_hits_paper/n_all_hits"
   ],
   "metadata": {
    "collapsed": false,
    "ExecuteTime": {
     "start_time": "2023-05-06T19:44:52.197459Z",
     "end_time": "2023-05-06T19:44:52.304923Z"
    }
   }
  },
  {
   "cell_type": "code",
   "execution_count": 318,
   "outputs": [
    {
     "data": {
      "text/plain": "470"
     },
     "execution_count": 318,
     "metadata": {},
     "output_type": "execute_result"
    }
   ],
   "source": [
    "n_all_hits_paper"
   ],
   "metadata": {
    "collapsed": false,
    "ExecuteTime": {
     "start_time": "2023-05-06T19:44:52.753653Z",
     "end_time": "2023-05-06T19:44:52.861746Z"
    }
   }
  },
  {
   "cell_type": "code",
   "execution_count": 319,
   "outputs": [
    {
     "data": {
      "text/plain": "10.444444444444445"
     },
     "execution_count": 319,
     "metadata": {},
     "output_type": "execute_result"
    }
   ],
   "source": [
    "20*norm"
   ],
   "metadata": {
    "collapsed": false,
    "ExecuteTime": {
     "start_time": "2023-05-06T19:44:53.191106Z",
     "end_time": "2023-05-06T19:44:53.300072Z"
    }
   }
  },
  {
   "cell_type": "code",
   "execution_count": 320,
   "outputs": [
    {
     "name": "stdout",
     "output_type": "stream",
     "text": [
      " FCN=113.702 FROM MIGRAD    STATUS=CONVERGED      14 CALLS          15 TOTAL\n",
      "                     EDM=3.94052e-19    STRATEGY= 1      ERROR MATRIX ACCURATE \n",
      "  EXT PARAMETER                                   STEP         FIRST   \n",
      "  NO.   NAME      VALUE            ERROR          SIZE      DERIVATIVE \n",
      "   1  p0           2.62468e-02   1.39050e-03   3.00000e-03  -6.38442e-07\n"
     ]
    },
    {
     "data": {
      "image/png": "[encoded data removed]",
      "text/plain": "<IPython.core.display.Image object>"
     },
     "metadata": {},
     "output_type": "display_data"
    }
   ],
   "source": [
    "c = r.TCanvas()\n",
    "\n",
    "fit = r.TF1(\"fit\", \"(((10.44/(0.063/45))*[0]/2)*sin((pi/180)*x/2)*(pi/180)*20)\", 10, 350)\n",
    "fit.SetParameter(0, 10)\n",
    "\n",
    "# Set the histogram style\n",
    "h.SetFillColor(r.kBlue)\n",
    "h.SetLineColor(r.kBlack)\n",
    "\n",
    "h.GetYaxis().SetTitle(\"count\")\n",
    "h.GetXaxis().SetTitle(\"# of events in time interval (10s)\")\n",
    "\n",
    "h.Fit(fit, \"R\")\n",
    "\n",
    "h.Draw()\n",
    "c.Draw()\n",
    "\n"
   ],
   "metadata": {
    "collapsed": false,
    "ExecuteTime": {
     "start_time": "2023-05-06T19:44:53.879238Z",
     "end_time": "2023-05-06T19:44:54.006110Z"
    }
   }
  },
  {
   "cell_type": "code",
   "execution_count": 321,
   "outputs": [
    {
     "data": {
      "text/plain": "1.2608086031491303"
     },
     "execution_count": 321,
     "metadata": {},
     "output_type": "execute_result"
    }
   ],
   "source": [
    "(0.028 - fit.GetParameter(0))/(fit.GetParError(0))"
   ],
   "metadata": {
    "collapsed": false,
    "ExecuteTime": {
     "start_time": "2023-05-06T19:44:56.841353Z",
     "end_time": "2023-05-06T19:44:56.954110Z"
    }
   }
  },
  {
   "cell_type": "code",
   "execution_count": 322,
   "outputs": [],
   "source": [
    "#intergal aproxx"
   ],
   "metadata": {
    "collapsed": false,
    "ExecuteTime": {
     "start_time": "2023-05-06T19:44:57.507086Z",
     "end_time": "2023-05-06T19:44:57.611433Z"
    }
   }
  },
  {
   "cell_type": "code",
   "execution_count": 323,
   "outputs": [],
   "source": [
    "I = 20/(0.063/45)"
   ],
   "metadata": {
    "collapsed": false,
    "ExecuteTime": {
     "start_time": "2023-05-06T19:44:57.987050Z",
     "end_time": "2023-05-06T19:44:58.092028Z"
    }
   }
  },
  {
   "cell_type": "code",
   "execution_count": 326,
   "outputs": [],
   "source": [
    "I_n = 20/(0.063/45)*norm"
   ],
   "metadata": {
    "collapsed": false,
    "ExecuteTime": {
     "start_time": "2023-05-06T19:49:39.863092Z",
     "end_time": "2023-05-06T19:49:39.968126Z"
    }
   }
  },
  {
   "cell_type": "code",
   "execution_count": 327,
   "outputs": [
    {
     "data": {
      "text/plain": "7460.317460317461"
     },
     "execution_count": 327,
     "metadata": {},
     "output_type": "execute_result"
    }
   ],
   "source": [
    "I_n"
   ],
   "metadata": {
    "collapsed": false,
    "ExecuteTime": {
     "start_time": "2023-05-06T19:49:40.059754Z",
     "end_time": "2023-05-06T19:49:40.167024Z"
    }
   }
  },
  {
   "cell_type": "code",
   "execution_count": 328,
   "outputs": [
    {
     "data": {
      "text/plain": "         sum  angle  error\n10--30    23     20      4\n30-50     18     40      4\n50-70     32     60      5\n70-90     20     80      4\n90-110    31    100      5\n110-130   32    120      5\n130-150   24    140      4\n150-170   34    160      5\n170-190    0    180      0\n190-210   26    200      5\n210-230   29    220      5\n230-250   27    240      5\n250-270   26    260      5\n270-290   18    280      4\n290-310   16    300      4\n310-330   27    320      5\n330-350   87    340      9",
      "text/html": "<div>\n<style scoped>\n    .dataframe tbody tr th:only-of-type {\n        vertical-align: middle;\n    }\n\n    .dataframe tbody tr th {\n        vertical-align: top;\n    }\n\n    .dataframe thead th {\n        text-align: right;\n    }\n</style>\n<table border=\"1\" class=\"dataframe\">\n  <thead>\n    <tr style=\"text-align: right;\">\n      <th></th>\n      <th>sum</th>\n      <th>angle</th>\n      <th>error</th>\n    </tr>\n  </thead>\n  <tbody>\n    <tr>\n      <th>10--30</th>\n      <td>23</td>\n      <td>20</td>\n      <td>4</td>\n    </tr>\n    <tr>\n      <th>30-50</th>\n      <td>18</td>\n      <td>40</td>\n      <td>4</td>\n    </tr>\n    <tr>\n      <th>50-70</th>\n      <td>32</td>\n      <td>60</td>\n      <td>5</td>\n    </tr>\n    <tr>\n      <th>70-90</th>\n      <td>20</td>\n      <td>80</td>\n      <td>4</td>\n    </tr>\n    <tr>\n      <th>90-110</th>\n      <td>31</td>\n      <td>100</td>\n      <td>5</td>\n    </tr>\n    <tr>\n      <th>110-130</th>\n      <td>32</td>\n      <td>120</td>\n      <td>5</td>\n    </tr>\n    <tr>\n      <th>130-150</th>\n      <td>24</td>\n      <td>140</td>\n      <td>4</td>\n    </tr>\n    <tr>\n      <th>150-170</th>\n      <td>34</td>\n      <td>160</td>\n      <td>5</td>\n    </tr>\n    <tr>\n      <th>170-190</th>\n      <td>0</td>\n      <td>180</td>\n      <td>0</td>\n    </tr>\n    <tr>\n      <th>190-210</th>\n      <td>26</td>\n      <td>200</td>\n      <td>5</td>\n    </tr>\n    <tr>\n      <th>210-230</th>\n      <td>29</td>\n      <td>220</td>\n      <td>5</td>\n    </tr>\n    <tr>\n      <th>230-250</th>\n      <td>27</td>\n      <td>240</td>\n      <td>5</td>\n    </tr>\n    <tr>\n      <th>250-270</th>\n      <td>26</td>\n      <td>260</td>\n      <td>5</td>\n    </tr>\n    <tr>\n      <th>270-290</th>\n      <td>18</td>\n      <td>280</td>\n      <td>4</td>\n    </tr>\n    <tr>\n      <th>290-310</th>\n      <td>16</td>\n      <td>300</td>\n      <td>4</td>\n    </tr>\n    <tr>\n      <th>310-330</th>\n      <td>27</td>\n      <td>320</td>\n      <td>5</td>\n    </tr>\n    <tr>\n      <th>330-350</th>\n      <td>87</td>\n      <td>340</td>\n      <td>9</td>\n    </tr>\n  </tbody>\n</table>\n</div>"
     },
     "execution_count": 328,
     "metadata": {},
     "output_type": "execute_result"
    }
   ],
   "source": [
    "data"
   ],
   "metadata": {
    "collapsed": false,
    "ExecuteTime": {
     "start_time": "2023-05-06T19:49:46.731742Z",
     "end_time": "2023-05-06T19:49:46.836921Z"
    }
   }
  },
  {
   "cell_type": "code",
   "execution_count": 329,
   "outputs": [],
   "source": [
    "import numpy as np\n",
    "sum = 0\n",
    "for theta in range(20,360,20):\n",
    "    tmp= np.sin((theta/2*(np.pi/180)))*20*(np.pi/180)\n",
    "    sum += tmp"
   ],
   "metadata": {
    "collapsed": false,
    "ExecuteTime": {
     "start_time": "2023-05-06T19:49:47.153385Z",
     "end_time": "2023-05-06T19:49:47.260879Z"
    }
   }
  },
  {
   "cell_type": "code",
   "execution_count": 330,
   "outputs": [
    {
     "data": {
      "text/plain": "3.9898409271669033"
     },
     "execution_count": 330,
     "metadata": {},
     "output_type": "execute_result"
    }
   ],
   "source": [
    "sum"
   ],
   "metadata": {
    "collapsed": false,
    "ExecuteTime": {
     "start_time": "2023-05-06T19:49:47.619946Z",
     "end_time": "2023-05-06T19:49:47.729319Z"
    }
   }
  },
  {
   "cell_type": "code",
   "execution_count": 331,
   "outputs": [],
   "source": [
    "r = (2*470)/(I_n*sum)"
   ],
   "metadata": {
    "collapsed": false,
    "ExecuteTime": {
     "start_time": "2023-05-06T19:49:48.261524Z",
     "end_time": "2023-05-06T19:49:48.368114Z"
    }
   }
  },
  {
   "cell_type": "code",
   "execution_count": 332,
   "outputs": [
    {
     "data": {
      "text/plain": "0.031580206404236214"
     },
     "execution_count": 332,
     "metadata": {},
     "output_type": "execute_result"
    }
   ],
   "source": [
    "r"
   ],
   "metadata": {
    "collapsed": false,
    "ExecuteTime": {
     "start_time": "2023-05-06T19:49:48.678025Z",
     "end_time": "2023-05-06T19:49:48.784097Z"
    }
   }
  }
 ],
 "metadata": {
  "kernelspec": {
   "display_name": "Python 3",
   "language": "python",
   "name": "python3"
  },
  "language_info": {
   "codemirror_mode": {
    "name": "ipython",
    "version": 2
   },
   "file_extension": ".py",
   "mimetype": "text/x-python",
   "name": "python",
   "nbconvert_exporter": "python",
   "pygments_lexer": "ipython2",
   "version": "2.7.6"
  }
 },
 "nbformat": 4,
 "nbformat_minor": 0
}
