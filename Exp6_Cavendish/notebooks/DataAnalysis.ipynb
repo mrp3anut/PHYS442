{
 "cells": [
  {
   "cell_type": "code",
   "execution_count": 69,
   "metadata": {
    "collapsed": true,
    "ExecuteTime": {
     "start_time": "2023-04-22T12:38:54.286490Z",
     "end_time": "2023-04-22T12:38:54.394179Z"
    }
   },
   "outputs": [],
   "source": [
    "import pandas as pd\n",
    "import ROOT as r\n",
    "import numpy as np"
   ]
  },
  {
   "cell_type": "code",
   "execution_count": 70,
   "outputs": [],
   "source": [
    "df = pd.read_csv(\"../data/sena-sinan-sarp.txt\", sep=\"\\t\", header=None, names=[\"second\",\"voltage\"])"
   ],
   "metadata": {
    "collapsed": false,
    "ExecuteTime": {
     "start_time": "2023-04-22T12:38:54.631485Z",
     "end_time": "2023-04-22T12:38:54.746100Z"
    }
   }
  },
  {
   "cell_type": "code",
   "execution_count": 71,
   "outputs": [],
   "source": [
    "def text_to_float(x):\n",
    "    return float(x.replace(\",\",\".\"))"
   ],
   "metadata": {
    "collapsed": false,
    "ExecuteTime": {
     "start_time": "2023-04-22T12:38:54.969683Z",
     "end_time": "2023-04-22T12:38:55.080837Z"
    }
   }
  },
  {
   "cell_type": "code",
   "execution_count": 72,
   "outputs": [],
   "source": [
    "df[\"second\"] = df[\"second\"].apply(text_to_float)\n",
    "df[\"voltage\"] = df[\"voltage\"].apply(text_to_float)"
   ],
   "metadata": {
    "collapsed": false,
    "ExecuteTime": {
     "start_time": "2023-04-22T12:38:55.322323Z",
     "end_time": "2023-04-22T12:38:55.428836Z"
    }
   }
  },
  {
   "cell_type": "code",
   "execution_count": 73,
   "outputs": [
    {
     "data": {
      "text/plain": "      second  voltage\n0        0.0 -0.33126\n1        2.0 -0.33322\n2        4.0 -0.33410\n3        6.0 -0.33463\n4        8.0 -0.33527\n...      ...      ...\n1788  3576.0 -0.32652\n1789  3578.0 -0.32627\n1790  3580.0 -0.32836\n1791  3582.0 -0.32872\n1792  3584.0 -0.32826\n\n[1793 rows x 2 columns]",
      "text/html": "<div>\n<style scoped>\n    .dataframe tbody tr th:only-of-type {\n        vertical-align: middle;\n    }\n\n    .dataframe tbody tr th {\n        vertical-align: top;\n    }\n\n    .dataframe thead th {\n        text-align: right;\n    }\n</style>\n<table border=\"1\" class=\"dataframe\">\n  <thead>\n    <tr style=\"text-align: right;\">\n      <th></th>\n      <th>second</th>\n      <th>voltage</th>\n    </tr>\n  </thead>\n  <tbody>\n    <tr>\n      <th>0</th>\n      <td>0.0</td>\n      <td>-0.33126</td>\n    </tr>\n    <tr>\n      <th>1</th>\n      <td>2.0</td>\n      <td>-0.33322</td>\n    </tr>\n    <tr>\n      <th>2</th>\n      <td>4.0</td>\n      <td>-0.33410</td>\n    </tr>\n    <tr>\n      <th>3</th>\n      <td>6.0</td>\n      <td>-0.33463</td>\n    </tr>\n    <tr>\n      <th>4</th>\n      <td>8.0</td>\n      <td>-0.33527</td>\n    </tr>\n    <tr>\n      <th>...</th>\n      <td>...</td>\n      <td>...</td>\n    </tr>\n    <tr>\n      <th>1788</th>\n      <td>3576.0</td>\n      <td>-0.32652</td>\n    </tr>\n    <tr>\n      <th>1789</th>\n      <td>3578.0</td>\n      <td>-0.32627</td>\n    </tr>\n    <tr>\n      <th>1790</th>\n      <td>3580.0</td>\n      <td>-0.32836</td>\n    </tr>\n    <tr>\n      <th>1791</th>\n      <td>3582.0</td>\n      <td>-0.32872</td>\n    </tr>\n    <tr>\n      <th>1792</th>\n      <td>3584.0</td>\n      <td>-0.32826</td>\n    </tr>\n  </tbody>\n</table>\n<p>1793 rows × 2 columns</p>\n</div>"
     },
     "execution_count": 73,
     "metadata": {},
     "output_type": "execute_result"
    }
   ],
   "source": [
    "df"
   ],
   "metadata": {
    "collapsed": false,
    "ExecuteTime": {
     "start_time": "2023-04-22T12:38:55.654610Z",
     "end_time": "2023-04-22T12:38:55.764587Z"
    }
   }
  },
  {
   "cell_type": "code",
   "execution_count": 74,
   "outputs": [
    {
     "name": "stdout",
     "output_type": "stream",
     "text": [
      "\n",
      "****************************************\n",
      "Minimizer is Minuit / Migrad\n",
      "Chi2                      =   0.00206657\n",
      "NDf                       =          297\n",
      "Edm                       =  1.28374e-07\n",
      "NCalls                    =          116\n",
      "p0                        =    -0.333041   +/-   0.000154821 \n",
      "p1                        =     0.138271   +/-   0.00021368  \n",
      "p2                        =    0.0424743   +/-   9.34696e-06 \n",
      "p3                        =     -2.40574   +/-   0.0196062   \n",
      "\n",
      "****************************************\n",
      "Minimizer is Minuit / Migrad\n",
      "Chi2                      =    0.0015998\n",
      "NDf                       =          261\n",
      "Edm                       =  6.48583e-07\n",
      "NCalls                    =          646\n",
      "p0                        =    -0.311599   +/-   0.000153276 \n",
      "p1                        =       11.133   +/-   0.462904    \n",
      "p2                        =    0.0413162   +/-   1.71332e-05 \n",
      "p3                        =     -6.08133   +/-   0.0455656   \n",
      "p4                        =   0.00178009   +/-   1.56163e-05 \n"
     ]
    },
    {
     "data": {
      "image/png": "[encoded data removed]",
      "text/plain": "<IPython.core.display.Image object>"
     },
     "metadata": {},
     "output_type": "display_data"
    }
   ],
   "source": [
    "#plot second vs voltage in root\n",
    "c = r.TCanvas()\n",
    "c.SetWindowSize(1000,600)\n",
    "gr = r.TGraphErrors(len(df), df[\"second\"].values, df[\"voltage\"].values)\n",
    "gr.SetTitle(\"Second vs Voltage\")\n",
    "gr.GetXaxis().SetTitle(\"second [s]\")\n",
    "gr.GetYaxis().SetTitle(\"voltage [V]\")\n",
    "\n",
    "f_1 = r.TF1(\"sin\", \"[0]+[1]*TMath::Sin([2]*x+[3])\",1790,2390)\n",
    "f_1.SetParameters(-0.34,0.25,0.04,0)\n",
    "f_1.SetLineWidth(3)\n",
    "f_1.SetLineColor(r.kBlue)\n",
    "gr.Fit(f_1,\"R\")\n",
    "\n",
    "f_2 = r.TF1(\"sin\", \"[0]+[1]*exp(-[4]*(x))*TMath::Sin([2]*(x)+[3])\",2470,3000)\n",
    "f_2.SetParameters(-0.34,0.1,0.04,0,0.00001)\n",
    "f_2.SetLineWidth(3)\n",
    "f_2.SetLineColor(r.kRed)\n",
    "gr.Fit(f_2,\"R+\")\n",
    "\n",
    "#add legend\n",
    "legend = r.TLegend(0.1,0.8,0.3,0.9)\n",
    "legend.AddEntry(f_1,\"Driven Resonance Mode\",\"l\")\n",
    "legend.AddEntry(f_2,\"Damping Mode\",\"l\")\n",
    "\n",
    "gr.Draw(\"AL\")\n",
    "c.Draw(\"AL\")\n",
    "legend.Draw(\"same\")"
   ],
   "metadata": {
    "collapsed": false,
    "ExecuteTime": {
     "start_time": "2023-04-22T12:38:59.479282Z",
     "end_time": "2023-04-22T12:38:59.632962Z"
    }
   }
  },
  {
   "cell_type": "code",
   "execution_count": 24,
   "outputs": [],
   "source": [
    "#define parameters\n",
    "I = 1.43*(10**(-4))\n",
    "b = 0.0461025\n",
    "d = 0.066653\n",
    "M = 1.0385\n",
    "m = 0.014573\n",
    "L = 1.55\n",
    "S = (21.5-18.7)/100"
   ],
   "metadata": {
    "collapsed": false,
    "ExecuteTime": {
     "start_time": "2023-04-22T10:14:58.968976Z",
     "end_time": "2023-04-22T10:14:59.074982Z"
    }
   }
  },
  {
   "cell_type": "code",
   "execution_count": 48,
   "outputs": [],
   "source": [
    "#get fit parameters\n",
    "w_o = f_1.GetParameter(2)\n",
    "phi_1 = f_1.GetParameter(3)\n",
    "A = f_1.GetParameter(0)\n",
    "B = f_1.GetParameter(1)\n",
    "\n",
    "w_d = f_2.GetParameter(2)\n",
    "phi_2 = f_2.GetParameter(3)\n",
    "C = f_2.GetParameter(0)\n",
    "D = f_2.GetParameter(1)\n",
    "E = f_2.GetParameter(4)\n",
    "\n",
    "A_err = f_1.GetParError(0)\n",
    "B_err = f_1.GetParError(1)\n",
    "C_err = f_2.GetParError(0)\n",
    "D_err = f_2.GetParError(1)\n",
    "E_err = f_2.GetParError(4)\n",
    "w_o_err = f_1.GetParError(2)\n",
    "w_d_err = f_2.GetParError(2)\n",
    "phi_1_err = f_1.GetParError(3)\n",
    "phi_2_err = f_2.GetParError(3)"
   ],
   "metadata": {
    "collapsed": false,
    "ExecuteTime": {
     "start_time": "2023-04-22T10:44:28.852008Z",
     "end_time": "2023-04-22T10:44:28.958642Z"
    }
   }
  },
  {
   "cell_type": "code",
   "execution_count": 51,
   "outputs": [],
   "source": [
    "#put fit parameters into a dataframe for f_1 and f_2\n",
    "df_f1 = pd.DataFrame({\"parameter\":[\"A\",\"B\",\"w_o\",\"phi\"],\"value\":[A,B,w_o,phi_1],\"error\":[A_err,B_err,w_o_err,phi_1_err]})\n",
    "df_f2 = pd.DataFrame({\"parameter\":[\"C\",\"D\",\"E\",\"w_d\",\"phi\"],\"value\":[C,D,E,w_d,phi_2],\"error\":[C_err,D_err,E_err,w_d_err,phi_2_err]})"
   ],
   "metadata": {
    "collapsed": false,
    "ExecuteTime": {
     "start_time": "2023-04-22T10:47:03.939857Z",
     "end_time": "2023-04-22T10:47:04.046925Z"
    }
   }
  },
  {
   "cell_type": "code",
   "execution_count": 75,
   "outputs": [
    {
     "data": {
      "text/plain": "  parameter     value     error\n0         A -0.333041  0.000155\n1         B  0.138271  0.000214\n2       w_o  0.042474  0.000009\n3       phi -2.405744  0.019606",
      "text/html": "<div>\n<style scoped>\n    .dataframe tbody tr th:only-of-type {\n        vertical-align: middle;\n    }\n\n    .dataframe tbody tr th {\n        vertical-align: top;\n    }\n\n    .dataframe thead th {\n        text-align: right;\n    }\n</style>\n<table border=\"1\" class=\"dataframe\">\n  <thead>\n    <tr style=\"text-align: right;\">\n      <th></th>\n      <th>parameter</th>\n      <th>value</th>\n      <th>error</th>\n    </tr>\n  </thead>\n  <tbody>\n    <tr>\n      <th>0</th>\n      <td>A</td>\n      <td>-0.333041</td>\n      <td>0.000155</td>\n    </tr>\n    <tr>\n      <th>1</th>\n      <td>B</td>\n      <td>0.138271</td>\n      <td>0.000214</td>\n    </tr>\n    <tr>\n      <th>2</th>\n      <td>w_o</td>\n      <td>0.042474</td>\n      <td>0.000009</td>\n    </tr>\n    <tr>\n      <th>3</th>\n      <td>phi</td>\n      <td>-2.405744</td>\n      <td>0.019606</td>\n    </tr>\n  </tbody>\n</table>\n</div>"
     },
     "execution_count": 75,
     "metadata": {},
     "output_type": "execute_result"
    }
   ],
   "source": [
    "df_f1"
   ],
   "metadata": {
    "collapsed": false,
    "ExecuteTime": {
     "start_time": "2023-04-22T12:39:38.658249Z",
     "end_time": "2023-04-22T12:39:38.765638Z"
    }
   }
  },
  {
   "cell_type": "code",
   "execution_count": 76,
   "outputs": [
    {
     "data": {
      "text/plain": "  parameter      value     error\n0         C  -0.311599  0.000153\n1         D  11.133009  0.462904\n2         E   0.001780  0.000016\n3       w_d   0.041316  0.000017\n4       phi  -6.081334  0.045566",
      "text/html": "<div>\n<style scoped>\n    .dataframe tbody tr th:only-of-type {\n        vertical-align: middle;\n    }\n\n    .dataframe tbody tr th {\n        vertical-align: top;\n    }\n\n    .dataframe thead th {\n        text-align: right;\n    }\n</style>\n<table border=\"1\" class=\"dataframe\">\n  <thead>\n    <tr style=\"text-align: right;\">\n      <th></th>\n      <th>parameter</th>\n      <th>value</th>\n      <th>error</th>\n    </tr>\n  </thead>\n  <tbody>\n    <tr>\n      <th>0</th>\n      <td>C</td>\n      <td>-0.311599</td>\n      <td>0.000153</td>\n    </tr>\n    <tr>\n      <th>1</th>\n      <td>D</td>\n      <td>11.133009</td>\n      <td>0.462904</td>\n    </tr>\n    <tr>\n      <th>2</th>\n      <td>E</td>\n      <td>0.001780</td>\n      <td>0.000016</td>\n    </tr>\n    <tr>\n      <th>3</th>\n      <td>w_d</td>\n      <td>0.041316</td>\n      <td>0.000017</td>\n    </tr>\n    <tr>\n      <th>4</th>\n      <td>phi</td>\n      <td>-6.081334</td>\n      <td>0.045566</td>\n    </tr>\n  </tbody>\n</table>\n</div>"
     },
     "execution_count": 76,
     "metadata": {},
     "output_type": "execute_result"
    }
   ],
   "source": [
    "df_f2"
   ],
   "metadata": {
    "collapsed": false,
    "ExecuteTime": {
     "start_time": "2023-04-22T12:39:41.993211Z",
     "end_time": "2023-04-22T12:39:42.100218Z"
    }
   }
  },
  {
   "cell_type": "code",
   "execution_count": 77,
   "outputs": [],
   "source": [
    "G = S/(2 * L * np.abs(B)) * (I * (w_o**2) * np.abs(A-C) * (b**2)) / (2 * d * M * m)"
   ],
   "metadata": {
    "collapsed": false,
    "ExecuteTime": {
     "start_time": "2023-04-22T12:39:56.130908Z",
     "end_time": "2023-04-22T12:39:56.240135Z"
    }
   }
  },
  {
   "cell_type": "code",
   "execution_count": 80,
   "outputs": [
    {
     "data": {
      "text/plain": "3.806744586655213e-10"
     },
     "execution_count": 80,
     "metadata": {},
     "output_type": "execute_result"
    }
   ],
   "source": [
    "G"
   ],
   "metadata": {
    "collapsed": false,
    "ExecuteTime": {
     "start_time": "2023-04-22T12:40:04.239992Z",
     "end_time": "2023-04-22T12:40:04.349497Z"
    }
   }
  },
  {
   "cell_type": "code",
   "execution_count": 81,
   "outputs": [],
   "source": [
    "sigma = 1.64*10**(-8)"
   ],
   "metadata": {
    "collapsed": false,
    "ExecuteTime": {
     "start_time": "2023-04-22T12:40:06.861684Z",
     "end_time": "2023-04-22T12:40:06.970285Z"
    }
   }
  },
  {
   "cell_type": "code",
   "execution_count": 82,
   "outputs": [],
   "source": [
    "#value of universal gravitation constant\n",
    "G_u = 6.67408*10**(-11)"
   ],
   "metadata": {
    "collapsed": false,
    "ExecuteTime": {
     "start_time": "2023-04-22T12:40:07.814869Z",
     "end_time": "2023-04-22T12:40:07.924117Z"
    }
   }
  },
  {
   "cell_type": "code",
   "execution_count": 83,
   "outputs": [
    {
     "data": {
      "text/plain": "-0.019142296260092766"
     },
     "execution_count": 83,
     "metadata": {},
     "output_type": "execute_result"
    }
   ],
   "source": [
    "(G_u-G)/sigma"
   ],
   "metadata": {
    "collapsed": false,
    "ExecuteTime": {
     "start_time": "2023-04-22T12:40:08.156912Z",
     "end_time": "2023-04-22T12:40:08.266097Z"
    }
   }
  },
  {
   "cell_type": "markdown",
   "source": [
    "# Earth Mass"
   ],
   "metadata": {
    "collapsed": false
   }
  },
  {
   "cell_type": "code",
   "execution_count": 84,
   "outputs": [],
   "source": [
    "(9.81*(6731*10**3)**2)/(G)"
   ],
   "metadata": {
    "collapsed": false,
    "ExecuteTime": {
     "start_time": "2023-04-22T12:40:10.742075Z",
     "end_time": "2023-04-22T12:40:10.851901Z"
    }
   }
  },
  {
   "cell_type": "code",
   "execution_count": null,
   "outputs": [],
   "source": [],
   "metadata": {
    "collapsed": false
   }
  }
 ],
 "metadata": {
  "kernelspec": {
   "display_name": "Python 3",
   "language": "python",
   "name": "python3"
  },
  "language_info": {
   "codemirror_mode": {
    "name": "ipython",
    "version": 2
   },
   "file_extension": ".py",
   "mimetype": "text/x-python",
   "name": "python",
   "nbconvert_exporter": "python",
   "pygments_lexer": "ipython2",
   "version": "2.7.6"
  }
 },
 "nbformat": 4,
 "nbformat_minor": 0
}
