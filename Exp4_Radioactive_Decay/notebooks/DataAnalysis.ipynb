{
 "cells": [
  {
   "cell_type": "code",
   "execution_count": 360,
   "metadata": {
    "collapsed": true
   },
   "outputs": [],
   "source": [
    "import pandas as pd\n",
    "import ROOT as r"
   ]
  },
  {
   "cell_type": "code",
   "execution_count": 363,
   "outputs": [],
   "source": [
    "def propagate_error_divmult(f, x, y, unx, uny):\n",
    "    return r.TMath.Sqrt(((unx/x)**2 + (uny/y)**2) * f**2)\n",
    "\n",
    "def propagate_error_power(f, b, x, unx):\n",
    "    return r.TMath.Sqrt((f**2 * b**2 * (unx)**2/x**2))\n",
    "\n",
    "def propagate_error_addsub(unx, uny, a=1, b=1):\n",
    "    return r.TMath.Sqrt((a*unx)**2 + (b*uny)**2)\n",
    "\n",
    "def weighted_mean(df, col, col_err):\n",
    "    return sum(df[col]/df[col_err]**2)/sum(1/df[col_err]**2)"
   ],
   "metadata": {
    "collapsed": false
   }
  },
  {
   "cell_type": "code",
   "execution_count": 364,
   "outputs": [],
   "source": [
    " def time_string_to_seconds(text):\n",
    "    minute = text.split(\":\")[0]\n",
    "    second_milisecond = text.split(\":\")[1].split(\".\")\n",
    "\n",
    "    second = second_milisecond[0]\n",
    "    milisecond = second_milisecond[1]\n",
    "\n",
    "    return int(minute)*60*100 + int(second)*100 + int(milisecond)"
   ],
   "metadata": {
    "collapsed": false
   }
  },
  {
   "cell_type": "code",
   "execution_count": 361,
   "outputs": [],
   "source": [
    "data = pd.read_csv(\"../data/data_clean.csv\", names=[\"idx\",\"time\",\"split\",\"kV\",\"pump\"])"
   ],
   "metadata": {
    "collapsed": false
   }
  },
  {
   "cell_type": "code",
   "execution_count": 362,
   "outputs": [
    {
     "data": {
      "text/plain": "     idx      time     split   kV  pump\n0      1  00:02.01  00:02.01  2.5     2\n1      2  00:09.25  00:07.24  2.5     2\n2      3  00:11.92  00:02.67  2.5     2\n3      4  00:20.35  00:08.43  2.5     2\n4      5  00:23.52  00:03.17  2.5     2\n..   ...       ...       ...  ...   ...\n389   20  01:55.02  00:05.09  4.0     5\n390   21  02:17.42  00:22.40  4.0     5\n391   22  02:26.68  00:09.26  4.0     5\n392   23  03:00.29  00:33.61  4.0     5\n393   24  03:16.41  00:16.12  4.0     5\n\n[394 rows x 5 columns]",
      "text/html": "<div>\n<style scoped>\n    .dataframe tbody tr th:only-of-type {\n        vertical-align: middle;\n    }\n\n    .dataframe tbody tr th {\n        vertical-align: top;\n    }\n\n    .dataframe thead th {\n        text-align: right;\n    }\n</style>\n<table border=\"1\" class=\"dataframe\">\n  <thead>\n    <tr style=\"text-align: right;\">\n      <th></th>\n      <th>idx</th>\n      <th>time</th>\n      <th>split</th>\n      <th>kV</th>\n      <th>pump</th>\n    </tr>\n  </thead>\n  <tbody>\n    <tr>\n      <th>0</th>\n      <td>1</td>\n      <td>00:02.01</td>\n      <td>00:02.01</td>\n      <td>2.5</td>\n      <td>2</td>\n    </tr>\n    <tr>\n      <th>1</th>\n      <td>2</td>\n      <td>00:09.25</td>\n      <td>00:07.24</td>\n      <td>2.5</td>\n      <td>2</td>\n    </tr>\n    <tr>\n      <th>2</th>\n      <td>3</td>\n      <td>00:11.92</td>\n      <td>00:02.67</td>\n      <td>2.5</td>\n      <td>2</td>\n    </tr>\n    <tr>\n      <th>3</th>\n      <td>4</td>\n      <td>00:20.35</td>\n      <td>00:08.43</td>\n      <td>2.5</td>\n      <td>2</td>\n    </tr>\n    <tr>\n      <th>4</th>\n      <td>5</td>\n      <td>00:23.52</td>\n      <td>00:03.17</td>\n      <td>2.5</td>\n      <td>2</td>\n    </tr>\n    <tr>\n      <th>...</th>\n      <td>...</td>\n      <td>...</td>\n      <td>...</td>\n      <td>...</td>\n      <td>...</td>\n    </tr>\n    <tr>\n      <th>389</th>\n      <td>20</td>\n      <td>01:55.02</td>\n      <td>00:05.09</td>\n      <td>4.0</td>\n      <td>5</td>\n    </tr>\n    <tr>\n      <th>390</th>\n      <td>21</td>\n      <td>02:17.42</td>\n      <td>00:22.40</td>\n      <td>4.0</td>\n      <td>5</td>\n    </tr>\n    <tr>\n      <th>391</th>\n      <td>22</td>\n      <td>02:26.68</td>\n      <td>00:09.26</td>\n      <td>4.0</td>\n      <td>5</td>\n    </tr>\n    <tr>\n      <th>392</th>\n      <td>23</td>\n      <td>03:00.29</td>\n      <td>00:33.61</td>\n      <td>4.0</td>\n      <td>5</td>\n    </tr>\n    <tr>\n      <th>393</th>\n      <td>24</td>\n      <td>03:16.41</td>\n      <td>00:16.12</td>\n      <td>4.0</td>\n      <td>5</td>\n    </tr>\n  </tbody>\n</table>\n<p>394 rows × 5 columns</p>\n</div>"
     },
     "execution_count": 362,
     "metadata": {},
     "output_type": "execute_result"
    }
   ],
   "source": [
    "data"
   ],
   "metadata": {
    "collapsed": false
   }
  },
  {
   "cell_type": "code",
   "execution_count": 365,
   "outputs": [],
   "source": [
    "data[\"split\"] = data[\"split\"].apply(time_string_to_seconds)/100\n",
    "data[\"time\"] = data[\"time\"].apply(time_string_to_seconds)/100"
   ],
   "metadata": {
    "collapsed": false
   }
  },
  {
   "cell_type": "code",
   "execution_count": 366,
   "outputs": [
    {
     "data": {
      "text/plain": "     idx    time  split   kV  pump\n0      1    2.01   2.01  2.5     2\n1      2    9.25   7.24  2.5     2\n2      3   11.92   2.67  2.5     2\n3      4   20.35   8.43  2.5     2\n4      5   23.52   3.17  2.5     2\n..   ...     ...    ...  ...   ...\n389   20  115.02   5.09  4.0     5\n390   21  137.42  22.40  4.0     5\n391   22  146.68   9.26  4.0     5\n392   23  180.29  33.61  4.0     5\n393   24  196.41  16.12  4.0     5\n\n[394 rows x 5 columns]",
      "text/html": "<div>\n<style scoped>\n    .dataframe tbody tr th:only-of-type {\n        vertical-align: middle;\n    }\n\n    .dataframe tbody tr th {\n        vertical-align: top;\n    }\n\n    .dataframe thead th {\n        text-align: right;\n    }\n</style>\n<table border=\"1\" class=\"dataframe\">\n  <thead>\n    <tr style=\"text-align: right;\">\n      <th></th>\n      <th>idx</th>\n      <th>time</th>\n      <th>split</th>\n      <th>kV</th>\n      <th>pump</th>\n    </tr>\n  </thead>\n  <tbody>\n    <tr>\n      <th>0</th>\n      <td>1</td>\n      <td>2.01</td>\n      <td>2.01</td>\n      <td>2.5</td>\n      <td>2</td>\n    </tr>\n    <tr>\n      <th>1</th>\n      <td>2</td>\n      <td>9.25</td>\n      <td>7.24</td>\n      <td>2.5</td>\n      <td>2</td>\n    </tr>\n    <tr>\n      <th>2</th>\n      <td>3</td>\n      <td>11.92</td>\n      <td>2.67</td>\n      <td>2.5</td>\n      <td>2</td>\n    </tr>\n    <tr>\n      <th>3</th>\n      <td>4</td>\n      <td>20.35</td>\n      <td>8.43</td>\n      <td>2.5</td>\n      <td>2</td>\n    </tr>\n    <tr>\n      <th>4</th>\n      <td>5</td>\n      <td>23.52</td>\n      <td>3.17</td>\n      <td>2.5</td>\n      <td>2</td>\n    </tr>\n    <tr>\n      <th>...</th>\n      <td>...</td>\n      <td>...</td>\n      <td>...</td>\n      <td>...</td>\n      <td>...</td>\n    </tr>\n    <tr>\n      <th>389</th>\n      <td>20</td>\n      <td>115.02</td>\n      <td>5.09</td>\n      <td>4.0</td>\n      <td>5</td>\n    </tr>\n    <tr>\n      <th>390</th>\n      <td>21</td>\n      <td>137.42</td>\n      <td>22.40</td>\n      <td>4.0</td>\n      <td>5</td>\n    </tr>\n    <tr>\n      <th>391</th>\n      <td>22</td>\n      <td>146.68</td>\n      <td>9.26</td>\n      <td>4.0</td>\n      <td>5</td>\n    </tr>\n    <tr>\n      <th>392</th>\n      <td>23</td>\n      <td>180.29</td>\n      <td>33.61</td>\n      <td>4.0</td>\n      <td>5</td>\n    </tr>\n    <tr>\n      <th>393</th>\n      <td>24</td>\n      <td>196.41</td>\n      <td>16.12</td>\n      <td>4.0</td>\n      <td>5</td>\n    </tr>\n  </tbody>\n</table>\n<p>394 rows × 5 columns</p>\n</div>"
     },
     "execution_count": 366,
     "metadata": {},
     "output_type": "execute_result"
    }
   ],
   "source": [
    "data"
   ],
   "metadata": {
    "collapsed": false
   }
  },
  {
   "cell_type": "code",
   "execution_count": 367,
   "outputs": [],
   "source": [
    "data[\"kV\"] = data[\"kV\"].astype(\"float\")\n",
    "data[\"pump\"] = data[\"pump\"].astype(\"float\")"
   ],
   "metadata": {
    "collapsed": false
   }
  },
  {
   "cell_type": "code",
   "execution_count": 368,
   "outputs": [],
   "source": [
    "data[\"1/split\"] = 1/data[\"split\"]"
   ],
   "metadata": {
    "collapsed": false
   }
  },
  {
   "cell_type": "code",
   "execution_count": 369,
   "outputs": [],
   "source": [
    "data[\"terr\"] = [.3 for i in range(len(data))]\n",
    "data[\"split_err\"] = [.3 for i in range(len(data))]"
   ],
   "metadata": {
    "collapsed": false
   }
  },
  {
   "cell_type": "code",
   "execution_count": 370,
   "outputs": [],
   "source": [
    "data[\"1/split_err\"] = [propagate_error_power(data[\"1/split\"][i], -1, data[\"split\"][i], data[\"split_err\"][i]) for i in range(len(data))]"
   ],
   "metadata": {
    "collapsed": false
   }
  },
  {
   "cell_type": "code",
   "execution_count": 371,
   "outputs": [],
   "source": [
    "kv_list = data[\"kV\"].unique()\n",
    "pump_list = data[\"pump\"].unique()"
   ],
   "metadata": {
    "collapsed": false
   }
  },
  {
   "cell_type": "code",
   "execution_count": 372,
   "outputs": [
    {
     "name": "stderr",
     "output_type": "stream",
     "text": [
      "/var/folders/mb/djnxt02s4vqbng178bwhk1280000gn/T/ipykernel_90149/1151046482.py:8: SettingWithCopyWarning: \n",
      "A value is trying to be set on a copy of a slice from a DataFrame.\n",
      "Try using .loc[row_indexer,col_indexer] = value instead\n",
      "\n",
      "See the caveats in the documentation: https://pandas.pydata.org/pandas-docs/stable/user_guide/indexing.html#returning-a-view-versus-a-copy\n",
      "  tmp[\"mean_time\"] = tmp[\"time\"].rolling(2).mean()\n",
      "/var/folders/mb/djnxt02s4vqbng178bwhk1280000gn/T/ipykernel_90149/1151046482.py:8: SettingWithCopyWarning: \n",
      "A value is trying to be set on a copy of a slice from a DataFrame.\n",
      "Try using .loc[row_indexer,col_indexer] = value instead\n",
      "\n",
      "See the caveats in the documentation: https://pandas.pydata.org/pandas-docs/stable/user_guide/indexing.html#returning-a-view-versus-a-copy\n",
      "  tmp[\"mean_time\"] = tmp[\"time\"].rolling(2).mean()\n",
      "/var/folders/mb/djnxt02s4vqbng178bwhk1280000gn/T/ipykernel_90149/1151046482.py:8: SettingWithCopyWarning: \n",
      "A value is trying to be set on a copy of a slice from a DataFrame.\n",
      "Try using .loc[row_indexer,col_indexer] = value instead\n",
      "\n",
      "See the caveats in the documentation: https://pandas.pydata.org/pandas-docs/stable/user_guide/indexing.html#returning-a-view-versus-a-copy\n",
      "  tmp[\"mean_time\"] = tmp[\"time\"].rolling(2).mean()\n",
      "/var/folders/mb/djnxt02s4vqbng178bwhk1280000gn/T/ipykernel_90149/1151046482.py:8: SettingWithCopyWarning: \n",
      "A value is trying to be set on a copy of a slice from a DataFrame.\n",
      "Try using .loc[row_indexer,col_indexer] = value instead\n",
      "\n",
      "See the caveats in the documentation: https://pandas.pydata.org/pandas-docs/stable/user_guide/indexing.html#returning-a-view-versus-a-copy\n",
      "  tmp[\"mean_time\"] = tmp[\"time\"].rolling(2).mean()\n",
      "/var/folders/mb/djnxt02s4vqbng178bwhk1280000gn/T/ipykernel_90149/1151046482.py:8: SettingWithCopyWarning: \n",
      "A value is trying to be set on a copy of a slice from a DataFrame.\n",
      "Try using .loc[row_indexer,col_indexer] = value instead\n",
      "\n",
      "See the caveats in the documentation: https://pandas.pydata.org/pandas-docs/stable/user_guide/indexing.html#returning-a-view-versus-a-copy\n",
      "  tmp[\"mean_time\"] = tmp[\"time\"].rolling(2).mean()\n",
      "/var/folders/mb/djnxt02s4vqbng178bwhk1280000gn/T/ipykernel_90149/1151046482.py:8: SettingWithCopyWarning: \n",
      "A value is trying to be set on a copy of a slice from a DataFrame.\n",
      "Try using .loc[row_indexer,col_indexer] = value instead\n",
      "\n",
      "See the caveats in the documentation: https://pandas.pydata.org/pandas-docs/stable/user_guide/indexing.html#returning-a-view-versus-a-copy\n",
      "  tmp[\"mean_time\"] = tmp[\"time\"].rolling(2).mean()\n",
      "/var/folders/mb/djnxt02s4vqbng178bwhk1280000gn/T/ipykernel_90149/1151046482.py:8: SettingWithCopyWarning: \n",
      "A value is trying to be set on a copy of a slice from a DataFrame.\n",
      "Try using .loc[row_indexer,col_indexer] = value instead\n",
      "\n",
      "See the caveats in the documentation: https://pandas.pydata.org/pandas-docs/stable/user_guide/indexing.html#returning-a-view-versus-a-copy\n",
      "  tmp[\"mean_time\"] = tmp[\"time\"].rolling(2).mean()\n",
      "/var/folders/mb/djnxt02s4vqbng178bwhk1280000gn/T/ipykernel_90149/1151046482.py:8: SettingWithCopyWarning: \n",
      "A value is trying to be set on a copy of a slice from a DataFrame.\n",
      "Try using .loc[row_indexer,col_indexer] = value instead\n",
      "\n",
      "See the caveats in the documentation: https://pandas.pydata.org/pandas-docs/stable/user_guide/indexing.html#returning-a-view-versus-a-copy\n",
      "  tmp[\"mean_time\"] = tmp[\"time\"].rolling(2).mean()\n",
      "/var/folders/mb/djnxt02s4vqbng178bwhk1280000gn/T/ipykernel_90149/1151046482.py:8: SettingWithCopyWarning: \n",
      "A value is trying to be set on a copy of a slice from a DataFrame.\n",
      "Try using .loc[row_indexer,col_indexer] = value instead\n",
      "\n",
      "See the caveats in the documentation: https://pandas.pydata.org/pandas-docs/stable/user_guide/indexing.html#returning-a-view-versus-a-copy\n",
      "  tmp[\"mean_time\"] = tmp[\"time\"].rolling(2).mean()\n",
      "/var/folders/mb/djnxt02s4vqbng178bwhk1280000gn/T/ipykernel_90149/1151046482.py:8: SettingWithCopyWarning: \n",
      "A value is trying to be set on a copy of a slice from a DataFrame.\n",
      "Try using .loc[row_indexer,col_indexer] = value instead\n",
      "\n",
      "See the caveats in the documentation: https://pandas.pydata.org/pandas-docs/stable/user_guide/indexing.html#returning-a-view-versus-a-copy\n",
      "  tmp[\"mean_time\"] = tmp[\"time\"].rolling(2).mean()\n",
      "/var/folders/mb/djnxt02s4vqbng178bwhk1280000gn/T/ipykernel_90149/1151046482.py:8: SettingWithCopyWarning: \n",
      "A value is trying to be set on a copy of a slice from a DataFrame.\n",
      "Try using .loc[row_indexer,col_indexer] = value instead\n",
      "\n",
      "See the caveats in the documentation: https://pandas.pydata.org/pandas-docs/stable/user_guide/indexing.html#returning-a-view-versus-a-copy\n",
      "  tmp[\"mean_time\"] = tmp[\"time\"].rolling(2).mean()\n",
      "/var/folders/mb/djnxt02s4vqbng178bwhk1280000gn/T/ipykernel_90149/1151046482.py:8: SettingWithCopyWarning: \n",
      "A value is trying to be set on a copy of a slice from a DataFrame.\n",
      "Try using .loc[row_indexer,col_indexer] = value instead\n",
      "\n",
      "See the caveats in the documentation: https://pandas.pydata.org/pandas-docs/stable/user_guide/indexing.html#returning-a-view-versus-a-copy\n",
      "  tmp[\"mean_time\"] = tmp[\"time\"].rolling(2).mean()\n",
      "/var/folders/mb/djnxt02s4vqbng178bwhk1280000gn/T/ipykernel_90149/1151046482.py:8: SettingWithCopyWarning: \n",
      "A value is trying to be set on a copy of a slice from a DataFrame.\n",
      "Try using .loc[row_indexer,col_indexer] = value instead\n",
      "\n",
      "See the caveats in the documentation: https://pandas.pydata.org/pandas-docs/stable/user_guide/indexing.html#returning-a-view-versus-a-copy\n",
      "  tmp[\"mean_time\"] = tmp[\"time\"].rolling(2).mean()\n",
      "/var/folders/mb/djnxt02s4vqbng178bwhk1280000gn/T/ipykernel_90149/1151046482.py:8: SettingWithCopyWarning: \n",
      "A value is trying to be set on a copy of a slice from a DataFrame.\n",
      "Try using .loc[row_indexer,col_indexer] = value instead\n",
      "\n",
      "See the caveats in the documentation: https://pandas.pydata.org/pandas-docs/stable/user_guide/indexing.html#returning-a-view-versus-a-copy\n",
      "  tmp[\"mean_time\"] = tmp[\"time\"].rolling(2).mean()\n",
      "/var/folders/mb/djnxt02s4vqbng178bwhk1280000gn/T/ipykernel_90149/1151046482.py:8: SettingWithCopyWarning: \n",
      "A value is trying to be set on a copy of a slice from a DataFrame.\n",
      "Try using .loc[row_indexer,col_indexer] = value instead\n",
      "\n",
      "See the caveats in the documentation: https://pandas.pydata.org/pandas-docs/stable/user_guide/indexing.html#returning-a-view-versus-a-copy\n",
      "  tmp[\"mean_time\"] = tmp[\"time\"].rolling(2).mean()\n",
      "/var/folders/mb/djnxt02s4vqbng178bwhk1280000gn/T/ipykernel_90149/1151046482.py:8: SettingWithCopyWarning: \n",
      "A value is trying to be set on a copy of a slice from a DataFrame.\n",
      "Try using .loc[row_indexer,col_indexer] = value instead\n",
      "\n",
      "See the caveats in the documentation: https://pandas.pydata.org/pandas-docs/stable/user_guide/indexing.html#returning-a-view-versus-a-copy\n",
      "  tmp[\"mean_time\"] = tmp[\"time\"].rolling(2).mean()\n"
     ]
    },
    {
     "name": "stdout",
     "output_type": "stream",
     "text": [
      " FCN=3357.1 FROM MIGRAD    STATUS=CONVERGED      73 CALLS          74 TOTAL\n",
      "                     EDM=7.45075e-10    STRATEGY= 1      ERROR MATRIX ACCURATE \n",
      "  EXT PARAMETER                                   STEP         FIRST   \n",
      "  NO.   NAME      VALUE            ERROR          SIZE      DERIVATIVE \n",
      "   1  p0           1.39474e-01   1.15551e-03   1.13519e-05  -7.25593e-02\n",
      "   2  p1           1.03833e-02   3.15335e-05   3.09792e-07   1.68949e+00\n",
      " FCN=837.392 FROM MIGRAD    STATUS=CONVERGED     142 CALLS         143 TOTAL\n",
      "                     EDM=1.43162e-11    STRATEGY= 1      ERROR MATRIX ACCURATE \n",
      "  EXT PARAMETER                                   STEP         FIRST   \n",
      "  NO.   NAME      VALUE            ERROR          SIZE      DERIVATIVE \n",
      "   1  p0           1.74545e-01   2.04512e-03   8.84573e-06   1.36554e-03\n",
      "   2  p1           1.13010e-02   6.01626e-05   2.60223e-07   4.36063e-02\n",
      " FCN=3092.91 FROM MIGRAD    STATUS=CONVERGED     123 CALLS         124 TOTAL\n",
      "                     EDM=7.4528e-07    STRATEGY= 1      ERROR MATRIX ACCURATE \n",
      "  EXT PARAMETER                                   STEP         FIRST   \n",
      "  NO.   NAME      VALUE            ERROR          SIZE      DERIVATIVE \n",
      "   1  p0           2.16934e-01   3.65720e-03   3.20558e-05  -1.01907e+00\n",
      "   2  p1           1.25552e-02   1.13184e-04   9.92274e-07   2.93198e+01\n",
      " FCN=6383.16 FROM MIGRAD    STATUS=CONVERGED     135 CALLS         136 TOTAL\n",
      "                     EDM=1.08528e-06    STRATEGY= 1      ERROR MATRIX ACCURATE \n",
      "  EXT PARAMETER                                   STEP         FIRST   \n",
      "  NO.   NAME      VALUE            ERROR          SIZE      DERIVATIVE \n",
      "   1  p0           1.84881e-01   2.52272e-03   3.22411e-05  -1.24625e+00\n",
      "   2  p1           1.08423e-02   7.46361e-05   9.54106e-07   2.56844e+01\n",
      " FCN=2818.83 FROM MIGRAD    STATUS=CONVERGED     140 CALLS         141 TOTAL\n",
      "                     EDM=9.9603e-09    STRATEGY= 1      ERROR MATRIX ACCURATE \n",
      "  EXT PARAMETER                                   STEP         FIRST   \n",
      "  NO.   NAME      VALUE            ERROR          SIZE      DERIVATIVE \n",
      "   1  p0           1.47862e-01   1.82998e-03   1.36144e-05   1.54460e-01\n",
      "   2  p1           9.46373e-03   5.86974e-05   4.36944e-07  -6.58005e+00\n",
      " FCN=4080.9 FROM MIGRAD    STATUS=CONVERGED     151 CALLS         152 TOTAL\n",
      "                     EDM=1.93951e-09    STRATEGY= 1      ERROR MATRIX ACCURATE \n",
      "  EXT PARAMETER                                   STEP         FIRST   \n",
      "  NO.   NAME      VALUE            ERROR          SIZE      DERIVATIVE \n",
      "   1  p0           2.01688e-01   3.22850e-03   3.00762e-05  -6.34146e-02\n",
      "   2  p1           1.13883e-02   9.53120e-05   8.87915e-07   1.92535e+00\n",
      " FCN=2563.35 FROM MIGRAD    STATUS=CONVERGED     133 CALLS         134 TOTAL\n",
      "                     EDM=5.61431e-09    STRATEGY= 1      ERROR MATRIX ACCURATE \n",
      "  EXT PARAMETER                                   STEP         FIRST   \n",
      "  NO.   NAME      VALUE            ERROR          SIZE      DERIVATIVE \n",
      "   1  p0           1.69222e-01   2.74749e-03   1.74731e-05  -1.49461e-01\n",
      "   2  p1           8.52025e-03   8.11414e-05   5.16347e-07   4.79634e+00\n",
      " FCN=2070.99 FROM MIGRAD    STATUS=CONVERGED     161 CALLS         162 TOTAL\n",
      "                     EDM=2.5762e-11    STRATEGY= 1      ERROR MATRIX ACCURATE \n",
      "  EXT PARAMETER                                   STEP         FIRST   \n",
      "  NO.   NAME      VALUE            ERROR          SIZE      DERIVATIVE \n",
      "   1  p0           3.12127e-01   3.01446e-03   2.35170e-05  -6.41914e-03\n",
      "   2  p1           1.16874e-02   3.65756e-05   2.85338e-07   5.58887e-01\n",
      " FCN=2273.96 FROM MIGRAD    STATUS=CONVERGED     127 CALLS         128 TOTAL\n",
      "                     EDM=1.1761e-09    STRATEGY= 1      ERROR MATRIX ACCURATE \n",
      "  EXT PARAMETER                                   STEP         FIRST   \n",
      "  NO.   NAME      VALUE            ERROR          SIZE      DERIVATIVE \n",
      "   1  p0           1.59586e-01   2.60744e-03   1.65152e-05  -1.97878e-02\n",
      "   2  p1           8.97878e-03   9.23392e-05   5.84886e-07   1.04047e+00\n",
      " FCN=3267.25 FROM MIGRAD    STATUS=CONVERGED     154 CALLS         155 TOTAL\n",
      "                     EDM=6.23512e-10    STRATEGY= 1      ERROR MATRIX ACCURATE \n",
      "  EXT PARAMETER                                   STEP         FIRST   \n",
      "  NO.   NAME      VALUE            ERROR          SIZE      DERIVATIVE \n",
      "   1  p0           1.93391e-01   3.63484e-03   2.36137e-05  -1.93867e-02\n",
      "   2  p1           9.67166e-03   9.59893e-05   6.23610e-07   3.88154e-01\n",
      " FCN=792.891 FROM MIGRAD    STATUS=CONVERGED     131 CALLS         132 TOTAL\n",
      "                     EDM=3.48578e-07    STRATEGY= 1      ERROR MATRIX ACCURATE \n",
      "  EXT PARAMETER                                   STEP         FIRST   \n",
      "  NO.   NAME      VALUE            ERROR          SIZE      DERIVATIVE \n",
      "   1  p0           2.05122e-01   2.67879e-03   1.12826e-05  -8.89579e-01\n",
      "   2  p1           8.70568e-03   6.16240e-05   2.59573e-07   4.33994e+01\n",
      " FCN=996.192 FROM MIGRAD    STATUS=CONVERGED     158 CALLS         159 TOTAL\n",
      "                     EDM=7.96857e-07    STRATEGY= 1      ERROR MATRIX ACCURATE \n",
      "  EXT PARAMETER                                   STEP         FIRST   \n",
      "  NO.   NAME      VALUE            ERROR          SIZE      DERIVATIVE \n",
      "   1  p0           4.55525e-01   7.01453e-03   4.03495e-05  -5.90436e-03\n",
      "   2  p1           1.57356e-02   9.34917e-05   5.38137e-07  -1.30911e+01\n",
      " FCN=5298.4 FROM MIGRAD    STATUS=CONVERGED     162 CALLS         163 TOTAL\n",
      "                     EDM=3.76184e-09    STRATEGY= 1      ERROR MATRIX ACCURATE \n",
      "  EXT PARAMETER                                   STEP         FIRST   \n",
      "  NO.   NAME      VALUE            ERROR          SIZE      DERIVATIVE \n",
      "   1  p0           1.41277e-01   2.75588e-03   2.37953e-05  -6.93208e-02\n",
      "   2  p1           1.04973e-02   1.23230e-04   1.06404e-06   2.09851e+00\n",
      " FCN=3125.95 FROM MIGRAD    STATUS=CONVERGED     158 CALLS         159 TOTAL\n",
      "                     EDM=2.65581e-11    STRATEGY= 1      ERROR MATRIX ACCURATE \n",
      "  EXT PARAMETER                                   STEP         FIRST   \n",
      "  NO.   NAME      VALUE            ERROR          SIZE      DERIVATIVE \n",
      "   1  p0           2.07325e-01   2.37649e-03   2.04939e-05   9.00892e-04\n",
      "   2  p1           1.09992e-02   5.10319e-05   4.40081e-07   1.02392e-01\n",
      " FCN=4063.98 FROM MIGRAD    STATUS=CONVERGED     152 CALLS         153 TOTAL\n",
      "                     EDM=9.6415e-10    STRATEGY= 1      ERROR MATRIX ACCURATE \n",
      "  EXT PARAMETER                                   STEP         FIRST   \n",
      "  NO.   NAME      VALUE            ERROR          SIZE      DERIVATIVE \n",
      "   1  p0           2.07773e-01   3.46189e-03   3.03737e-05  -4.49992e-02\n",
      "   2  p1           9.89924e-03   8.85172e-05   7.76696e-07   1.69564e+00\n",
      " FCN=2105.04 FROM MIGRAD    STATUS=CONVERGED     150 CALLS         151 TOTAL\n",
      "                     EDM=2.93165e-08    STRATEGY= 1      ERROR MATRIX ACCURATE \n",
      "  EXT PARAMETER                                   STEP         FIRST   \n",
      "  NO.   NAME      VALUE            ERROR          SIZE      DERIVATIVE \n",
      "   1  p0           1.88825e-01   3.64808e-03   2.52073e-05  -1.40498e-01\n",
      "   2  p1           1.09778e-02   1.46515e-04   1.01244e-06   4.57976e+00\n"
     ]
    },
    {
     "name": "stderr",
     "output_type": "stream",
     "text": [
      "Info in <TCanvas::Print>: png file ../plots/2.5_2.0.png has been created\n",
      "Info in <TCanvas::Print>: png file ../plots/2.5_3.0.png has been created\n",
      "Info in <TCanvas::Print>: png file ../plots/2.5_4.0.png has been created\n",
      "Info in <TCanvas::Print>: png file ../plots/2.5_5.0.png has been created\n",
      "Info in <TCanvas::Print>: png file ../plots/3.0_2.0.png has been created\n",
      "Info in <TCanvas::Print>: png file ../plots/3.0_3.0.png has been created\n",
      "Info in <TCanvas::Print>: png file ../plots/3.0_4.0.png has been created\n",
      "Info in <TCanvas::Print>: png file ../plots/3.0_5.0.png has been created\n",
      "Info in <TCanvas::Print>: png file ../plots/3.5_2.0.png has been created\n",
      "Info in <TCanvas::Print>: png file ../plots/3.5_3.0.png has been created\n",
      "Info in <TCanvas::Print>: png file ../plots/3.5_4.0.png has been created\n",
      "Info in <TCanvas::Print>: png file ../plots/3.5_5.0.png has been created\n",
      "Info in <TCanvas::Print>: png file ../plots/4.0_2.0.png has been created\n",
      "Info in <TCanvas::Print>: png file ../plots/4.0_3.0.png has been created\n",
      "Info in <TCanvas::Print>: png file ../plots/4.0_4.0.png has been created\n",
      "Info in <TCanvas::Print>: png file ../plots/4.0_5.0.png has been created\n"
     ]
    },
    {
     "data": {
      "image/png": "[encoded data removed]",
      "text/plain": "<IPython.core.display.Image object>"
     },
     "metadata": {},
     "output_type": "display_data"
    }
   ],
   "source": [
    "#plot mean_time vs 1/split in root\n",
    "\n",
    "p_1_dict= {}\n",
    "chi_sqr = []\n",
    "for kv in kv_list:\n",
    "    for pump in pump_list:\n",
    "        tmp = data[(data[\"kV\"]==kv) & (data[\"pump\"]==pump)]\n",
    "        tmp[\"mean_time\"] = tmp[\"time\"].rolling(2).mean()\n",
    "        tmp = tmp.dropna()\n",
    "\n",
    "        c = r.TCanvas()\n",
    "        gr = r.TGraphErrors(len(tmp), tmp[\"mean_time\"].values, tmp[\"1/split\"].values, tmp[\"terr\"].values, tmp[\"1/split_err\"].values)\n",
    "        gr.SetTitle(\"Charging Period vs Mean Time\")\n",
    "        gr.GetXaxis().SetTitle(\"mean time [s]\")\n",
    "        gr.GetYaxis().SetTitle(\"1/split [1/s]\")\n",
    "\n",
    "        f_1 = r.TF1(\"expfit\", \"[0]*exp(-[1]*x)\",0,2000)\n",
    "        f_1.SetParameters(0.01,0.01)\n",
    "        f_1.SetLineWidth(3)\n",
    "        f_1.SetLineColor(r.kBlue)\n",
    "        gr.Fit(f_1,\"+\")\n",
    "\n",
    "        p_1 = f_1.GetParameter(1)\n",
    "        p_1_err = f_1.GetParError(1)\n",
    "        if p_1>0:\n",
    "            p_1_dict.update({(kv, pump): (p_1, p_1_err)})\n",
    "            chi_sqr.append(f_1.GetChisquare()/f_1.GetNDF())\n",
    "\n",
    "        gr.Draw(\"AP\")\n",
    "        c.Draw()\n",
    "\n",
    "        #save plot in png\n",
    "        c.SaveAs(\"../plots/{}_{}.png\".format(kv, pump))"
   ],
   "metadata": {
    "collapsed": false
   }
  },
  {
   "cell_type": "code",
   "execution_count": 374,
   "outputs": [],
   "source": [
    "p_1_df = pd.DataFrame.from_dict(p_1_dict, orient=\"index\", columns=[\"p_1\", \"p_1_err\"])"
   ],
   "metadata": {
    "collapsed": false
   }
  },
  {
   "cell_type": "code",
   "execution_count": 428,
   "outputs": [],
   "source": [
    "mean_lambda = weighted_mean(p_1_df, \"p_1\", \"p_1_err\")\n",
    "mean_lambda_err = p_1_df[\"p_1_err\"].mean()"
   ],
   "metadata": {
    "collapsed": false
   }
  },
  {
   "cell_type": "code",
   "execution_count": 429,
   "outputs": [
    {
     "data": {
      "text/plain": "0.01067333002952617"
     },
     "execution_count": 429,
     "metadata": {},
     "output_type": "execute_result"
    }
   ],
   "source": [
    "mean_lambda"
   ],
   "metadata": {
    "collapsed": false
   }
  },
  {
   "cell_type": "code",
   "execution_count": 430,
   "outputs": [
    {
     "data": {
      "text/plain": "8.149873047413655e-05"
     },
     "execution_count": 430,
     "metadata": {},
     "output_type": "execute_result"
    }
   ],
   "source": [
    "mean_lambda_err"
   ],
   "metadata": {
    "collapsed": false
   }
  },
  {
   "cell_type": "code",
   "execution_count": 431,
   "outputs": [],
   "source": [
    "t1_2 = r.TMath.Log(2)/mean_lambda"
   ],
   "metadata": {
    "collapsed": false
   }
  },
  {
   "cell_type": "code",
   "execution_count": 432,
   "outputs": [
    {
     "data": {
      "text/plain": "64.9419795548772"
     },
     "execution_count": 432,
     "metadata": {},
     "output_type": "execute_result"
    }
   ],
   "source": [
    "t1_2"
   ],
   "metadata": {
    "collapsed": false
   }
  },
  {
   "cell_type": "code",
   "execution_count": 433,
   "outputs": [],
   "source": [
    "t1_2_err = propagate_error_divmult(t1_2, r.TMath.Log(2), mean_lambda, 0, mean_lambda_err)"
   ],
   "metadata": {
    "collapsed": false
   }
  },
  {
   "cell_type": "code",
   "execution_count": 434,
   "outputs": [
    {
     "data": {
      "text/plain": "0.49587981197605535"
     },
     "execution_count": 434,
     "metadata": {},
     "output_type": "execute_result"
    }
   ],
   "source": [
    "t1_2_err"
   ],
   "metadata": {
    "collapsed": false
   }
  },
  {
   "cell_type": "code",
   "execution_count": 435,
   "outputs": [],
   "source": [
    "# half life of radon 220 gas\n",
    "t1_2_radon_220 = 55.6"
   ],
   "metadata": {
    "collapsed": false
   }
  },
  {
   "cell_type": "code",
   "execution_count": 436,
   "outputs": [],
   "source": [
    "error = (t1_2 - t1_2_radon_220)/t1_2_radon_220"
   ],
   "metadata": {
    "collapsed": false
   }
  },
  {
   "cell_type": "code",
   "execution_count": 437,
   "outputs": [
    {
     "data": {
      "text/plain": "0.16802121501577683"
     },
     "execution_count": 437,
     "metadata": {},
     "output_type": "execute_result"
    }
   ],
   "source": [
    "error"
   ],
   "metadata": {
    "collapsed": false
   }
  },
  {
   "cell_type": "code",
   "execution_count": 438,
   "outputs": [],
   "source": [
    "std_away = (t1_2 - t1_2_radon_220)/ t1_2_err"
   ],
   "metadata": {
    "collapsed": false
   }
  },
  {
   "cell_type": "code",
   "execution_count": 439,
   "outputs": [
    {
     "data": {
      "text/plain": "18.839201212184637"
     },
     "execution_count": 439,
     "metadata": {},
     "output_type": "execute_result"
    }
   ],
   "source": [
    "std_away"
   ],
   "metadata": {
    "collapsed": false
   }
  },
  {
   "cell_type": "code",
   "execution_count": 389,
   "outputs": [],
   "source": [
    "p_1_df[\"chi_sqr\"] = chi_sqr"
   ],
   "metadata": {
    "collapsed": false
   }
  },
  {
   "cell_type": "code",
   "execution_count": 390,
   "outputs": [
    {
     "data": {
      "text/plain": "[209.81871416028696,\n 64.41474425490509,\n 147.28147990640372,\n 319.15793145430104,\n 148.35940913034054,\n 177.43039575485847,\n 94.93874001022134,\n 76.70347816722136,\n 113.69802757053404,\n 130.68983557833417,\n 28.3175256064429,\n 39.84767689201103,\n 353.22649258930556,\n 148.85493466271078,\n 162.55939982020615,\n 100.24016608625053]"
     },
     "execution_count": 390,
     "metadata": {},
     "output_type": "execute_result"
    }
   ],
   "source": [
    "chi_sqr"
   ],
   "metadata": {
    "collapsed": false
   }
  },
  {
   "cell_type": "markdown",
   "source": [
    "## half life vs pump analysis"
   ],
   "metadata": {
    "collapsed": false
   }
  },
  {
   "cell_type": "code",
   "execution_count": 391,
   "outputs": [],
   "source": [
    "hf_pump = p_1_df[:4]"
   ],
   "metadata": {
    "collapsed": false
   }
  },
  {
   "cell_type": "code",
   "execution_count": 392,
   "outputs": [
    {
     "data": {
      "text/plain": "                 p_1   p_1_err     chi_sqr\n(2.5, 2.0)  0.010383  0.000032  209.818714\n(2.5, 3.0)  0.011301  0.000060   64.414744\n(2.5, 4.0)  0.012555  0.000113  147.281480\n(2.5, 5.0)  0.010842  0.000075  319.157931",
      "text/html": "<div>\n<style scoped>\n    .dataframe tbody tr th:only-of-type {\n        vertical-align: middle;\n    }\n\n    .dataframe tbody tr th {\n        vertical-align: top;\n    }\n\n    .dataframe thead th {\n        text-align: right;\n    }\n</style>\n<table border=\"1\" class=\"dataframe\">\n  <thead>\n    <tr style=\"text-align: right;\">\n      <th></th>\n      <th>p_1</th>\n      <th>p_1_err</th>\n      <th>chi_sqr</th>\n    </tr>\n  </thead>\n  <tbody>\n    <tr>\n      <th>(2.5, 2.0)</th>\n      <td>0.010383</td>\n      <td>0.000032</td>\n      <td>209.818714</td>\n    </tr>\n    <tr>\n      <th>(2.5, 3.0)</th>\n      <td>0.011301</td>\n      <td>0.000060</td>\n      <td>64.414744</td>\n    </tr>\n    <tr>\n      <th>(2.5, 4.0)</th>\n      <td>0.012555</td>\n      <td>0.000113</td>\n      <td>147.281480</td>\n    </tr>\n    <tr>\n      <th>(2.5, 5.0)</th>\n      <td>0.010842</td>\n      <td>0.000075</td>\n      <td>319.157931</td>\n    </tr>\n  </tbody>\n</table>\n</div>"
     },
     "execution_count": 392,
     "metadata": {},
     "output_type": "execute_result"
    }
   ],
   "source": [
    "hf_pump"
   ],
   "metadata": {
    "collapsed": false
   }
  },
  {
   "cell_type": "code",
   "execution_count": 393,
   "outputs": [
    {
     "name": "stderr",
     "output_type": "stream",
     "text": [
      "/var/folders/mb/djnxt02s4vqbng178bwhk1280000gn/T/ipykernel_90149/1279437296.py:1: SettingWithCopyWarning: \n",
      "A value is trying to be set on a copy of a slice from a DataFrame.\n",
      "Try using .loc[row_indexer,col_indexer] = value instead\n",
      "\n",
      "See the caveats in the documentation: https://pandas.pydata.org/pandas-docs/stable/user_guide/indexing.html#returning-a-view-versus-a-copy\n",
      "  hf_pump[\"half_life\"] = r.TMath.Log(2)/hf_pump[\"p_1\"]\n"
     ]
    }
   ],
   "source": [
    "hf_pump[\"half_life\"] = r.TMath.Log(2)/hf_pump[\"p_1\"]"
   ],
   "metadata": {
    "collapsed": false
   }
  },
  {
   "cell_type": "code",
   "execution_count": 394,
   "outputs": [
    {
     "name": "stderr",
     "output_type": "stream",
     "text": [
      "/var/folders/mb/djnxt02s4vqbng178bwhk1280000gn/T/ipykernel_90149/491615329.py:1: SettingWithCopyWarning: \n",
      "A value is trying to be set on a copy of a slice from a DataFrame.\n",
      "Try using .loc[row_indexer,col_indexer] = value instead\n",
      "\n",
      "See the caveats in the documentation: https://pandas.pydata.org/pandas-docs/stable/user_guide/indexing.html#returning-a-view-versus-a-copy\n",
      "  hf_pump[\"half_life_err\"] = [propagate_error_divmult(hf_pump[\"half_life\"][i], r.TMath.Log(2), hf_pump[\"p_1\"][i], 0, hf_pump[\"p_1_err\"][i]) for i in range(len(hf_pump))]\n"
     ]
    }
   ],
   "source": [
    "hf_pump[\"half_life_err\"] = [propagate_error_divmult(hf_pump[\"half_life\"][i], r.TMath.Log(2), hf_pump[\"p_1\"][i], 0, hf_pump[\"p_1_err\"][i]) for i in range(len(hf_pump))]"
   ],
   "metadata": {
    "collapsed": false
   }
  },
  {
   "cell_type": "code",
   "execution_count": 395,
   "outputs": [
    {
     "name": "stderr",
     "output_type": "stream",
     "text": [
      "/var/folders/mb/djnxt02s4vqbng178bwhk1280000gn/T/ipykernel_90149/3882090729.py:1: SettingWithCopyWarning: \n",
      "A value is trying to be set on a copy of a slice from a DataFrame.\n",
      "Try using .loc[row_indexer,col_indexer] = value instead\n",
      "\n",
      "See the caveats in the documentation: https://pandas.pydata.org/pandas-docs/stable/user_guide/indexing.html#returning-a-view-versus-a-copy\n",
      "  hf_pump[\"pump\"] = [hf_pump.index.get_level_values(0)[i][1] for i in range(len(hf_pump))]\n"
     ]
    }
   ],
   "source": [
    "hf_pump[\"pump\"] = [hf_pump.index.get_level_values(0)[i][1] for i in range(len(hf_pump))]"
   ],
   "metadata": {
    "collapsed": false
   }
  },
  {
   "cell_type": "code",
   "execution_count": 396,
   "outputs": [
    {
     "data": {
      "image/png": "[encoded data removed]",
      "text/plain": "<IPython.core.display.Image object>"
     },
     "metadata": {},
     "output_type": "display_data"
    }
   ],
   "source": [
    "#plot half life vs pump\n",
    "c = r.TCanvas()\n",
    "gr = r.TGraphErrors(len(hf_pump), hf_pump[\"pump\"].values, hf_pump[\"half_life\"].values, 0, hf_pump[\"half_life_err\"].values)\n",
    "gr.SetTitle(\"Half life vs # of pumps\")\n",
    "gr.GetXaxis().SetTitle(\"pump\")\n",
    "gr.GetYaxis().SetTitle(\"half life [s]\")\n",
    "\n",
    "#draw a horizontal line at 55.6\n",
    "line = r.TLine(1.7, t1_2_radon_220, 5.3, t1_2_radon_220)\n",
    "line.SetLineColor(r.kRed)\n",
    "line.SetLineWidth(3)\n",
    "gr.Draw(\"AP*\")\n",
    "c.Draw(\"same\")\n",
    "line.Draw(\"same\")"
   ],
   "metadata": {
    "collapsed": false
   }
  },
  {
   "cell_type": "code",
   "execution_count": 397,
   "outputs": [
    {
     "name": "stderr",
     "output_type": "stream",
     "text": [
      "Info in <TCanvas::Print>: png file ../plots/half_life_vs_pump.png has been created\n"
     ]
    }
   ],
   "source": [
    "# save plot in png\n",
    "c.SaveAs(\"../plots/half_life_vs_pump.png\")"
   ],
   "metadata": {
    "collapsed": false
   }
  },
  {
   "cell_type": "code",
   "execution_count": 398,
   "outputs": [],
   "source": [
    "#half life vs kV analysis"
   ],
   "metadata": {
    "collapsed": false
   }
  },
  {
   "cell_type": "code",
   "execution_count": 399,
   "outputs": [],
   "source": [
    "p_1_df[\"kV\"] = [p_1_df.index.get_level_values(0)[i][0] for i in range(len(p_1_df))]\n",
    "p_1_df[\"pump\"] = [p_1_df.index.get_level_values(0)[i][1] for i in range(len(p_1_df))]"
   ],
   "metadata": {
    "collapsed": false
   }
  },
  {
   "cell_type": "code",
   "execution_count": 400,
   "outputs": [],
   "source": [
    "hf_kv = p_1_df[p_1_df.pump==4]"
   ],
   "metadata": {
    "collapsed": false
   }
  },
  {
   "cell_type": "code",
   "execution_count": 401,
   "outputs": [
    {
     "data": {
      "text/plain": "                 p_1   p_1_err     chi_sqr   kV  pump\n(2.5, 4.0)  0.012555  0.000113  147.281480  2.5   4.0\n(3.0, 4.0)  0.008520  0.000081   94.938740  3.0   4.0\n(3.5, 4.0)  0.008706  0.000062   28.317526  3.5   4.0\n(4.0, 4.0)  0.009899  0.000089  162.559400  4.0   4.0",
      "text/html": "<div>\n<style scoped>\n    .dataframe tbody tr th:only-of-type {\n        vertical-align: middle;\n    }\n\n    .dataframe tbody tr th {\n        vertical-align: top;\n    }\n\n    .dataframe thead th {\n        text-align: right;\n    }\n</style>\n<table border=\"1\" class=\"dataframe\">\n  <thead>\n    <tr style=\"text-align: right;\">\n      <th></th>\n      <th>p_1</th>\n      <th>p_1_err</th>\n      <th>chi_sqr</th>\n      <th>kV</th>\n      <th>pump</th>\n    </tr>\n  </thead>\n  <tbody>\n    <tr>\n      <th>(2.5, 4.0)</th>\n      <td>0.012555</td>\n      <td>0.000113</td>\n      <td>147.281480</td>\n      <td>2.5</td>\n      <td>4.0</td>\n    </tr>\n    <tr>\n      <th>(3.0, 4.0)</th>\n      <td>0.008520</td>\n      <td>0.000081</td>\n      <td>94.938740</td>\n      <td>3.0</td>\n      <td>4.0</td>\n    </tr>\n    <tr>\n      <th>(3.5, 4.0)</th>\n      <td>0.008706</td>\n      <td>0.000062</td>\n      <td>28.317526</td>\n      <td>3.5</td>\n      <td>4.0</td>\n    </tr>\n    <tr>\n      <th>(4.0, 4.0)</th>\n      <td>0.009899</td>\n      <td>0.000089</td>\n      <td>162.559400</td>\n      <td>4.0</td>\n      <td>4.0</td>\n    </tr>\n  </tbody>\n</table>\n</div>"
     },
     "execution_count": 401,
     "metadata": {},
     "output_type": "execute_result"
    }
   ],
   "source": [
    "hf_kv"
   ],
   "metadata": {
    "collapsed": false
   }
  },
  {
   "cell_type": "code",
   "execution_count": 402,
   "outputs": [
    {
     "name": "stderr",
     "output_type": "stream",
     "text": [
      "/var/folders/mb/djnxt02s4vqbng178bwhk1280000gn/T/ipykernel_90149/3417811397.py:1: SettingWithCopyWarning: \n",
      "A value is trying to be set on a copy of a slice from a DataFrame.\n",
      "Try using .loc[row_indexer,col_indexer] = value instead\n",
      "\n",
      "See the caveats in the documentation: https://pandas.pydata.org/pandas-docs/stable/user_guide/indexing.html#returning-a-view-versus-a-copy\n",
      "  hf_kv[\"half_life\"] = r.TMath.Log(2)/hf_kv[\"p_1\"]\n"
     ]
    }
   ],
   "source": [
    "hf_kv[\"half_life\"] = r.TMath.Log(2)/hf_kv[\"p_1\"]"
   ],
   "metadata": {
    "collapsed": false
   }
  },
  {
   "cell_type": "code",
   "execution_count": 403,
   "outputs": [
    {
     "name": "stderr",
     "output_type": "stream",
     "text": [
      "/var/folders/mb/djnxt02s4vqbng178bwhk1280000gn/T/ipykernel_90149/4097177517.py:1: SettingWithCopyWarning: \n",
      "A value is trying to be set on a copy of a slice from a DataFrame.\n",
      "Try using .loc[row_indexer,col_indexer] = value instead\n",
      "\n",
      "See the caveats in the documentation: https://pandas.pydata.org/pandas-docs/stable/user_guide/indexing.html#returning-a-view-versus-a-copy\n",
      "  hf_kv[\"half_life_err\"] = [propagate_error_divmult(hf_kv[\"half_life\"][i], r.TMath.Log(2), hf_kv[\"p_1\"][i], 0, hf_kv[\"p_1_err\"][i]) for i in range(len(hf_kv))]\n"
     ]
    }
   ],
   "source": [
    "hf_kv[\"half_life_err\"] = [propagate_error_divmult(hf_kv[\"half_life\"][i], r.TMath.Log(2), hf_kv[\"p_1\"][i], 0, hf_kv[\"p_1_err\"][i]) for i in range(len(hf_kv))]"
   ],
   "metadata": {
    "collapsed": false
   }
  },
  {
   "cell_type": "code",
   "execution_count": 404,
   "outputs": [],
   "source": [
    "#plot half life vs kV"
   ],
   "metadata": {
    "collapsed": false
   }
  },
  {
   "cell_type": "code",
   "execution_count": 405,
   "outputs": [
    {
     "data": {
      "image/png": "[encoded data removed]",
      "text/plain": "<IPython.core.display.Image object>"
     },
     "metadata": {},
     "output_type": "display_data"
    }
   ],
   "source": [
    "c = r.TCanvas()\n",
    "gr = r.TGraphErrors(len(hf_kv), hf_kv[\"kV\"].values, hf_kv[\"half_life\"].values, 0, hf_kv[\"half_life_err\"].values)\n",
    "gr.SetTitle(\"Half life vs kV\")\n",
    "gr.GetXaxis().SetTitle(\"kV\")\n",
    "gr.GetYaxis().SetTitle(\"half life [s]\")\n",
    "#draw a horizontal line at 55.6\n",
    "line = r.TLine(2.35, t1_2_radon_220, 4.15, t1_2_radon_220)\n",
    "line.SetLineColor(r.kRed)\n",
    "line.SetLineWidth(3)\n",
    "gr.Draw(\"AP*\")\n",
    "c.Draw(\"same\")\n",
    "line.Draw(\"same\")"
   ],
   "metadata": {
    "collapsed": false
   }
  },
  {
   "cell_type": "code",
   "execution_count": 406,
   "outputs": [
    {
     "name": "stderr",
     "output_type": "stream",
     "text": [
      "Info in <TCanvas::Print>: png file ../plots/half_life_vs_kv.png has been created\n"
     ]
    }
   ],
   "source": [
    "#save plot in png\n",
    "c.SaveAs(\"../plots/half_life_vs_kv.png\")"
   ],
   "metadata": {
    "collapsed": false
   }
  }
 ],
 "metadata": {
  "kernelspec": {
   "display_name": "Python 3",
   "language": "python",
   "name": "python3"
  },
  "language_info": {
   "codemirror_mode": {
    "name": "ipython",
    "version": 2
   },
   "file_extension": ".py",
   "mimetype": "text/x-python",
   "name": "python",
   "nbconvert_exporter": "python",
   "pygments_lexer": "ipython2",
   "version": "2.7.6"
  }
 },
 "nbformat": 4,
 "nbformat_minor": 0
}
